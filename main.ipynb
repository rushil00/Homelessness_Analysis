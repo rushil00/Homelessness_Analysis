{
 "cells": [
  {
   "attachments": {},
   "cell_type": "markdown",
   "metadata": {},
   "source": [
    "This file was made using the bash terminal! YAY!"
   ]
  },
  {
   "attachments": {},
   "cell_type": "markdown",
   "metadata": {},
   "source": [
    "# Aalyzing the Homelessness Prevelant in India!\n",
    "This project aims to analyse the homelessness in India with the dataset obtained from the official government agency. It officially accounts for about 1.77 million Homeless People.\n",
    "\n",
    "Source of Data-set: https://censusindia.gov.in/nada/index.php/catalog/5047"
   ]
  },
  {
   "cell_type": "code",
   "execution_count": 2,
   "metadata": {},
   "outputs": [],
   "source": [
    "#Lets start by importing important libraries\n",
    "import pandas as pd\n",
    "import numpy as np\n",
    "import matplotlib.pyplot as plt\n"
   ]
  },
  {
   "attachments": {},
   "cell_type": "markdown",
   "metadata": {},
   "source": [
    "# Working with dataset:"
   ]
  },
  {
   "cell_type": "code",
   "execution_count": 3,
   "metadata": {},
   "outputs": [
    {
     "data": {
      "text/html": [
       "<div>\n",
       "<style scoped>\n",
       "    .dataframe tbody tr th:only-of-type {\n",
       "        vertical-align: middle;\n",
       "    }\n",
       "\n",
       "    .dataframe tbody tr th {\n",
       "        vertical-align: top;\n",
       "    }\n",
       "\n",
       "    .dataframe thead th {\n",
       "        text-align: right;\n",
       "    }\n",
       "</style>\n",
       "<table border=\"1\" class=\"dataframe\">\n",
       "  <thead>\n",
       "    <tr style=\"text-align: right;\">\n",
       "      <th></th>\n",
       "      <th>State</th>\n",
       "      <th>District</th>\n",
       "      <th>Level</th>\n",
       "      <th>Name</th>\n",
       "      <th>TRU</th>\n",
       "      <th>No_HH</th>\n",
       "      <th>TOT_HL_P</th>\n",
       "      <th>TOT_HL_M</th>\n",
       "      <th>TOT_HL_F</th>\n",
       "      <th>P_06</th>\n",
       "      <th>...</th>\n",
       "      <th>MARG_AL_0_3_F</th>\n",
       "      <th>MARG_HH_0_3_P</th>\n",
       "      <th>MARG_HH_0_3_M</th>\n",
       "      <th>MARG_HH_0_3_F</th>\n",
       "      <th>MARG_OT_0_3_P</th>\n",
       "      <th>MARG_OT_0_3_M</th>\n",
       "      <th>MARG_OT_0_3_F</th>\n",
       "      <th>NON_WORK_P</th>\n",
       "      <th>NON_WORK_M</th>\n",
       "      <th>NON_WORK_F</th>\n",
       "    </tr>\n",
       "  </thead>\n",
       "  <tbody>\n",
       "    <tr>\n",
       "      <th>0</th>\n",
       "      <td>0</td>\n",
       "      <td>0</td>\n",
       "      <td>India</td>\n",
       "      <td>India</td>\n",
       "      <td>Total</td>\n",
       "      <td>449787</td>\n",
       "      <td>1773040</td>\n",
       "      <td>1046871</td>\n",
       "      <td>726169</td>\n",
       "      <td>270605</td>\n",
       "      <td>...</td>\n",
       "      <td>5628</td>\n",
       "      <td>3491</td>\n",
       "      <td>1794</td>\n",
       "      <td>1697</td>\n",
       "      <td>42876</td>\n",
       "      <td>30110</td>\n",
       "      <td>12766</td>\n",
       "      <td>853470</td>\n",
       "      <td>404960</td>\n",
       "      <td>448510</td>\n",
       "    </tr>\n",
       "    <tr>\n",
       "      <th>1</th>\n",
       "      <td>0</td>\n",
       "      <td>0</td>\n",
       "      <td>India</td>\n",
       "      <td>India</td>\n",
       "      <td>Rural</td>\n",
       "      <td>192891</td>\n",
       "      <td>834692</td>\n",
       "      <td>444450</td>\n",
       "      <td>390242</td>\n",
       "      <td>157893</td>\n",
       "      <td>...</td>\n",
       "      <td>5095</td>\n",
       "      <td>2125</td>\n",
       "      <td>973</td>\n",
       "      <td>1152</td>\n",
       "      <td>15330</td>\n",
       "      <td>8894</td>\n",
       "      <td>6436</td>\n",
       "      <td>410230</td>\n",
       "      <td>188678</td>\n",
       "      <td>221552</td>\n",
       "    </tr>\n",
       "    <tr>\n",
       "      <th>2</th>\n",
       "      <td>0</td>\n",
       "      <td>0</td>\n",
       "      <td>India</td>\n",
       "      <td>India</td>\n",
       "      <td>Urban</td>\n",
       "      <td>256896</td>\n",
       "      <td>938348</td>\n",
       "      <td>602421</td>\n",
       "      <td>335927</td>\n",
       "      <td>112712</td>\n",
       "      <td>...</td>\n",
       "      <td>533</td>\n",
       "      <td>1366</td>\n",
       "      <td>821</td>\n",
       "      <td>545</td>\n",
       "      <td>27546</td>\n",
       "      <td>21216</td>\n",
       "      <td>6330</td>\n",
       "      <td>443240</td>\n",
       "      <td>216282</td>\n",
       "      <td>226958</td>\n",
       "    </tr>\n",
       "    <tr>\n",
       "      <th>3</th>\n",
       "      <td>1</td>\n",
       "      <td>0</td>\n",
       "      <td>STATE</td>\n",
       "      <td>JAMMU &amp; KASHMIR</td>\n",
       "      <td>Total</td>\n",
       "      <td>3064</td>\n",
       "      <td>19047</td>\n",
       "      <td>10524</td>\n",
       "      <td>8523</td>\n",
       "      <td>2868</td>\n",
       "      <td>...</td>\n",
       "      <td>75</td>\n",
       "      <td>42</td>\n",
       "      <td>20</td>\n",
       "      <td>22</td>\n",
       "      <td>355</td>\n",
       "      <td>235</td>\n",
       "      <td>120</td>\n",
       "      <td>11188</td>\n",
       "      <td>4611</td>\n",
       "      <td>6577</td>\n",
       "    </tr>\n",
       "    <tr>\n",
       "      <th>4</th>\n",
       "      <td>1</td>\n",
       "      <td>0</td>\n",
       "      <td>STATE</td>\n",
       "      <td>JAMMU &amp; KASHMIR</td>\n",
       "      <td>Rural</td>\n",
       "      <td>1441</td>\n",
       "      <td>8199</td>\n",
       "      <td>4465</td>\n",
       "      <td>3734</td>\n",
       "      <td>1524</td>\n",
       "      <td>...</td>\n",
       "      <td>55</td>\n",
       "      <td>12</td>\n",
       "      <td>7</td>\n",
       "      <td>5</td>\n",
       "      <td>138</td>\n",
       "      <td>82</td>\n",
       "      <td>56</td>\n",
       "      <td>4783</td>\n",
       "      <td>2093</td>\n",
       "      <td>2690</td>\n",
       "    </tr>\n",
       "  </tbody>\n",
       "</table>\n",
       "<p>5 rows × 90 columns</p>\n",
       "</div>"
      ],
      "text/plain": [
       "   State  District  Level             Name    TRU   No_HH  TOT_HL_P  TOT_HL_M  \\\n",
       "0      0         0  India            India  Total  449787   1773040   1046871   \n",
       "1      0         0  India            India  Rural  192891    834692    444450   \n",
       "2      0         0  India            India  Urban  256896    938348    602421   \n",
       "3      1         0  STATE  JAMMU & KASHMIR  Total    3064     19047     10524   \n",
       "4      1         0  STATE  JAMMU & KASHMIR  Rural    1441      8199      4465   \n",
       "\n",
       "   TOT_HL_F    P_06  ...  MARG_AL_0_3_F  MARG_HH_0_3_P  MARG_HH_0_3_M  \\\n",
       "0    726169  270605  ...           5628           3491           1794   \n",
       "1    390242  157893  ...           5095           2125            973   \n",
       "2    335927  112712  ...            533           1366            821   \n",
       "3      8523    2868  ...             75             42             20   \n",
       "4      3734    1524  ...             55             12              7   \n",
       "\n",
       "   MARG_HH_0_3_F  MARG_OT_0_3_P  MARG_OT_0_3_M  MARG_OT_0_3_F  NON_WORK_P  \\\n",
       "0           1697          42876          30110          12766      853470   \n",
       "1           1152          15330           8894           6436      410230   \n",
       "2            545          27546          21216           6330      443240   \n",
       "3             22            355            235            120       11188   \n",
       "4              5            138             82             56        4783   \n",
       "\n",
       "   NON_WORK_M  NON_WORK_F  \n",
       "0      404960      448510  \n",
       "1      188678      221552  \n",
       "2      216282      226958  \n",
       "3        4611        6577  \n",
       "4        2093        2690  \n",
       "\n",
       "[5 rows x 90 columns]"
      ]
     },
     "execution_count": 3,
     "metadata": {},
     "output_type": "execute_result"
    }
   ],
   "source": [
    "#lets see how our dataset would initially look like:\n",
    "dataset = pd.read_excel(\"homelessness_raw.xlsx\")\n",
    "dataset.head()"
   ]
  },
  {
   "cell_type": "code",
   "execution_count": 4,
   "metadata": {},
   "outputs": [
    {
     "name": "stdout",
     "output_type": "stream",
     "text": [
      "['State' 'District' 'Level' 'Name' 'TRU' 'No_HH' 'TOT_HL_P' 'TOT_HL_M'\n",
      " 'TOT_HL_F' 'P_06' 'M_06' 'F_06' 'P_SC' 'M_SC' 'F_SC' 'P_ST' 'M_ST' 'F_ST'\n",
      " 'P_LIT' 'M_LIT' 'F_LIT' 'P_ILL' 'M_ILL' 'F_ILL' 'TOT_WORK_P' 'TOT_WORK_M'\n",
      " 'TOT_WORK_F' 'MAINWORK_P' 'MAINWORK_M' 'MAINWORK_F' 'MAIN_CL_P'\n",
      " 'MAIN_CL_M' 'MAIN_CL_F' 'MAIN_AL_P' 'MAIN_AL_M' 'MAIN_AL_F' 'MAIN_HH_P'\n",
      " 'MAIN_HH_M' 'MAIN_HH_F' 'MAIN_OT_P' 'MAIN_OT_M' 'MAIN_OT_F' 'MARGWORK_P'\n",
      " 'MARGWORK_M' 'MARGWORK_F' 'MARG_CL_P' 'MARG_CL_M' 'MARG_CL_F' 'MARG_AL_P'\n",
      " 'MARG_AL_M' 'MARG_AL_F' 'MARG_HH_P' 'MARG_HH_M' 'MARG_HH_F' 'MARG_OT_P'\n",
      " 'MARG_OT_M' 'MARG_OT_F' 'MARGWORK_3_6_P' 'MARGWORK_3_6_M'\n",
      " 'MARGWORK_3_6_F' 'MARG_CL_3_6_P' 'MARG_CL_3_6_M' 'MARG_CL_3_6_F'\n",
      " 'MARG_AL_3_6_P' 'MARG_AL_3_6_M' 'MARG_AL_3_6_F' 'MARG_HH_3_6_P'\n",
      " 'MARG_HH_3_6_M' 'MARG_HH_3_6_F' 'MARG_OT_3_6_P' 'MARG_OT_3_6_M'\n",
      " 'MARG_OT_3_6_F' 'MARGWORK_0_3_P' 'MARGWORK_0_3_M' 'MARGWORK_0_3_F'\n",
      " 'MARG_CL_0_3_P' 'MARG_CL_0_3_M' 'MARG_CL_0_3_F' 'MARG_AL_0_3_P'\n",
      " 'MARG_AL_0_3_M' 'MARG_AL_0_3_F' 'MARG_HH_0_3_P' 'MARG_HH_0_3_M'\n",
      " 'MARG_HH_0_3_F' 'MARG_OT_0_3_P' 'MARG_OT_0_3_M' 'MARG_OT_0_3_F'\n",
      " 'NON_WORK_P' 'NON_WORK_M' 'NON_WORK_F']\n",
      "\n",
      "there are 90 columns in the Dataset\n"
     ]
    }
   ],
   "source": [
    "#Printing the type of features present:\n",
    "'''li = list(dataset[:0])\n",
    "print('\\n'.join(li))''' #vertically prints the column names.\n",
    "print(dataset.columns.values)\n",
    "print(f'\\nthere are {len(dataset.columns.values)} columns in the Dataset')"
   ]
  },
  {
   "cell_type": "code",
   "execution_count": 5,
   "metadata": {},
   "outputs": [
    {
     "data": {
      "text/html": [
       "<div>\n",
       "<style scoped>\n",
       "    .dataframe tbody tr th:only-of-type {\n",
       "        vertical-align: middle;\n",
       "    }\n",
       "\n",
       "    .dataframe tbody tr th {\n",
       "        vertical-align: top;\n",
       "    }\n",
       "\n",
       "    .dataframe thead th {\n",
       "        text-align: right;\n",
       "    }\n",
       "</style>\n",
       "<table border=\"1\" class=\"dataframe\">\n",
       "  <thead>\n",
       "    <tr style=\"text-align: right;\">\n",
       "      <th></th>\n",
       "      <th>Level</th>\n",
       "      <th>Name</th>\n",
       "    </tr>\n",
       "  </thead>\n",
       "  <tbody>\n",
       "    <tr>\n",
       "      <th>0</th>\n",
       "      <td>India</td>\n",
       "      <td>India</td>\n",
       "    </tr>\n",
       "    <tr>\n",
       "      <th>1</th>\n",
       "      <td>India</td>\n",
       "      <td>India</td>\n",
       "    </tr>\n",
       "    <tr>\n",
       "      <th>2</th>\n",
       "      <td>India</td>\n",
       "      <td>India</td>\n",
       "    </tr>\n",
       "    <tr>\n",
       "      <th>3</th>\n",
       "      <td>STATE</td>\n",
       "      <td>JAMMU &amp; KASHMIR</td>\n",
       "    </tr>\n",
       "    <tr>\n",
       "      <th>4</th>\n",
       "      <td>STATE</td>\n",
       "      <td>JAMMU &amp; KASHMIR</td>\n",
       "    </tr>\n",
       "    <tr>\n",
       "      <th>...</th>\n",
       "      <td>...</td>\n",
       "      <td>...</td>\n",
       "    </tr>\n",
       "    <tr>\n",
       "      <th>2005</th>\n",
       "      <td>DISTRICT</td>\n",
       "      <td>North  &amp; Middle Andaman</td>\n",
       "    </tr>\n",
       "    <tr>\n",
       "      <th>2006</th>\n",
       "      <td>DISTRICT</td>\n",
       "      <td>North  &amp; Middle Andaman</td>\n",
       "    </tr>\n",
       "    <tr>\n",
       "      <th>2007</th>\n",
       "      <td>DISTRICT</td>\n",
       "      <td>South Andaman</td>\n",
       "    </tr>\n",
       "    <tr>\n",
       "      <th>2008</th>\n",
       "      <td>DISTRICT</td>\n",
       "      <td>South Andaman</td>\n",
       "    </tr>\n",
       "    <tr>\n",
       "      <th>2009</th>\n",
       "      <td>DISTRICT</td>\n",
       "      <td>South Andaman</td>\n",
       "    </tr>\n",
       "  </tbody>\n",
       "</table>\n",
       "<p>2010 rows × 2 columns</p>\n",
       "</div>"
      ],
      "text/plain": [
       "         Level                     Name\n",
       "0        India                    India\n",
       "1        India                    India\n",
       "2        India                    India\n",
       "3        STATE          JAMMU & KASHMIR\n",
       "4        STATE          JAMMU & KASHMIR\n",
       "...        ...                      ...\n",
       "2005  DISTRICT  North  & Middle Andaman\n",
       "2006  DISTRICT  North  & Middle Andaman\n",
       "2007  DISTRICT            South Andaman\n",
       "2008  DISTRICT            South Andaman\n",
       "2009  DISTRICT            South Andaman\n",
       "\n",
       "[2010 rows x 2 columns]"
      ]
     },
     "execution_count": 5,
     "metadata": {},
     "output_type": "execute_result"
    }
   ],
   "source": [
    "# <<TEST>> creating a dataframe for collecting certain features only\n",
    "dataFrame_TEMP = pd.DataFrame(dataset , columns= ['State' ,'District', 'Level', 'Name'])\n",
    "dataFrame_TEMP.drop(columns= ['State' , 'District'], axis=1) #dropping unnecessary columns!\n"
   ]
  },
  {
   "attachments": {},
   "cell_type": "markdown",
   "metadata": {},
   "source": [
    "CREATING OUR FINAL DATA for DISTINCT STATES to ANALYSE the country in a statewise fashion first"
   ]
  },
  {
   "cell_type": "code",
   "execution_count": 6,
   "metadata": {},
   "outputs": [
    {
     "data": {
      "text/html": [
       "<div>\n",
       "<style scoped>\n",
       "    .dataframe tbody tr th:only-of-type {\n",
       "        vertical-align: middle;\n",
       "    }\n",
       "\n",
       "    .dataframe tbody tr th {\n",
       "        vertical-align: top;\n",
       "    }\n",
       "\n",
       "    .dataframe thead th {\n",
       "        text-align: right;\n",
       "    }\n",
       "</style>\n",
       "<table border=\"1\" class=\"dataframe\">\n",
       "  <thead>\n",
       "    <tr style=\"text-align: right;\">\n",
       "      <th></th>\n",
       "      <th>State</th>\n",
       "      <th>District</th>\n",
       "      <th>Level</th>\n",
       "      <th>Name</th>\n",
       "      <th>TRU</th>\n",
       "      <th>No_HH</th>\n",
       "      <th>TOT_HL_P</th>\n",
       "      <th>TOT_HL_M</th>\n",
       "      <th>TOT_HL_F</th>\n",
       "      <th>P_06</th>\n",
       "      <th>...</th>\n",
       "      <th>MARG_AL_0_3_F</th>\n",
       "      <th>MARG_HH_0_3_P</th>\n",
       "      <th>MARG_HH_0_3_M</th>\n",
       "      <th>MARG_HH_0_3_F</th>\n",
       "      <th>MARG_OT_0_3_P</th>\n",
       "      <th>MARG_OT_0_3_M</th>\n",
       "      <th>MARG_OT_0_3_F</th>\n",
       "      <th>NON_WORK_P</th>\n",
       "      <th>NON_WORK_M</th>\n",
       "      <th>NON_WORK_F</th>\n",
       "    </tr>\n",
       "  </thead>\n",
       "  <tbody>\n",
       "    <tr>\n",
       "      <th>3</th>\n",
       "      <td>1</td>\n",
       "      <td>0</td>\n",
       "      <td>STATE</td>\n",
       "      <td>JAMMU &amp; KASHMIR</td>\n",
       "      <td>Total</td>\n",
       "      <td>3064</td>\n",
       "      <td>19047</td>\n",
       "      <td>10524</td>\n",
       "      <td>8523</td>\n",
       "      <td>2868</td>\n",
       "      <td>...</td>\n",
       "      <td>75</td>\n",
       "      <td>42</td>\n",
       "      <td>20</td>\n",
       "      <td>22</td>\n",
       "      <td>355</td>\n",
       "      <td>235</td>\n",
       "      <td>120</td>\n",
       "      <td>11188</td>\n",
       "      <td>4611</td>\n",
       "      <td>6577</td>\n",
       "    </tr>\n",
       "    <tr>\n",
       "      <th>4</th>\n",
       "      <td>1</td>\n",
       "      <td>0</td>\n",
       "      <td>STATE</td>\n",
       "      <td>JAMMU &amp; KASHMIR</td>\n",
       "      <td>Rural</td>\n",
       "      <td>1441</td>\n",
       "      <td>8199</td>\n",
       "      <td>4465</td>\n",
       "      <td>3734</td>\n",
       "      <td>1524</td>\n",
       "      <td>...</td>\n",
       "      <td>55</td>\n",
       "      <td>12</td>\n",
       "      <td>7</td>\n",
       "      <td>5</td>\n",
       "      <td>138</td>\n",
       "      <td>82</td>\n",
       "      <td>56</td>\n",
       "      <td>4783</td>\n",
       "      <td>2093</td>\n",
       "      <td>2690</td>\n",
       "    </tr>\n",
       "    <tr>\n",
       "      <th>5</th>\n",
       "      <td>1</td>\n",
       "      <td>0</td>\n",
       "      <td>STATE</td>\n",
       "      <td>JAMMU &amp; KASHMIR</td>\n",
       "      <td>Urban</td>\n",
       "      <td>1623</td>\n",
       "      <td>10848</td>\n",
       "      <td>6059</td>\n",
       "      <td>4789</td>\n",
       "      <td>1344</td>\n",
       "      <td>...</td>\n",
       "      <td>20</td>\n",
       "      <td>30</td>\n",
       "      <td>13</td>\n",
       "      <td>17</td>\n",
       "      <td>217</td>\n",
       "      <td>153</td>\n",
       "      <td>64</td>\n",
       "      <td>6405</td>\n",
       "      <td>2518</td>\n",
       "      <td>3887</td>\n",
       "    </tr>\n",
       "    <tr>\n",
       "      <th>72</th>\n",
       "      <td>2</td>\n",
       "      <td>0</td>\n",
       "      <td>STATE</td>\n",
       "      <td>HIMACHAL PRADESH</td>\n",
       "      <td>Total</td>\n",
       "      <td>935</td>\n",
       "      <td>4098</td>\n",
       "      <td>2481</td>\n",
       "      <td>1617</td>\n",
       "      <td>688</td>\n",
       "      <td>...</td>\n",
       "      <td>15</td>\n",
       "      <td>25</td>\n",
       "      <td>20</td>\n",
       "      <td>5</td>\n",
       "      <td>81</td>\n",
       "      <td>48</td>\n",
       "      <td>33</td>\n",
       "      <td>1800</td>\n",
       "      <td>919</td>\n",
       "      <td>881</td>\n",
       "    </tr>\n",
       "    <tr>\n",
       "      <th>73</th>\n",
       "      <td>2</td>\n",
       "      <td>0</td>\n",
       "      <td>STATE</td>\n",
       "      <td>HIMACHAL PRADESH</td>\n",
       "      <td>Rural</td>\n",
       "      <td>708</td>\n",
       "      <td>3226</td>\n",
       "      <td>1929</td>\n",
       "      <td>1297</td>\n",
       "      <td>543</td>\n",
       "      <td>...</td>\n",
       "      <td>15</td>\n",
       "      <td>19</td>\n",
       "      <td>17</td>\n",
       "      <td>2</td>\n",
       "      <td>76</td>\n",
       "      <td>44</td>\n",
       "      <td>32</td>\n",
       "      <td>1314</td>\n",
       "      <td>642</td>\n",
       "      <td>672</td>\n",
       "    </tr>\n",
       "    <tr>\n",
       "      <th>...</th>\n",
       "      <td>...</td>\n",
       "      <td>...</td>\n",
       "      <td>...</td>\n",
       "      <td>...</td>\n",
       "      <td>...</td>\n",
       "      <td>...</td>\n",
       "      <td>...</td>\n",
       "      <td>...</td>\n",
       "      <td>...</td>\n",
       "      <td>...</td>\n",
       "      <td>...</td>\n",
       "      <td>...</td>\n",
       "      <td>...</td>\n",
       "      <td>...</td>\n",
       "      <td>...</td>\n",
       "      <td>...</td>\n",
       "      <td>...</td>\n",
       "      <td>...</td>\n",
       "      <td>...</td>\n",
       "      <td>...</td>\n",
       "      <td>...</td>\n",
       "    </tr>\n",
       "    <tr>\n",
       "      <th>1984</th>\n",
       "      <td>34</td>\n",
       "      <td>0</td>\n",
       "      <td>STATE</td>\n",
       "      <td>PUDUCHERRY</td>\n",
       "      <td>Rural</td>\n",
       "      <td>33</td>\n",
       "      <td>82</td>\n",
       "      <td>47</td>\n",
       "      <td>35</td>\n",
       "      <td>11</td>\n",
       "      <td>...</td>\n",
       "      <td>0</td>\n",
       "      <td>0</td>\n",
       "      <td>0</td>\n",
       "      <td>0</td>\n",
       "      <td>1</td>\n",
       "      <td>1</td>\n",
       "      <td>0</td>\n",
       "      <td>52</td>\n",
       "      <td>25</td>\n",
       "      <td>27</td>\n",
       "    </tr>\n",
       "    <tr>\n",
       "      <th>1985</th>\n",
       "      <td>34</td>\n",
       "      <td>0</td>\n",
       "      <td>STATE</td>\n",
       "      <td>PUDUCHERRY</td>\n",
       "      <td>Urban</td>\n",
       "      <td>459</td>\n",
       "      <td>1508</td>\n",
       "      <td>730</td>\n",
       "      <td>778</td>\n",
       "      <td>194</td>\n",
       "      <td>...</td>\n",
       "      <td>0</td>\n",
       "      <td>0</td>\n",
       "      <td>0</td>\n",
       "      <td>0</td>\n",
       "      <td>16</td>\n",
       "      <td>11</td>\n",
       "      <td>5</td>\n",
       "      <td>828</td>\n",
       "      <td>341</td>\n",
       "      <td>487</td>\n",
       "    </tr>\n",
       "    <tr>\n",
       "      <th>1998</th>\n",
       "      <td>35</td>\n",
       "      <td>0</td>\n",
       "      <td>STATE</td>\n",
       "      <td>ANDAMAN &amp; NICOBAR ISLANDS</td>\n",
       "      <td>Total</td>\n",
       "      <td>63</td>\n",
       "      <td>95</td>\n",
       "      <td>80</td>\n",
       "      <td>15</td>\n",
       "      <td>3</td>\n",
       "      <td>...</td>\n",
       "      <td>0</td>\n",
       "      <td>0</td>\n",
       "      <td>0</td>\n",
       "      <td>0</td>\n",
       "      <td>0</td>\n",
       "      <td>0</td>\n",
       "      <td>0</td>\n",
       "      <td>36</td>\n",
       "      <td>26</td>\n",
       "      <td>10</td>\n",
       "    </tr>\n",
       "    <tr>\n",
       "      <th>1999</th>\n",
       "      <td>35</td>\n",
       "      <td>0</td>\n",
       "      <td>STATE</td>\n",
       "      <td>ANDAMAN &amp; NICOBAR ISLANDS</td>\n",
       "      <td>Rural</td>\n",
       "      <td>21</td>\n",
       "      <td>30</td>\n",
       "      <td>25</td>\n",
       "      <td>5</td>\n",
       "      <td>0</td>\n",
       "      <td>...</td>\n",
       "      <td>0</td>\n",
       "      <td>0</td>\n",
       "      <td>0</td>\n",
       "      <td>0</td>\n",
       "      <td>0</td>\n",
       "      <td>0</td>\n",
       "      <td>0</td>\n",
       "      <td>9</td>\n",
       "      <td>6</td>\n",
       "      <td>3</td>\n",
       "    </tr>\n",
       "    <tr>\n",
       "      <th>2000</th>\n",
       "      <td>35</td>\n",
       "      <td>0</td>\n",
       "      <td>STATE</td>\n",
       "      <td>ANDAMAN &amp; NICOBAR ISLANDS</td>\n",
       "      <td>Urban</td>\n",
       "      <td>42</td>\n",
       "      <td>65</td>\n",
       "      <td>55</td>\n",
       "      <td>10</td>\n",
       "      <td>3</td>\n",
       "      <td>...</td>\n",
       "      <td>0</td>\n",
       "      <td>0</td>\n",
       "      <td>0</td>\n",
       "      <td>0</td>\n",
       "      <td>0</td>\n",
       "      <td>0</td>\n",
       "      <td>0</td>\n",
       "      <td>27</td>\n",
       "      <td>20</td>\n",
       "      <td>7</td>\n",
       "    </tr>\n",
       "  </tbody>\n",
       "</table>\n",
       "<p>102 rows × 90 columns</p>\n",
       "</div>"
      ],
      "text/plain": [
       "      State  District  Level                       Name    TRU  No_HH  \\\n",
       "3         1         0  STATE            JAMMU & KASHMIR  Total   3064   \n",
       "4         1         0  STATE            JAMMU & KASHMIR  Rural   1441   \n",
       "5         1         0  STATE            JAMMU & KASHMIR  Urban   1623   \n",
       "72        2         0  STATE           HIMACHAL PRADESH  Total    935   \n",
       "73        2         0  STATE           HIMACHAL PRADESH  Rural    708   \n",
       "...     ...       ...    ...                        ...    ...    ...   \n",
       "1984     34         0  STATE                 PUDUCHERRY  Rural     33   \n",
       "1985     34         0  STATE                 PUDUCHERRY  Urban    459   \n",
       "1998     35         0  STATE  ANDAMAN & NICOBAR ISLANDS  Total     63   \n",
       "1999     35         0  STATE  ANDAMAN & NICOBAR ISLANDS  Rural     21   \n",
       "2000     35         0  STATE  ANDAMAN & NICOBAR ISLANDS  Urban     42   \n",
       "\n",
       "      TOT_HL_P  TOT_HL_M  TOT_HL_F  P_06  ...  MARG_AL_0_3_F  MARG_HH_0_3_P  \\\n",
       "3        19047     10524      8523  2868  ...             75             42   \n",
       "4         8199      4465      3734  1524  ...             55             12   \n",
       "5        10848      6059      4789  1344  ...             20             30   \n",
       "72        4098      2481      1617   688  ...             15             25   \n",
       "73        3226      1929      1297   543  ...             15             19   \n",
       "...        ...       ...       ...   ...  ...            ...            ...   \n",
       "1984        82        47        35    11  ...              0              0   \n",
       "1985      1508       730       778   194  ...              0              0   \n",
       "1998        95        80        15     3  ...              0              0   \n",
       "1999        30        25         5     0  ...              0              0   \n",
       "2000        65        55        10     3  ...              0              0   \n",
       "\n",
       "      MARG_HH_0_3_M  MARG_HH_0_3_F  MARG_OT_0_3_P  MARG_OT_0_3_M  \\\n",
       "3                20             22            355            235   \n",
       "4                 7              5            138             82   \n",
       "5                13             17            217            153   \n",
       "72               20              5             81             48   \n",
       "73               17              2             76             44   \n",
       "...             ...            ...            ...            ...   \n",
       "1984              0              0              1              1   \n",
       "1985              0              0             16             11   \n",
       "1998              0              0              0              0   \n",
       "1999              0              0              0              0   \n",
       "2000              0              0              0              0   \n",
       "\n",
       "      MARG_OT_0_3_F  NON_WORK_P  NON_WORK_M  NON_WORK_F  \n",
       "3               120       11188        4611        6577  \n",
       "4                56        4783        2093        2690  \n",
       "5                64        6405        2518        3887  \n",
       "72               33        1800         919         881  \n",
       "73               32        1314         642         672  \n",
       "...             ...         ...         ...         ...  \n",
       "1984              0          52          25          27  \n",
       "1985              5         828         341         487  \n",
       "1998              0          36          26          10  \n",
       "1999              0           9           6           3  \n",
       "2000              0          27          20           7  \n",
       "\n",
       "[102 rows x 90 columns]"
      ]
     },
     "execution_count": 6,
     "metadata": {},
     "output_type": "execute_result"
    }
   ],
   "source": [
    "dataset_s = dataset.loc[(dataset['Level'] == 'STATE') ]\n",
    "dataset_s"
   ]
  },
  {
   "attachments": {},
   "cell_type": "markdown",
   "metadata": {},
   "source": [
    "# Manually converting from Long form to Wide form data using Pandas!\n",
    "Source of Information: https://towardsdatascience.com/reshaping-a-pandas-dataframe-long-to-wide-and-vice-versa-517c7f0995ad#:~:text=Reshape%20From%20Long%20to%20Wide%3A&text=To%20reshape%20the%20dataframe%20from,pivot()%20method.&text=columns%20%3A%20Column%20to%20use%20to,values%20(e.g.%2C%20'Avg."
   ]
  },
  {
   "attachments": {},
   "cell_type": "markdown",
   "metadata": {},
   "source": [
    "QUERY FOR Total HOMELESS RURAL POPULATION in HARYANA"
   ]
  },
  {
   "cell_type": "code",
   "execution_count": 7,
   "metadata": {},
   "outputs": [
    {
     "data": {
      "text/html": [
       "<div>\n",
       "<style scoped>\n",
       "    .dataframe tbody tr th:only-of-type {\n",
       "        vertical-align: middle;\n",
       "    }\n",
       "\n",
       "    .dataframe tbody tr th {\n",
       "        vertical-align: top;\n",
       "    }\n",
       "\n",
       "    .dataframe thead th {\n",
       "        text-align: right;\n",
       "    }\n",
       "</style>\n",
       "<table border=\"1\" class=\"dataframe\">\n",
       "  <thead>\n",
       "    <tr style=\"text-align: right;\">\n",
       "      <th></th>\n",
       "      <th>Name</th>\n",
       "      <th>TRU</th>\n",
       "      <th>TOT_HL_P</th>\n",
       "    </tr>\n",
       "  </thead>\n",
       "  <tbody>\n",
       "    <tr>\n",
       "      <th>4</th>\n",
       "      <td>JAMMU &amp; KASHMIR</td>\n",
       "      <td>Rural</td>\n",
       "      <td>8199</td>\n",
       "    </tr>\n",
       "    <tr>\n",
       "      <th>5</th>\n",
       "      <td>JAMMU &amp; KASHMIR</td>\n",
       "      <td>Urban</td>\n",
       "      <td>10848</td>\n",
       "    </tr>\n",
       "    <tr>\n",
       "      <th>73</th>\n",
       "      <td>HIMACHAL PRADESH</td>\n",
       "      <td>Rural</td>\n",
       "      <td>3226</td>\n",
       "    </tr>\n",
       "    <tr>\n",
       "      <th>74</th>\n",
       "      <td>HIMACHAL PRADESH</td>\n",
       "      <td>Urban</td>\n",
       "      <td>872</td>\n",
       "    </tr>\n",
       "    <tr>\n",
       "      <th>112</th>\n",
       "      <td>PUNJAB</td>\n",
       "      <td>Rural</td>\n",
       "      <td>28340</td>\n",
       "    </tr>\n",
       "    <tr>\n",
       "      <th>...</th>\n",
       "      <td>...</td>\n",
       "      <td>...</td>\n",
       "      <td>...</td>\n",
       "    </tr>\n",
       "    <tr>\n",
       "      <th>1886</th>\n",
       "      <td>TAMIL NADU</td>\n",
       "      <td>Urban</td>\n",
       "      <td>37117</td>\n",
       "    </tr>\n",
       "    <tr>\n",
       "      <th>1984</th>\n",
       "      <td>PUDUCHERRY</td>\n",
       "      <td>Rural</td>\n",
       "      <td>82</td>\n",
       "    </tr>\n",
       "    <tr>\n",
       "      <th>1985</th>\n",
       "      <td>PUDUCHERRY</td>\n",
       "      <td>Urban</td>\n",
       "      <td>1508</td>\n",
       "    </tr>\n",
       "    <tr>\n",
       "      <th>1999</th>\n",
       "      <td>ANDAMAN &amp; NICOBAR ISLANDS</td>\n",
       "      <td>Rural</td>\n",
       "      <td>30</td>\n",
       "    </tr>\n",
       "    <tr>\n",
       "      <th>2000</th>\n",
       "      <td>ANDAMAN &amp; NICOBAR ISLANDS</td>\n",
       "      <td>Urban</td>\n",
       "      <td>65</td>\n",
       "    </tr>\n",
       "  </tbody>\n",
       "</table>\n",
       "<p>68 rows × 3 columns</p>\n",
       "</div>"
      ],
      "text/plain": [
       "                           Name    TRU  TOT_HL_P\n",
       "4               JAMMU & KASHMIR  Rural      8199\n",
       "5               JAMMU & KASHMIR  Urban     10848\n",
       "73             HIMACHAL PRADESH  Rural      3226\n",
       "74             HIMACHAL PRADESH  Urban       872\n",
       "112                      PUNJAB  Rural     28340\n",
       "...                         ...    ...       ...\n",
       "1886                 TAMIL NADU  Urban     37117\n",
       "1984                 PUDUCHERRY  Rural        82\n",
       "1985                 PUDUCHERRY  Urban      1508\n",
       "1999  ANDAMAN & NICOBAR ISLANDS  Rural        30\n",
       "2000  ANDAMAN & NICOBAR ISLANDS  Urban        65\n",
       "\n",
       "[68 rows x 3 columns]"
      ]
     },
     "execution_count": 7,
     "metadata": {},
     "output_type": "execute_result"
    }
   ],
   "source": [
    "data_RuralUrbanPop = pd.DataFrame(dataset_s.loc[(dataset_s['TRU']=='Rural')|(dataset_s['TRU'] == 'Urban')], columns=['Name','TRU' , 'TOT_HL_P'])\n",
    "data_RuralUrbanPop\n"
   ]
  },
  {
   "cell_type": "code",
   "execution_count": 8,
   "metadata": {},
   "outputs": [
    {
     "name": "stdout",
     "output_type": "stream",
     "text": [
      "[28082]\n"
     ]
    }
   ],
   "source": [
    "print(dataset_s.loc[(dataset_s['TRU']=='Rural')& ((dataset_s['Name'] == 'HARYANA'))]['TOT_HL_P'].values)\n",
    "states = list(data_RuralUrbanPop.Name.unique())\n",
    "new_dataFr = {'State': states,'Rural': None,'Urban': None , 'TOT_': None}\n"
   ]
  },
  {
   "cell_type": "code",
   "execution_count": 9,
   "metadata": {},
   "outputs": [
    {
     "name": "stdout",
     "output_type": "stream",
     "text": [
      "{'State': ['JAMMU & KASHMIR', 'HIMACHAL PRADESH', 'PUNJAB', 'CHANDIGARH', 'UTTARAKHAND', 'HARYANA', 'NCT OF DELHI', 'RAJASTHAN', 'UTTAR PRADESH', 'BIHAR', 'SIKKIM', 'ARUNACHAL PRADESH', 'NAGALAND', 'Manipur', 'MIZORAM', 'TRIPURA', 'MEGHALAYA', 'ASSAM', 'WEST BENGAL', 'JHARKHAND', 'ODISHA', 'CHHATTISGARH', 'MADHYA PRADESH', 'GUJARAT', 'DAMAN & DIU', 'DADRA & NAGAR HAVELI', 'MAHARASHTRA', 'ANDHRA PRADESH', 'KARNATAKA', 'GOA', 'KERALA', 'TAMIL NADU', 'PUDUCHERRY', 'ANDAMAN & NICOBAR ISLANDS'], 'Rural': [8199, 3226, 28340, 6, 6268, 28082, 352, 108308, 148196, 32993, 245, 1243, 532, 1881, 48, 1873, 1064, 10392, 29073, 16424, 20008, 17681, 80380, 59484, 146, 723, 99535, 69354, 41262, 1358, 4092, 13812, 82, 30], 'Urban': [10848, 872, 18374, 4133, 5556, 23789, 46724, 73236, 180929, 12591, 32, 313, 344, 1331, 104, 1352, 177, 2527, 104967, 6967, 14053, 6533, 66055, 84822, 591, 281, 111373, 75857, 35473, 1693, 7761, 37117, 1508, 65], 'TOT_': [19047, 4098, 46714, 4139, 11824, 51871, 47076, 181544, 329125, 45584, 277, 1556, 876, 3212, 152, 3225, 1241, 12919, 134040, 23391, 34061, 24214, 146435, 144306, 737, 1004, 210908, 145211, 76735, 3051, 11853, 50929, 1590, 95]}\n"
     ]
    }
   ],
   "source": [
    "\n",
    "new_dataFr['Rural'] = list(dataset_s.loc[(dataset_s['TRU']=='Rural')]['TOT_HL_P'].values)\n",
    "new_dataFr['Urban'] = list(dataset_s.loc[(dataset_s['TRU']=='Urban')]['TOT_HL_P'].values)\n",
    "new_dataFr['TOT_'] = list(dataset_s.loc[(dataset_s['TRU']=='Total')]['TOT_HL_P'].values)\n",
    "print(new_dataFr)\n"
   ]
  },
  {
   "cell_type": "code",
   "execution_count": 10,
   "metadata": {},
   "outputs": [
    {
     "data": {
      "text/html": [
       "<div>\n",
       "<style scoped>\n",
       "    .dataframe tbody tr th:only-of-type {\n",
       "        vertical-align: middle;\n",
       "    }\n",
       "\n",
       "    .dataframe tbody tr th {\n",
       "        vertical-align: top;\n",
       "    }\n",
       "\n",
       "    .dataframe thead th {\n",
       "        text-align: right;\n",
       "    }\n",
       "</style>\n",
       "<table border=\"1\" class=\"dataframe\">\n",
       "  <thead>\n",
       "    <tr style=\"text-align: right;\">\n",
       "      <th></th>\n",
       "      <th>State</th>\n",
       "      <th>Rural</th>\n",
       "      <th>Urban</th>\n",
       "      <th>TOT_</th>\n",
       "    </tr>\n",
       "  </thead>\n",
       "  <tbody>\n",
       "    <tr>\n",
       "      <th>0</th>\n",
       "      <td>JAMMU &amp; KASHMIR</td>\n",
       "      <td>8199</td>\n",
       "      <td>10848</td>\n",
       "      <td>19047</td>\n",
       "    </tr>\n",
       "    <tr>\n",
       "      <th>1</th>\n",
       "      <td>HIMACHAL PRADESH</td>\n",
       "      <td>3226</td>\n",
       "      <td>872</td>\n",
       "      <td>4098</td>\n",
       "    </tr>\n",
       "    <tr>\n",
       "      <th>2</th>\n",
       "      <td>PUNJAB</td>\n",
       "      <td>28340</td>\n",
       "      <td>18374</td>\n",
       "      <td>46714</td>\n",
       "    </tr>\n",
       "    <tr>\n",
       "      <th>3</th>\n",
       "      <td>CHANDIGARH</td>\n",
       "      <td>6</td>\n",
       "      <td>4133</td>\n",
       "      <td>4139</td>\n",
       "    </tr>\n",
       "    <tr>\n",
       "      <th>4</th>\n",
       "      <td>UTTARAKHAND</td>\n",
       "      <td>6268</td>\n",
       "      <td>5556</td>\n",
       "      <td>11824</td>\n",
       "    </tr>\n",
       "    <tr>\n",
       "      <th>5</th>\n",
       "      <td>HARYANA</td>\n",
       "      <td>28082</td>\n",
       "      <td>23789</td>\n",
       "      <td>51871</td>\n",
       "    </tr>\n",
       "    <tr>\n",
       "      <th>6</th>\n",
       "      <td>NCT OF DELHI</td>\n",
       "      <td>352</td>\n",
       "      <td>46724</td>\n",
       "      <td>47076</td>\n",
       "    </tr>\n",
       "    <tr>\n",
       "      <th>7</th>\n",
       "      <td>RAJASTHAN</td>\n",
       "      <td>108308</td>\n",
       "      <td>73236</td>\n",
       "      <td>181544</td>\n",
       "    </tr>\n",
       "    <tr>\n",
       "      <th>8</th>\n",
       "      <td>UTTAR PRADESH</td>\n",
       "      <td>148196</td>\n",
       "      <td>180929</td>\n",
       "      <td>329125</td>\n",
       "    </tr>\n",
       "    <tr>\n",
       "      <th>9</th>\n",
       "      <td>BIHAR</td>\n",
       "      <td>32993</td>\n",
       "      <td>12591</td>\n",
       "      <td>45584</td>\n",
       "    </tr>\n",
       "    <tr>\n",
       "      <th>10</th>\n",
       "      <td>SIKKIM</td>\n",
       "      <td>245</td>\n",
       "      <td>32</td>\n",
       "      <td>277</td>\n",
       "    </tr>\n",
       "    <tr>\n",
       "      <th>11</th>\n",
       "      <td>ARUNACHAL PRADESH</td>\n",
       "      <td>1243</td>\n",
       "      <td>313</td>\n",
       "      <td>1556</td>\n",
       "    </tr>\n",
       "    <tr>\n",
       "      <th>12</th>\n",
       "      <td>NAGALAND</td>\n",
       "      <td>532</td>\n",
       "      <td>344</td>\n",
       "      <td>876</td>\n",
       "    </tr>\n",
       "    <tr>\n",
       "      <th>13</th>\n",
       "      <td>Manipur</td>\n",
       "      <td>1881</td>\n",
       "      <td>1331</td>\n",
       "      <td>3212</td>\n",
       "    </tr>\n",
       "    <tr>\n",
       "      <th>14</th>\n",
       "      <td>MIZORAM</td>\n",
       "      <td>48</td>\n",
       "      <td>104</td>\n",
       "      <td>152</td>\n",
       "    </tr>\n",
       "    <tr>\n",
       "      <th>15</th>\n",
       "      <td>TRIPURA</td>\n",
       "      <td>1873</td>\n",
       "      <td>1352</td>\n",
       "      <td>3225</td>\n",
       "    </tr>\n",
       "    <tr>\n",
       "      <th>16</th>\n",
       "      <td>MEGHALAYA</td>\n",
       "      <td>1064</td>\n",
       "      <td>177</td>\n",
       "      <td>1241</td>\n",
       "    </tr>\n",
       "    <tr>\n",
       "      <th>17</th>\n",
       "      <td>ASSAM</td>\n",
       "      <td>10392</td>\n",
       "      <td>2527</td>\n",
       "      <td>12919</td>\n",
       "    </tr>\n",
       "    <tr>\n",
       "      <th>18</th>\n",
       "      <td>WEST BENGAL</td>\n",
       "      <td>29073</td>\n",
       "      <td>104967</td>\n",
       "      <td>134040</td>\n",
       "    </tr>\n",
       "    <tr>\n",
       "      <th>19</th>\n",
       "      <td>JHARKHAND</td>\n",
       "      <td>16424</td>\n",
       "      <td>6967</td>\n",
       "      <td>23391</td>\n",
       "    </tr>\n",
       "    <tr>\n",
       "      <th>20</th>\n",
       "      <td>ODISHA</td>\n",
       "      <td>20008</td>\n",
       "      <td>14053</td>\n",
       "      <td>34061</td>\n",
       "    </tr>\n",
       "    <tr>\n",
       "      <th>21</th>\n",
       "      <td>CHHATTISGARH</td>\n",
       "      <td>17681</td>\n",
       "      <td>6533</td>\n",
       "      <td>24214</td>\n",
       "    </tr>\n",
       "    <tr>\n",
       "      <th>22</th>\n",
       "      <td>MADHYA PRADESH</td>\n",
       "      <td>80380</td>\n",
       "      <td>66055</td>\n",
       "      <td>146435</td>\n",
       "    </tr>\n",
       "    <tr>\n",
       "      <th>23</th>\n",
       "      <td>GUJARAT</td>\n",
       "      <td>59484</td>\n",
       "      <td>84822</td>\n",
       "      <td>144306</td>\n",
       "    </tr>\n",
       "    <tr>\n",
       "      <th>24</th>\n",
       "      <td>DAMAN &amp; DIU</td>\n",
       "      <td>146</td>\n",
       "      <td>591</td>\n",
       "      <td>737</td>\n",
       "    </tr>\n",
       "    <tr>\n",
       "      <th>25</th>\n",
       "      <td>DADRA &amp; NAGAR HAVELI</td>\n",
       "      <td>723</td>\n",
       "      <td>281</td>\n",
       "      <td>1004</td>\n",
       "    </tr>\n",
       "    <tr>\n",
       "      <th>26</th>\n",
       "      <td>MAHARASHTRA</td>\n",
       "      <td>99535</td>\n",
       "      <td>111373</td>\n",
       "      <td>210908</td>\n",
       "    </tr>\n",
       "    <tr>\n",
       "      <th>27</th>\n",
       "      <td>ANDHRA PRADESH</td>\n",
       "      <td>69354</td>\n",
       "      <td>75857</td>\n",
       "      <td>145211</td>\n",
       "    </tr>\n",
       "    <tr>\n",
       "      <th>28</th>\n",
       "      <td>KARNATAKA</td>\n",
       "      <td>41262</td>\n",
       "      <td>35473</td>\n",
       "      <td>76735</td>\n",
       "    </tr>\n",
       "    <tr>\n",
       "      <th>29</th>\n",
       "      <td>GOA</td>\n",
       "      <td>1358</td>\n",
       "      <td>1693</td>\n",
       "      <td>3051</td>\n",
       "    </tr>\n",
       "    <tr>\n",
       "      <th>30</th>\n",
       "      <td>KERALA</td>\n",
       "      <td>4092</td>\n",
       "      <td>7761</td>\n",
       "      <td>11853</td>\n",
       "    </tr>\n",
       "    <tr>\n",
       "      <th>31</th>\n",
       "      <td>TAMIL NADU</td>\n",
       "      <td>13812</td>\n",
       "      <td>37117</td>\n",
       "      <td>50929</td>\n",
       "    </tr>\n",
       "    <tr>\n",
       "      <th>32</th>\n",
       "      <td>PUDUCHERRY</td>\n",
       "      <td>82</td>\n",
       "      <td>1508</td>\n",
       "      <td>1590</td>\n",
       "    </tr>\n",
       "    <tr>\n",
       "      <th>33</th>\n",
       "      <td>ANDAMAN &amp; NICOBAR ISLANDS</td>\n",
       "      <td>30</td>\n",
       "      <td>65</td>\n",
       "      <td>95</td>\n",
       "    </tr>\n",
       "  </tbody>\n",
       "</table>\n",
       "</div>"
      ],
      "text/plain": [
       "                        State   Rural   Urban    TOT_\n",
       "0             JAMMU & KASHMIR    8199   10848   19047\n",
       "1            HIMACHAL PRADESH    3226     872    4098\n",
       "2                      PUNJAB   28340   18374   46714\n",
       "3                  CHANDIGARH       6    4133    4139\n",
       "4                 UTTARAKHAND    6268    5556   11824\n",
       "5                     HARYANA   28082   23789   51871\n",
       "6                NCT OF DELHI     352   46724   47076\n",
       "7                   RAJASTHAN  108308   73236  181544\n",
       "8               UTTAR PRADESH  148196  180929  329125\n",
       "9                       BIHAR   32993   12591   45584\n",
       "10                     SIKKIM     245      32     277\n",
       "11          ARUNACHAL PRADESH    1243     313    1556\n",
       "12                   NAGALAND     532     344     876\n",
       "13                    Manipur    1881    1331    3212\n",
       "14                    MIZORAM      48     104     152\n",
       "15                    TRIPURA    1873    1352    3225\n",
       "16                  MEGHALAYA    1064     177    1241\n",
       "17                      ASSAM   10392    2527   12919\n",
       "18                WEST BENGAL   29073  104967  134040\n",
       "19                  JHARKHAND   16424    6967   23391\n",
       "20                     ODISHA   20008   14053   34061\n",
       "21               CHHATTISGARH   17681    6533   24214\n",
       "22             MADHYA PRADESH   80380   66055  146435\n",
       "23                    GUJARAT   59484   84822  144306\n",
       "24                DAMAN & DIU     146     591     737\n",
       "25       DADRA & NAGAR HAVELI     723     281    1004\n",
       "26                MAHARASHTRA   99535  111373  210908\n",
       "27             ANDHRA PRADESH   69354   75857  145211\n",
       "28                  KARNATAKA   41262   35473   76735\n",
       "29                        GOA    1358    1693    3051\n",
       "30                     KERALA    4092    7761   11853\n",
       "31                 TAMIL NADU   13812   37117   50929\n",
       "32                 PUDUCHERRY      82    1508    1590\n",
       "33  ANDAMAN & NICOBAR ISLANDS      30      65      95"
      ]
     },
     "execution_count": 10,
     "metadata": {},
     "output_type": "execute_result"
    }
   ],
   "source": [
    "df = pd.DataFrame(new_dataFr)\n",
    "df"
   ]
  },
  {
   "cell_type": "code",
   "execution_count": 11,
   "metadata": {},
   "outputs": [
    {
     "data": {
      "application/vnd.plotly.v1+json": {
       "config": {
        "plotlyServerURL": "https://plot.ly"
       },
       "data": [
        {
         "alignmentgroup": "True",
         "hovertemplate": "variable=Rural<br>State=%{x}<br>value=%{y}<extra></extra>",
         "legendgroup": "Rural",
         "marker": {
          "color": "#636efa",
          "pattern": {
           "shape": ""
          }
         },
         "name": "Rural",
         "offsetgroup": "Rural",
         "orientation": "v",
         "showlegend": true,
         "textposition": "auto",
         "type": "bar",
         "x": [
          "JAMMU & KASHMIR",
          "HIMACHAL PRADESH",
          "PUNJAB",
          "CHANDIGARH",
          "UTTARAKHAND",
          "HARYANA",
          "NCT OF DELHI",
          "RAJASTHAN",
          "UTTAR PRADESH",
          "BIHAR",
          "SIKKIM",
          "ARUNACHAL PRADESH",
          "NAGALAND",
          "Manipur",
          "MIZORAM",
          "TRIPURA",
          "MEGHALAYA",
          "ASSAM",
          "WEST BENGAL",
          "JHARKHAND",
          "ODISHA",
          "CHHATTISGARH",
          "MADHYA PRADESH",
          "GUJARAT",
          "DAMAN & DIU",
          "DADRA & NAGAR HAVELI",
          "MAHARASHTRA",
          "ANDHRA PRADESH",
          "KARNATAKA",
          "GOA",
          "KERALA",
          "TAMIL NADU",
          "PUDUCHERRY",
          "ANDAMAN & NICOBAR ISLANDS"
         ],
         "xaxis": "x",
         "y": [
          8199,
          3226,
          28340,
          6,
          6268,
          28082,
          352,
          108308,
          148196,
          32993,
          245,
          1243,
          532,
          1881,
          48,
          1873,
          1064,
          10392,
          29073,
          16424,
          20008,
          17681,
          80380,
          59484,
          146,
          723,
          99535,
          69354,
          41262,
          1358,
          4092,
          13812,
          82,
          30
         ],
         "yaxis": "y"
        },
        {
         "alignmentgroup": "True",
         "hovertemplate": "variable=Urban<br>State=%{x}<br>value=%{y}<extra></extra>",
         "legendgroup": "Urban",
         "marker": {
          "color": "#EF553B",
          "pattern": {
           "shape": ""
          }
         },
         "name": "Urban",
         "offsetgroup": "Urban",
         "orientation": "v",
         "showlegend": true,
         "textposition": "auto",
         "type": "bar",
         "x": [
          "JAMMU & KASHMIR",
          "HIMACHAL PRADESH",
          "PUNJAB",
          "CHANDIGARH",
          "UTTARAKHAND",
          "HARYANA",
          "NCT OF DELHI",
          "RAJASTHAN",
          "UTTAR PRADESH",
          "BIHAR",
          "SIKKIM",
          "ARUNACHAL PRADESH",
          "NAGALAND",
          "Manipur",
          "MIZORAM",
          "TRIPURA",
          "MEGHALAYA",
          "ASSAM",
          "WEST BENGAL",
          "JHARKHAND",
          "ODISHA",
          "CHHATTISGARH",
          "MADHYA PRADESH",
          "GUJARAT",
          "DAMAN & DIU",
          "DADRA & NAGAR HAVELI",
          "MAHARASHTRA",
          "ANDHRA PRADESH",
          "KARNATAKA",
          "GOA",
          "KERALA",
          "TAMIL NADU",
          "PUDUCHERRY",
          "ANDAMAN & NICOBAR ISLANDS"
         ],
         "xaxis": "x",
         "y": [
          10848,
          872,
          18374,
          4133,
          5556,
          23789,
          46724,
          73236,
          180929,
          12591,
          32,
          313,
          344,
          1331,
          104,
          1352,
          177,
          2527,
          104967,
          6967,
          14053,
          6533,
          66055,
          84822,
          591,
          281,
          111373,
          75857,
          35473,
          1693,
          7761,
          37117,
          1508,
          65
         ],
         "yaxis": "y"
        }
       ],
       "layout": {
        "barmode": "relative",
        "legend": {
         "title": {
          "text": "variable"
         },
         "tracegroupgap": 0
        },
        "template": {
         "data": {
          "bar": [
           {
            "error_x": {
             "color": "#2a3f5f"
            },
            "error_y": {
             "color": "#2a3f5f"
            },
            "marker": {
             "line": {
              "color": "#E5ECF6",
              "width": 0.5
             },
             "pattern": {
              "fillmode": "overlay",
              "size": 10,
              "solidity": 0.2
             }
            },
            "type": "bar"
           }
          ],
          "barpolar": [
           {
            "marker": {
             "line": {
              "color": "#E5ECF6",
              "width": 0.5
             },
             "pattern": {
              "fillmode": "overlay",
              "size": 10,
              "solidity": 0.2
             }
            },
            "type": "barpolar"
           }
          ],
          "carpet": [
           {
            "aaxis": {
             "endlinecolor": "#2a3f5f",
             "gridcolor": "white",
             "linecolor": "white",
             "minorgridcolor": "white",
             "startlinecolor": "#2a3f5f"
            },
            "baxis": {
             "endlinecolor": "#2a3f5f",
             "gridcolor": "white",
             "linecolor": "white",
             "minorgridcolor": "white",
             "startlinecolor": "#2a3f5f"
            },
            "type": "carpet"
           }
          ],
          "choropleth": [
           {
            "colorbar": {
             "outlinewidth": 0,
             "ticks": ""
            },
            "type": "choropleth"
           }
          ],
          "contour": [
           {
            "colorbar": {
             "outlinewidth": 0,
             "ticks": ""
            },
            "colorscale": [
             [
              0,
              "#0d0887"
             ],
             [
              0.1111111111111111,
              "#46039f"
             ],
             [
              0.2222222222222222,
              "#7201a8"
             ],
             [
              0.3333333333333333,
              "#9c179e"
             ],
             [
              0.4444444444444444,
              "#bd3786"
             ],
             [
              0.5555555555555556,
              "#d8576b"
             ],
             [
              0.6666666666666666,
              "#ed7953"
             ],
             [
              0.7777777777777778,
              "#fb9f3a"
             ],
             [
              0.8888888888888888,
              "#fdca26"
             ],
             [
              1,
              "#f0f921"
             ]
            ],
            "type": "contour"
           }
          ],
          "contourcarpet": [
           {
            "colorbar": {
             "outlinewidth": 0,
             "ticks": ""
            },
            "type": "contourcarpet"
           }
          ],
          "heatmap": [
           {
            "colorbar": {
             "outlinewidth": 0,
             "ticks": ""
            },
            "colorscale": [
             [
              0,
              "#0d0887"
             ],
             [
              0.1111111111111111,
              "#46039f"
             ],
             [
              0.2222222222222222,
              "#7201a8"
             ],
             [
              0.3333333333333333,
              "#9c179e"
             ],
             [
              0.4444444444444444,
              "#bd3786"
             ],
             [
              0.5555555555555556,
              "#d8576b"
             ],
             [
              0.6666666666666666,
              "#ed7953"
             ],
             [
              0.7777777777777778,
              "#fb9f3a"
             ],
             [
              0.8888888888888888,
              "#fdca26"
             ],
             [
              1,
              "#f0f921"
             ]
            ],
            "type": "heatmap"
           }
          ],
          "heatmapgl": [
           {
            "colorbar": {
             "outlinewidth": 0,
             "ticks": ""
            },
            "colorscale": [
             [
              0,
              "#0d0887"
             ],
             [
              0.1111111111111111,
              "#46039f"
             ],
             [
              0.2222222222222222,
              "#7201a8"
             ],
             [
              0.3333333333333333,
              "#9c179e"
             ],
             [
              0.4444444444444444,
              "#bd3786"
             ],
             [
              0.5555555555555556,
              "#d8576b"
             ],
             [
              0.6666666666666666,
              "#ed7953"
             ],
             [
              0.7777777777777778,
              "#fb9f3a"
             ],
             [
              0.8888888888888888,
              "#fdca26"
             ],
             [
              1,
              "#f0f921"
             ]
            ],
            "type": "heatmapgl"
           }
          ],
          "histogram": [
           {
            "marker": {
             "pattern": {
              "fillmode": "overlay",
              "size": 10,
              "solidity": 0.2
             }
            },
            "type": "histogram"
           }
          ],
          "histogram2d": [
           {
            "colorbar": {
             "outlinewidth": 0,
             "ticks": ""
            },
            "colorscale": [
             [
              0,
              "#0d0887"
             ],
             [
              0.1111111111111111,
              "#46039f"
             ],
             [
              0.2222222222222222,
              "#7201a8"
             ],
             [
              0.3333333333333333,
              "#9c179e"
             ],
             [
              0.4444444444444444,
              "#bd3786"
             ],
             [
              0.5555555555555556,
              "#d8576b"
             ],
             [
              0.6666666666666666,
              "#ed7953"
             ],
             [
              0.7777777777777778,
              "#fb9f3a"
             ],
             [
              0.8888888888888888,
              "#fdca26"
             ],
             [
              1,
              "#f0f921"
             ]
            ],
            "type": "histogram2d"
           }
          ],
          "histogram2dcontour": [
           {
            "colorbar": {
             "outlinewidth": 0,
             "ticks": ""
            },
            "colorscale": [
             [
              0,
              "#0d0887"
             ],
             [
              0.1111111111111111,
              "#46039f"
             ],
             [
              0.2222222222222222,
              "#7201a8"
             ],
             [
              0.3333333333333333,
              "#9c179e"
             ],
             [
              0.4444444444444444,
              "#bd3786"
             ],
             [
              0.5555555555555556,
              "#d8576b"
             ],
             [
              0.6666666666666666,
              "#ed7953"
             ],
             [
              0.7777777777777778,
              "#fb9f3a"
             ],
             [
              0.8888888888888888,
              "#fdca26"
             ],
             [
              1,
              "#f0f921"
             ]
            ],
            "type": "histogram2dcontour"
           }
          ],
          "mesh3d": [
           {
            "colorbar": {
             "outlinewidth": 0,
             "ticks": ""
            },
            "type": "mesh3d"
           }
          ],
          "parcoords": [
           {
            "line": {
             "colorbar": {
              "outlinewidth": 0,
              "ticks": ""
             }
            },
            "type": "parcoords"
           }
          ],
          "pie": [
           {
            "automargin": true,
            "type": "pie"
           }
          ],
          "scatter": [
           {
            "fillpattern": {
             "fillmode": "overlay",
             "size": 10,
             "solidity": 0.2
            },
            "type": "scatter"
           }
          ],
          "scatter3d": [
           {
            "line": {
             "colorbar": {
              "outlinewidth": 0,
              "ticks": ""
             }
            },
            "marker": {
             "colorbar": {
              "outlinewidth": 0,
              "ticks": ""
             }
            },
            "type": "scatter3d"
           }
          ],
          "scattercarpet": [
           {
            "marker": {
             "colorbar": {
              "outlinewidth": 0,
              "ticks": ""
             }
            },
            "type": "scattercarpet"
           }
          ],
          "scattergeo": [
           {
            "marker": {
             "colorbar": {
              "outlinewidth": 0,
              "ticks": ""
             }
            },
            "type": "scattergeo"
           }
          ],
          "scattergl": [
           {
            "marker": {
             "colorbar": {
              "outlinewidth": 0,
              "ticks": ""
             }
            },
            "type": "scattergl"
           }
          ],
          "scattermapbox": [
           {
            "marker": {
             "colorbar": {
              "outlinewidth": 0,
              "ticks": ""
             }
            },
            "type": "scattermapbox"
           }
          ],
          "scatterpolar": [
           {
            "marker": {
             "colorbar": {
              "outlinewidth": 0,
              "ticks": ""
             }
            },
            "type": "scatterpolar"
           }
          ],
          "scatterpolargl": [
           {
            "marker": {
             "colorbar": {
              "outlinewidth": 0,
              "ticks": ""
             }
            },
            "type": "scatterpolargl"
           }
          ],
          "scatterternary": [
           {
            "marker": {
             "colorbar": {
              "outlinewidth": 0,
              "ticks": ""
             }
            },
            "type": "scatterternary"
           }
          ],
          "surface": [
           {
            "colorbar": {
             "outlinewidth": 0,
             "ticks": ""
            },
            "colorscale": [
             [
              0,
              "#0d0887"
             ],
             [
              0.1111111111111111,
              "#46039f"
             ],
             [
              0.2222222222222222,
              "#7201a8"
             ],
             [
              0.3333333333333333,
              "#9c179e"
             ],
             [
              0.4444444444444444,
              "#bd3786"
             ],
             [
              0.5555555555555556,
              "#d8576b"
             ],
             [
              0.6666666666666666,
              "#ed7953"
             ],
             [
              0.7777777777777778,
              "#fb9f3a"
             ],
             [
              0.8888888888888888,
              "#fdca26"
             ],
             [
              1,
              "#f0f921"
             ]
            ],
            "type": "surface"
           }
          ],
          "table": [
           {
            "cells": {
             "fill": {
              "color": "#EBF0F8"
             },
             "line": {
              "color": "white"
             }
            },
            "header": {
             "fill": {
              "color": "#C8D4E3"
             },
             "line": {
              "color": "white"
             }
            },
            "type": "table"
           }
          ]
         },
         "layout": {
          "annotationdefaults": {
           "arrowcolor": "#2a3f5f",
           "arrowhead": 0,
           "arrowwidth": 1
          },
          "autotypenumbers": "strict",
          "coloraxis": {
           "colorbar": {
            "outlinewidth": 0,
            "ticks": ""
           }
          },
          "colorscale": {
           "diverging": [
            [
             0,
             "#8e0152"
            ],
            [
             0.1,
             "#c51b7d"
            ],
            [
             0.2,
             "#de77ae"
            ],
            [
             0.3,
             "#f1b6da"
            ],
            [
             0.4,
             "#fde0ef"
            ],
            [
             0.5,
             "#f7f7f7"
            ],
            [
             0.6,
             "#e6f5d0"
            ],
            [
             0.7,
             "#b8e186"
            ],
            [
             0.8,
             "#7fbc41"
            ],
            [
             0.9,
             "#4d9221"
            ],
            [
             1,
             "#276419"
            ]
           ],
           "sequential": [
            [
             0,
             "#0d0887"
            ],
            [
             0.1111111111111111,
             "#46039f"
            ],
            [
             0.2222222222222222,
             "#7201a8"
            ],
            [
             0.3333333333333333,
             "#9c179e"
            ],
            [
             0.4444444444444444,
             "#bd3786"
            ],
            [
             0.5555555555555556,
             "#d8576b"
            ],
            [
             0.6666666666666666,
             "#ed7953"
            ],
            [
             0.7777777777777778,
             "#fb9f3a"
            ],
            [
             0.8888888888888888,
             "#fdca26"
            ],
            [
             1,
             "#f0f921"
            ]
           ],
           "sequentialminus": [
            [
             0,
             "#0d0887"
            ],
            [
             0.1111111111111111,
             "#46039f"
            ],
            [
             0.2222222222222222,
             "#7201a8"
            ],
            [
             0.3333333333333333,
             "#9c179e"
            ],
            [
             0.4444444444444444,
             "#bd3786"
            ],
            [
             0.5555555555555556,
             "#d8576b"
            ],
            [
             0.6666666666666666,
             "#ed7953"
            ],
            [
             0.7777777777777778,
             "#fb9f3a"
            ],
            [
             0.8888888888888888,
             "#fdca26"
            ],
            [
             1,
             "#f0f921"
            ]
           ]
          },
          "colorway": [
           "#636efa",
           "#EF553B",
           "#00cc96",
           "#ab63fa",
           "#FFA15A",
           "#19d3f3",
           "#FF6692",
           "#B6E880",
           "#FF97FF",
           "#FECB52"
          ],
          "font": {
           "color": "#2a3f5f"
          },
          "geo": {
           "bgcolor": "white",
           "lakecolor": "white",
           "landcolor": "#E5ECF6",
           "showlakes": true,
           "showland": true,
           "subunitcolor": "white"
          },
          "hoverlabel": {
           "align": "left"
          },
          "hovermode": "closest",
          "mapbox": {
           "style": "light"
          },
          "paper_bgcolor": "white",
          "plot_bgcolor": "#E5ECF6",
          "polar": {
           "angularaxis": {
            "gridcolor": "white",
            "linecolor": "white",
            "ticks": ""
           },
           "bgcolor": "#E5ECF6",
           "radialaxis": {
            "gridcolor": "white",
            "linecolor": "white",
            "ticks": ""
           }
          },
          "scene": {
           "xaxis": {
            "backgroundcolor": "#E5ECF6",
            "gridcolor": "white",
            "gridwidth": 2,
            "linecolor": "white",
            "showbackground": true,
            "ticks": "",
            "zerolinecolor": "white"
           },
           "yaxis": {
            "backgroundcolor": "#E5ECF6",
            "gridcolor": "white",
            "gridwidth": 2,
            "linecolor": "white",
            "showbackground": true,
            "ticks": "",
            "zerolinecolor": "white"
           },
           "zaxis": {
            "backgroundcolor": "#E5ECF6",
            "gridcolor": "white",
            "gridwidth": 2,
            "linecolor": "white",
            "showbackground": true,
            "ticks": "",
            "zerolinecolor": "white"
           }
          },
          "shapedefaults": {
           "line": {
            "color": "#2a3f5f"
           }
          },
          "ternary": {
           "aaxis": {
            "gridcolor": "white",
            "linecolor": "white",
            "ticks": ""
           },
           "baxis": {
            "gridcolor": "white",
            "linecolor": "white",
            "ticks": ""
           },
           "bgcolor": "#E5ECF6",
           "caxis": {
            "gridcolor": "white",
            "linecolor": "white",
            "ticks": ""
           }
          },
          "title": {
           "x": 0.05
          },
          "xaxis": {
           "automargin": true,
           "gridcolor": "white",
           "linecolor": "white",
           "ticks": "",
           "title": {
            "standoff": 15
           },
           "zerolinecolor": "white",
           "zerolinewidth": 2
          },
          "yaxis": {
           "automargin": true,
           "gridcolor": "white",
           "linecolor": "white",
           "ticks": "",
           "title": {
            "standoff": 15
           },
           "zerolinecolor": "white",
           "zerolinewidth": 2
          }
         }
        },
        "title": {
         "text": "Wide-Form Input"
        },
        "xaxis": {
         "anchor": "y",
         "domain": [
          0,
          1
         ],
         "title": {
          "text": "State"
         }
        },
        "yaxis": {
         "anchor": "x",
         "domain": [
          0,
          1
         ],
         "title": {
          "text": "value"
         }
        }
       }
      }
     },
     "metadata": {},
     "output_type": "display_data"
    }
   ],
   "source": [
    "import plotly.express as px\n",
    "fig = px.bar(df , x='State' , y=['Rural','Urban'], title='Wide-Form Input')\n",
    "fig.show()\n"
   ]
  },
  {
   "attachments": {},
   "cell_type": "markdown",
   "metadata": {},
   "source": [
    "# Direct Long form input"
   ]
  },
  {
   "cell_type": "code",
   "execution_count": 12,
   "metadata": {},
   "outputs": [
    {
     "data": {
      "application/vnd.plotly.v1+json": {
       "config": {
        "plotlyServerURL": "https://plot.ly"
       },
       "data": [
        {
         "alignmentgroup": "True",
         "hovertemplate": "TRU=Rural<br>Name=%{x}<br>TOT_HL_P=%{y}<extra></extra>",
         "legendgroup": "Rural",
         "marker": {
          "color": "#636efa",
          "pattern": {
           "shape": ""
          }
         },
         "name": "Rural",
         "offsetgroup": "Rural",
         "orientation": "v",
         "showlegend": true,
         "textposition": "auto",
         "type": "bar",
         "x": [
          "JAMMU & KASHMIR",
          "HIMACHAL PRADESH",
          "PUNJAB",
          "CHANDIGARH",
          "UTTARAKHAND",
          "HARYANA",
          "NCT OF DELHI",
          "RAJASTHAN",
          "UTTAR PRADESH",
          "BIHAR",
          "SIKKIM",
          "ARUNACHAL PRADESH",
          "NAGALAND",
          "Manipur",
          "MIZORAM",
          "TRIPURA",
          "MEGHALAYA",
          "ASSAM",
          "WEST BENGAL",
          "JHARKHAND",
          "ODISHA",
          "CHHATTISGARH",
          "MADHYA PRADESH",
          "GUJARAT",
          "DAMAN & DIU",
          "DADRA & NAGAR HAVELI",
          "MAHARASHTRA",
          "ANDHRA PRADESH",
          "KARNATAKA",
          "GOA",
          "KERALA",
          "TAMIL NADU",
          "PUDUCHERRY",
          "ANDAMAN & NICOBAR ISLANDS"
         ],
         "xaxis": "x",
         "y": [
          8199,
          3226,
          28340,
          6,
          6268,
          28082,
          352,
          108308,
          148196,
          32993,
          245,
          1243,
          532,
          1881,
          48,
          1873,
          1064,
          10392,
          29073,
          16424,
          20008,
          17681,
          80380,
          59484,
          146,
          723,
          99535,
          69354,
          41262,
          1358,
          4092,
          13812,
          82,
          30
         ],
         "yaxis": "y"
        },
        {
         "alignmentgroup": "True",
         "hovertemplate": "TRU=Urban<br>Name=%{x}<br>TOT_HL_P=%{y}<extra></extra>",
         "legendgroup": "Urban",
         "marker": {
          "color": "#EF553B",
          "pattern": {
           "shape": ""
          }
         },
         "name": "Urban",
         "offsetgroup": "Urban",
         "orientation": "v",
         "showlegend": true,
         "textposition": "auto",
         "type": "bar",
         "x": [
          "JAMMU & KASHMIR",
          "HIMACHAL PRADESH",
          "PUNJAB",
          "CHANDIGARH",
          "UTTARAKHAND",
          "HARYANA",
          "NCT OF DELHI",
          "RAJASTHAN",
          "UTTAR PRADESH",
          "BIHAR",
          "SIKKIM",
          "ARUNACHAL PRADESH",
          "NAGALAND",
          "Manipur",
          "MIZORAM",
          "TRIPURA",
          "MEGHALAYA",
          "ASSAM",
          "WEST BENGAL",
          "JHARKHAND",
          "ODISHA",
          "CHHATTISGARH",
          "MADHYA PRADESH",
          "GUJARAT",
          "DAMAN & DIU",
          "DADRA & NAGAR HAVELI",
          "MAHARASHTRA",
          "ANDHRA PRADESH",
          "KARNATAKA",
          "GOA",
          "KERALA",
          "TAMIL NADU",
          "PUDUCHERRY",
          "ANDAMAN & NICOBAR ISLANDS"
         ],
         "xaxis": "x",
         "y": [
          10848,
          872,
          18374,
          4133,
          5556,
          23789,
          46724,
          73236,
          180929,
          12591,
          32,
          313,
          344,
          1331,
          104,
          1352,
          177,
          2527,
          104967,
          6967,
          14053,
          6533,
          66055,
          84822,
          591,
          281,
          111373,
          75857,
          35473,
          1693,
          7761,
          37117,
          1508,
          65
         ],
         "yaxis": "y"
        }
       ],
       "layout": {
        "barmode": "relative",
        "legend": {
         "title": {
          "text": "TRU"
         },
         "tracegroupgap": 0
        },
        "template": {
         "data": {
          "bar": [
           {
            "error_x": {
             "color": "#2a3f5f"
            },
            "error_y": {
             "color": "#2a3f5f"
            },
            "marker": {
             "line": {
              "color": "#E5ECF6",
              "width": 0.5
             },
             "pattern": {
              "fillmode": "overlay",
              "size": 10,
              "solidity": 0.2
             }
            },
            "type": "bar"
           }
          ],
          "barpolar": [
           {
            "marker": {
             "line": {
              "color": "#E5ECF6",
              "width": 0.5
             },
             "pattern": {
              "fillmode": "overlay",
              "size": 10,
              "solidity": 0.2
             }
            },
            "type": "barpolar"
           }
          ],
          "carpet": [
           {
            "aaxis": {
             "endlinecolor": "#2a3f5f",
             "gridcolor": "white",
             "linecolor": "white",
             "minorgridcolor": "white",
             "startlinecolor": "#2a3f5f"
            },
            "baxis": {
             "endlinecolor": "#2a3f5f",
             "gridcolor": "white",
             "linecolor": "white",
             "minorgridcolor": "white",
             "startlinecolor": "#2a3f5f"
            },
            "type": "carpet"
           }
          ],
          "choropleth": [
           {
            "colorbar": {
             "outlinewidth": 0,
             "ticks": ""
            },
            "type": "choropleth"
           }
          ],
          "contour": [
           {
            "colorbar": {
             "outlinewidth": 0,
             "ticks": ""
            },
            "colorscale": [
             [
              0,
              "#0d0887"
             ],
             [
              0.1111111111111111,
              "#46039f"
             ],
             [
              0.2222222222222222,
              "#7201a8"
             ],
             [
              0.3333333333333333,
              "#9c179e"
             ],
             [
              0.4444444444444444,
              "#bd3786"
             ],
             [
              0.5555555555555556,
              "#d8576b"
             ],
             [
              0.6666666666666666,
              "#ed7953"
             ],
             [
              0.7777777777777778,
              "#fb9f3a"
             ],
             [
              0.8888888888888888,
              "#fdca26"
             ],
             [
              1,
              "#f0f921"
             ]
            ],
            "type": "contour"
           }
          ],
          "contourcarpet": [
           {
            "colorbar": {
             "outlinewidth": 0,
             "ticks": ""
            },
            "type": "contourcarpet"
           }
          ],
          "heatmap": [
           {
            "colorbar": {
             "outlinewidth": 0,
             "ticks": ""
            },
            "colorscale": [
             [
              0,
              "#0d0887"
             ],
             [
              0.1111111111111111,
              "#46039f"
             ],
             [
              0.2222222222222222,
              "#7201a8"
             ],
             [
              0.3333333333333333,
              "#9c179e"
             ],
             [
              0.4444444444444444,
              "#bd3786"
             ],
             [
              0.5555555555555556,
              "#d8576b"
             ],
             [
              0.6666666666666666,
              "#ed7953"
             ],
             [
              0.7777777777777778,
              "#fb9f3a"
             ],
             [
              0.8888888888888888,
              "#fdca26"
             ],
             [
              1,
              "#f0f921"
             ]
            ],
            "type": "heatmap"
           }
          ],
          "heatmapgl": [
           {
            "colorbar": {
             "outlinewidth": 0,
             "ticks": ""
            },
            "colorscale": [
             [
              0,
              "#0d0887"
             ],
             [
              0.1111111111111111,
              "#46039f"
             ],
             [
              0.2222222222222222,
              "#7201a8"
             ],
             [
              0.3333333333333333,
              "#9c179e"
             ],
             [
              0.4444444444444444,
              "#bd3786"
             ],
             [
              0.5555555555555556,
              "#d8576b"
             ],
             [
              0.6666666666666666,
              "#ed7953"
             ],
             [
              0.7777777777777778,
              "#fb9f3a"
             ],
             [
              0.8888888888888888,
              "#fdca26"
             ],
             [
              1,
              "#f0f921"
             ]
            ],
            "type": "heatmapgl"
           }
          ],
          "histogram": [
           {
            "marker": {
             "pattern": {
              "fillmode": "overlay",
              "size": 10,
              "solidity": 0.2
             }
            },
            "type": "histogram"
           }
          ],
          "histogram2d": [
           {
            "colorbar": {
             "outlinewidth": 0,
             "ticks": ""
            },
            "colorscale": [
             [
              0,
              "#0d0887"
             ],
             [
              0.1111111111111111,
              "#46039f"
             ],
             [
              0.2222222222222222,
              "#7201a8"
             ],
             [
              0.3333333333333333,
              "#9c179e"
             ],
             [
              0.4444444444444444,
              "#bd3786"
             ],
             [
              0.5555555555555556,
              "#d8576b"
             ],
             [
              0.6666666666666666,
              "#ed7953"
             ],
             [
              0.7777777777777778,
              "#fb9f3a"
             ],
             [
              0.8888888888888888,
              "#fdca26"
             ],
             [
              1,
              "#f0f921"
             ]
            ],
            "type": "histogram2d"
           }
          ],
          "histogram2dcontour": [
           {
            "colorbar": {
             "outlinewidth": 0,
             "ticks": ""
            },
            "colorscale": [
             [
              0,
              "#0d0887"
             ],
             [
              0.1111111111111111,
              "#46039f"
             ],
             [
              0.2222222222222222,
              "#7201a8"
             ],
             [
              0.3333333333333333,
              "#9c179e"
             ],
             [
              0.4444444444444444,
              "#bd3786"
             ],
             [
              0.5555555555555556,
              "#d8576b"
             ],
             [
              0.6666666666666666,
              "#ed7953"
             ],
             [
              0.7777777777777778,
              "#fb9f3a"
             ],
             [
              0.8888888888888888,
              "#fdca26"
             ],
             [
              1,
              "#f0f921"
             ]
            ],
            "type": "histogram2dcontour"
           }
          ],
          "mesh3d": [
           {
            "colorbar": {
             "outlinewidth": 0,
             "ticks": ""
            },
            "type": "mesh3d"
           }
          ],
          "parcoords": [
           {
            "line": {
             "colorbar": {
              "outlinewidth": 0,
              "ticks": ""
             }
            },
            "type": "parcoords"
           }
          ],
          "pie": [
           {
            "automargin": true,
            "type": "pie"
           }
          ],
          "scatter": [
           {
            "fillpattern": {
             "fillmode": "overlay",
             "size": 10,
             "solidity": 0.2
            },
            "type": "scatter"
           }
          ],
          "scatter3d": [
           {
            "line": {
             "colorbar": {
              "outlinewidth": 0,
              "ticks": ""
             }
            },
            "marker": {
             "colorbar": {
              "outlinewidth": 0,
              "ticks": ""
             }
            },
            "type": "scatter3d"
           }
          ],
          "scattercarpet": [
           {
            "marker": {
             "colorbar": {
              "outlinewidth": 0,
              "ticks": ""
             }
            },
            "type": "scattercarpet"
           }
          ],
          "scattergeo": [
           {
            "marker": {
             "colorbar": {
              "outlinewidth": 0,
              "ticks": ""
             }
            },
            "type": "scattergeo"
           }
          ],
          "scattergl": [
           {
            "marker": {
             "colorbar": {
              "outlinewidth": 0,
              "ticks": ""
             }
            },
            "type": "scattergl"
           }
          ],
          "scattermapbox": [
           {
            "marker": {
             "colorbar": {
              "outlinewidth": 0,
              "ticks": ""
             }
            },
            "type": "scattermapbox"
           }
          ],
          "scatterpolar": [
           {
            "marker": {
             "colorbar": {
              "outlinewidth": 0,
              "ticks": ""
             }
            },
            "type": "scatterpolar"
           }
          ],
          "scatterpolargl": [
           {
            "marker": {
             "colorbar": {
              "outlinewidth": 0,
              "ticks": ""
             }
            },
            "type": "scatterpolargl"
           }
          ],
          "scatterternary": [
           {
            "marker": {
             "colorbar": {
              "outlinewidth": 0,
              "ticks": ""
             }
            },
            "type": "scatterternary"
           }
          ],
          "surface": [
           {
            "colorbar": {
             "outlinewidth": 0,
             "ticks": ""
            },
            "colorscale": [
             [
              0,
              "#0d0887"
             ],
             [
              0.1111111111111111,
              "#46039f"
             ],
             [
              0.2222222222222222,
              "#7201a8"
             ],
             [
              0.3333333333333333,
              "#9c179e"
             ],
             [
              0.4444444444444444,
              "#bd3786"
             ],
             [
              0.5555555555555556,
              "#d8576b"
             ],
             [
              0.6666666666666666,
              "#ed7953"
             ],
             [
              0.7777777777777778,
              "#fb9f3a"
             ],
             [
              0.8888888888888888,
              "#fdca26"
             ],
             [
              1,
              "#f0f921"
             ]
            ],
            "type": "surface"
           }
          ],
          "table": [
           {
            "cells": {
             "fill": {
              "color": "#EBF0F8"
             },
             "line": {
              "color": "white"
             }
            },
            "header": {
             "fill": {
              "color": "#C8D4E3"
             },
             "line": {
              "color": "white"
             }
            },
            "type": "table"
           }
          ]
         },
         "layout": {
          "annotationdefaults": {
           "arrowcolor": "#2a3f5f",
           "arrowhead": 0,
           "arrowwidth": 1
          },
          "autotypenumbers": "strict",
          "coloraxis": {
           "colorbar": {
            "outlinewidth": 0,
            "ticks": ""
           }
          },
          "colorscale": {
           "diverging": [
            [
             0,
             "#8e0152"
            ],
            [
             0.1,
             "#c51b7d"
            ],
            [
             0.2,
             "#de77ae"
            ],
            [
             0.3,
             "#f1b6da"
            ],
            [
             0.4,
             "#fde0ef"
            ],
            [
             0.5,
             "#f7f7f7"
            ],
            [
             0.6,
             "#e6f5d0"
            ],
            [
             0.7,
             "#b8e186"
            ],
            [
             0.8,
             "#7fbc41"
            ],
            [
             0.9,
             "#4d9221"
            ],
            [
             1,
             "#276419"
            ]
           ],
           "sequential": [
            [
             0,
             "#0d0887"
            ],
            [
             0.1111111111111111,
             "#46039f"
            ],
            [
             0.2222222222222222,
             "#7201a8"
            ],
            [
             0.3333333333333333,
             "#9c179e"
            ],
            [
             0.4444444444444444,
             "#bd3786"
            ],
            [
             0.5555555555555556,
             "#d8576b"
            ],
            [
             0.6666666666666666,
             "#ed7953"
            ],
            [
             0.7777777777777778,
             "#fb9f3a"
            ],
            [
             0.8888888888888888,
             "#fdca26"
            ],
            [
             1,
             "#f0f921"
            ]
           ],
           "sequentialminus": [
            [
             0,
             "#0d0887"
            ],
            [
             0.1111111111111111,
             "#46039f"
            ],
            [
             0.2222222222222222,
             "#7201a8"
            ],
            [
             0.3333333333333333,
             "#9c179e"
            ],
            [
             0.4444444444444444,
             "#bd3786"
            ],
            [
             0.5555555555555556,
             "#d8576b"
            ],
            [
             0.6666666666666666,
             "#ed7953"
            ],
            [
             0.7777777777777778,
             "#fb9f3a"
            ],
            [
             0.8888888888888888,
             "#fdca26"
            ],
            [
             1,
             "#f0f921"
            ]
           ]
          },
          "colorway": [
           "#636efa",
           "#EF553B",
           "#00cc96",
           "#ab63fa",
           "#FFA15A",
           "#19d3f3",
           "#FF6692",
           "#B6E880",
           "#FF97FF",
           "#FECB52"
          ],
          "font": {
           "color": "#2a3f5f"
          },
          "geo": {
           "bgcolor": "white",
           "lakecolor": "white",
           "landcolor": "#E5ECF6",
           "showlakes": true,
           "showland": true,
           "subunitcolor": "white"
          },
          "hoverlabel": {
           "align": "left"
          },
          "hovermode": "closest",
          "mapbox": {
           "style": "light"
          },
          "paper_bgcolor": "white",
          "plot_bgcolor": "#E5ECF6",
          "polar": {
           "angularaxis": {
            "gridcolor": "white",
            "linecolor": "white",
            "ticks": ""
           },
           "bgcolor": "#E5ECF6",
           "radialaxis": {
            "gridcolor": "white",
            "linecolor": "white",
            "ticks": ""
           }
          },
          "scene": {
           "xaxis": {
            "backgroundcolor": "#E5ECF6",
            "gridcolor": "white",
            "gridwidth": 2,
            "linecolor": "white",
            "showbackground": true,
            "ticks": "",
            "zerolinecolor": "white"
           },
           "yaxis": {
            "backgroundcolor": "#E5ECF6",
            "gridcolor": "white",
            "gridwidth": 2,
            "linecolor": "white",
            "showbackground": true,
            "ticks": "",
            "zerolinecolor": "white"
           },
           "zaxis": {
            "backgroundcolor": "#E5ECF6",
            "gridcolor": "white",
            "gridwidth": 2,
            "linecolor": "white",
            "showbackground": true,
            "ticks": "",
            "zerolinecolor": "white"
           }
          },
          "shapedefaults": {
           "line": {
            "color": "#2a3f5f"
           }
          },
          "ternary": {
           "aaxis": {
            "gridcolor": "white",
            "linecolor": "white",
            "ticks": ""
           },
           "baxis": {
            "gridcolor": "white",
            "linecolor": "white",
            "ticks": ""
           },
           "bgcolor": "#E5ECF6",
           "caxis": {
            "gridcolor": "white",
            "linecolor": "white",
            "ticks": ""
           }
          },
          "title": {
           "x": 0.05
          },
          "xaxis": {
           "automargin": true,
           "gridcolor": "white",
           "linecolor": "white",
           "ticks": "",
           "title": {
            "standoff": 15
           },
           "zerolinecolor": "white",
           "zerolinewidth": 2
          },
          "yaxis": {
           "automargin": true,
           "gridcolor": "white",
           "linecolor": "white",
           "ticks": "",
           "title": {
            "standoff": 15
           },
           "zerolinecolor": "white",
           "zerolinewidth": 2
          }
         }
        },
        "title": {
         "text": "LONG FORM INPUT"
        },
        "xaxis": {
         "anchor": "y",
         "domain": [
          0,
          1
         ],
         "title": {
          "text": "Name"
         }
        },
        "yaxis": {
         "anchor": "x",
         "domain": [
          0,
          1
         ],
         "title": {
          "text": "TOT_HL_P"
         }
        }
       }
      }
     },
     "metadata": {},
     "output_type": "display_data"
    }
   ],
   "source": [
    "fig1 = px.bar(dataset_s[dataset_s['TRU']!='Total'], x= 'Name' , y='TOT_HL_P' , color='TRU', title='LONG FORM INPUT')\n",
    "fig1.show()"
   ]
  },
  {
   "attachments": {},
   "cell_type": "markdown",
   "metadata": {},
   "source": [
    "MALE vs FEMALE Population that is HOMELESS categorized in RURAL and URBAN!"
   ]
  },
  {
   "cell_type": "code",
   "execution_count": 13,
   "metadata": {},
   "outputs": [
    {
     "name": "stdout",
     "output_type": "stream",
     "text": [
      "    Name    TRU  TOT_HL_M  TOT_HL_F\n",
      "1  India  Rural    444450    390242\n",
      "2  India  Urban    602421    335927\n"
     ]
    },
    {
     "data": {
      "application/vnd.plotly.v1+json": {
       "config": {
        "plotlyServerURL": "https://plot.ly"
       },
       "data": [
        {
         "alignmentgroup": "True",
         "hovertemplate": "variable=TOT_HL_M<br>x=%{x}<br>value=%{y}<extra></extra>",
         "legendgroup": "TOT_HL_M",
         "marker": {
          "color": "#636efa",
          "pattern": {
           "shape": ""
          }
         },
         "name": "TOT_HL_M",
         "offsetgroup": "TOT_HL_M",
         "orientation": "v",
         "showlegend": true,
         "textposition": "auto",
         "type": "bar",
         "x": [
          "Rural",
          "Urban"
         ],
         "xaxis": "x",
         "y": [
          444450,
          602421
         ],
         "yaxis": "y"
        },
        {
         "alignmentgroup": "True",
         "hovertemplate": "variable=TOT_HL_F<br>x=%{x}<br>value=%{y}<extra></extra>",
         "legendgroup": "TOT_HL_F",
         "marker": {
          "color": "#EF553B",
          "pattern": {
           "shape": ""
          }
         },
         "name": "TOT_HL_F",
         "offsetgroup": "TOT_HL_F",
         "orientation": "v",
         "showlegend": true,
         "textposition": "auto",
         "type": "bar",
         "x": [
          "Rural",
          "Urban"
         ],
         "xaxis": "x",
         "y": [
          390242,
          335927
         ],
         "yaxis": "y"
        }
       ],
       "layout": {
        "barmode": "relative",
        "legend": {
         "title": {
          "text": "variable"
         },
         "tracegroupgap": 0
        },
        "margin": {
         "t": 60
        },
        "template": {
         "data": {
          "bar": [
           {
            "error_x": {
             "color": "#2a3f5f"
            },
            "error_y": {
             "color": "#2a3f5f"
            },
            "marker": {
             "line": {
              "color": "#E5ECF6",
              "width": 0.5
             },
             "pattern": {
              "fillmode": "overlay",
              "size": 10,
              "solidity": 0.2
             }
            },
            "type": "bar"
           }
          ],
          "barpolar": [
           {
            "marker": {
             "line": {
              "color": "#E5ECF6",
              "width": 0.5
             },
             "pattern": {
              "fillmode": "overlay",
              "size": 10,
              "solidity": 0.2
             }
            },
            "type": "barpolar"
           }
          ],
          "carpet": [
           {
            "aaxis": {
             "endlinecolor": "#2a3f5f",
             "gridcolor": "white",
             "linecolor": "white",
             "minorgridcolor": "white",
             "startlinecolor": "#2a3f5f"
            },
            "baxis": {
             "endlinecolor": "#2a3f5f",
             "gridcolor": "white",
             "linecolor": "white",
             "minorgridcolor": "white",
             "startlinecolor": "#2a3f5f"
            },
            "type": "carpet"
           }
          ],
          "choropleth": [
           {
            "colorbar": {
             "outlinewidth": 0,
             "ticks": ""
            },
            "type": "choropleth"
           }
          ],
          "contour": [
           {
            "colorbar": {
             "outlinewidth": 0,
             "ticks": ""
            },
            "colorscale": [
             [
              0,
              "#0d0887"
             ],
             [
              0.1111111111111111,
              "#46039f"
             ],
             [
              0.2222222222222222,
              "#7201a8"
             ],
             [
              0.3333333333333333,
              "#9c179e"
             ],
             [
              0.4444444444444444,
              "#bd3786"
             ],
             [
              0.5555555555555556,
              "#d8576b"
             ],
             [
              0.6666666666666666,
              "#ed7953"
             ],
             [
              0.7777777777777778,
              "#fb9f3a"
             ],
             [
              0.8888888888888888,
              "#fdca26"
             ],
             [
              1,
              "#f0f921"
             ]
            ],
            "type": "contour"
           }
          ],
          "contourcarpet": [
           {
            "colorbar": {
             "outlinewidth": 0,
             "ticks": ""
            },
            "type": "contourcarpet"
           }
          ],
          "heatmap": [
           {
            "colorbar": {
             "outlinewidth": 0,
             "ticks": ""
            },
            "colorscale": [
             [
              0,
              "#0d0887"
             ],
             [
              0.1111111111111111,
              "#46039f"
             ],
             [
              0.2222222222222222,
              "#7201a8"
             ],
             [
              0.3333333333333333,
              "#9c179e"
             ],
             [
              0.4444444444444444,
              "#bd3786"
             ],
             [
              0.5555555555555556,
              "#d8576b"
             ],
             [
              0.6666666666666666,
              "#ed7953"
             ],
             [
              0.7777777777777778,
              "#fb9f3a"
             ],
             [
              0.8888888888888888,
              "#fdca26"
             ],
             [
              1,
              "#f0f921"
             ]
            ],
            "type": "heatmap"
           }
          ],
          "heatmapgl": [
           {
            "colorbar": {
             "outlinewidth": 0,
             "ticks": ""
            },
            "colorscale": [
             [
              0,
              "#0d0887"
             ],
             [
              0.1111111111111111,
              "#46039f"
             ],
             [
              0.2222222222222222,
              "#7201a8"
             ],
             [
              0.3333333333333333,
              "#9c179e"
             ],
             [
              0.4444444444444444,
              "#bd3786"
             ],
             [
              0.5555555555555556,
              "#d8576b"
             ],
             [
              0.6666666666666666,
              "#ed7953"
             ],
             [
              0.7777777777777778,
              "#fb9f3a"
             ],
             [
              0.8888888888888888,
              "#fdca26"
             ],
             [
              1,
              "#f0f921"
             ]
            ],
            "type": "heatmapgl"
           }
          ],
          "histogram": [
           {
            "marker": {
             "pattern": {
              "fillmode": "overlay",
              "size": 10,
              "solidity": 0.2
             }
            },
            "type": "histogram"
           }
          ],
          "histogram2d": [
           {
            "colorbar": {
             "outlinewidth": 0,
             "ticks": ""
            },
            "colorscale": [
             [
              0,
              "#0d0887"
             ],
             [
              0.1111111111111111,
              "#46039f"
             ],
             [
              0.2222222222222222,
              "#7201a8"
             ],
             [
              0.3333333333333333,
              "#9c179e"
             ],
             [
              0.4444444444444444,
              "#bd3786"
             ],
             [
              0.5555555555555556,
              "#d8576b"
             ],
             [
              0.6666666666666666,
              "#ed7953"
             ],
             [
              0.7777777777777778,
              "#fb9f3a"
             ],
             [
              0.8888888888888888,
              "#fdca26"
             ],
             [
              1,
              "#f0f921"
             ]
            ],
            "type": "histogram2d"
           }
          ],
          "histogram2dcontour": [
           {
            "colorbar": {
             "outlinewidth": 0,
             "ticks": ""
            },
            "colorscale": [
             [
              0,
              "#0d0887"
             ],
             [
              0.1111111111111111,
              "#46039f"
             ],
             [
              0.2222222222222222,
              "#7201a8"
             ],
             [
              0.3333333333333333,
              "#9c179e"
             ],
             [
              0.4444444444444444,
              "#bd3786"
             ],
             [
              0.5555555555555556,
              "#d8576b"
             ],
             [
              0.6666666666666666,
              "#ed7953"
             ],
             [
              0.7777777777777778,
              "#fb9f3a"
             ],
             [
              0.8888888888888888,
              "#fdca26"
             ],
             [
              1,
              "#f0f921"
             ]
            ],
            "type": "histogram2dcontour"
           }
          ],
          "mesh3d": [
           {
            "colorbar": {
             "outlinewidth": 0,
             "ticks": ""
            },
            "type": "mesh3d"
           }
          ],
          "parcoords": [
           {
            "line": {
             "colorbar": {
              "outlinewidth": 0,
              "ticks": ""
             }
            },
            "type": "parcoords"
           }
          ],
          "pie": [
           {
            "automargin": true,
            "type": "pie"
           }
          ],
          "scatter": [
           {
            "fillpattern": {
             "fillmode": "overlay",
             "size": 10,
             "solidity": 0.2
            },
            "type": "scatter"
           }
          ],
          "scatter3d": [
           {
            "line": {
             "colorbar": {
              "outlinewidth": 0,
              "ticks": ""
             }
            },
            "marker": {
             "colorbar": {
              "outlinewidth": 0,
              "ticks": ""
             }
            },
            "type": "scatter3d"
           }
          ],
          "scattercarpet": [
           {
            "marker": {
             "colorbar": {
              "outlinewidth": 0,
              "ticks": ""
             }
            },
            "type": "scattercarpet"
           }
          ],
          "scattergeo": [
           {
            "marker": {
             "colorbar": {
              "outlinewidth": 0,
              "ticks": ""
             }
            },
            "type": "scattergeo"
           }
          ],
          "scattergl": [
           {
            "marker": {
             "colorbar": {
              "outlinewidth": 0,
              "ticks": ""
             }
            },
            "type": "scattergl"
           }
          ],
          "scattermapbox": [
           {
            "marker": {
             "colorbar": {
              "outlinewidth": 0,
              "ticks": ""
             }
            },
            "type": "scattermapbox"
           }
          ],
          "scatterpolar": [
           {
            "marker": {
             "colorbar": {
              "outlinewidth": 0,
              "ticks": ""
             }
            },
            "type": "scatterpolar"
           }
          ],
          "scatterpolargl": [
           {
            "marker": {
             "colorbar": {
              "outlinewidth": 0,
              "ticks": ""
             }
            },
            "type": "scatterpolargl"
           }
          ],
          "scatterternary": [
           {
            "marker": {
             "colorbar": {
              "outlinewidth": 0,
              "ticks": ""
             }
            },
            "type": "scatterternary"
           }
          ],
          "surface": [
           {
            "colorbar": {
             "outlinewidth": 0,
             "ticks": ""
            },
            "colorscale": [
             [
              0,
              "#0d0887"
             ],
             [
              0.1111111111111111,
              "#46039f"
             ],
             [
              0.2222222222222222,
              "#7201a8"
             ],
             [
              0.3333333333333333,
              "#9c179e"
             ],
             [
              0.4444444444444444,
              "#bd3786"
             ],
             [
              0.5555555555555556,
              "#d8576b"
             ],
             [
              0.6666666666666666,
              "#ed7953"
             ],
             [
              0.7777777777777778,
              "#fb9f3a"
             ],
             [
              0.8888888888888888,
              "#fdca26"
             ],
             [
              1,
              "#f0f921"
             ]
            ],
            "type": "surface"
           }
          ],
          "table": [
           {
            "cells": {
             "fill": {
              "color": "#EBF0F8"
             },
             "line": {
              "color": "white"
             }
            },
            "header": {
             "fill": {
              "color": "#C8D4E3"
             },
             "line": {
              "color": "white"
             }
            },
            "type": "table"
           }
          ]
         },
         "layout": {
          "annotationdefaults": {
           "arrowcolor": "#2a3f5f",
           "arrowhead": 0,
           "arrowwidth": 1
          },
          "autotypenumbers": "strict",
          "coloraxis": {
           "colorbar": {
            "outlinewidth": 0,
            "ticks": ""
           }
          },
          "colorscale": {
           "diverging": [
            [
             0,
             "#8e0152"
            ],
            [
             0.1,
             "#c51b7d"
            ],
            [
             0.2,
             "#de77ae"
            ],
            [
             0.3,
             "#f1b6da"
            ],
            [
             0.4,
             "#fde0ef"
            ],
            [
             0.5,
             "#f7f7f7"
            ],
            [
             0.6,
             "#e6f5d0"
            ],
            [
             0.7,
             "#b8e186"
            ],
            [
             0.8,
             "#7fbc41"
            ],
            [
             0.9,
             "#4d9221"
            ],
            [
             1,
             "#276419"
            ]
           ],
           "sequential": [
            [
             0,
             "#0d0887"
            ],
            [
             0.1111111111111111,
             "#46039f"
            ],
            [
             0.2222222222222222,
             "#7201a8"
            ],
            [
             0.3333333333333333,
             "#9c179e"
            ],
            [
             0.4444444444444444,
             "#bd3786"
            ],
            [
             0.5555555555555556,
             "#d8576b"
            ],
            [
             0.6666666666666666,
             "#ed7953"
            ],
            [
             0.7777777777777778,
             "#fb9f3a"
            ],
            [
             0.8888888888888888,
             "#fdca26"
            ],
            [
             1,
             "#f0f921"
            ]
           ],
           "sequentialminus": [
            [
             0,
             "#0d0887"
            ],
            [
             0.1111111111111111,
             "#46039f"
            ],
            [
             0.2222222222222222,
             "#7201a8"
            ],
            [
             0.3333333333333333,
             "#9c179e"
            ],
            [
             0.4444444444444444,
             "#bd3786"
            ],
            [
             0.5555555555555556,
             "#d8576b"
            ],
            [
             0.6666666666666666,
             "#ed7953"
            ],
            [
             0.7777777777777778,
             "#fb9f3a"
            ],
            [
             0.8888888888888888,
             "#fdca26"
            ],
            [
             1,
             "#f0f921"
            ]
           ]
          },
          "colorway": [
           "#636efa",
           "#EF553B",
           "#00cc96",
           "#ab63fa",
           "#FFA15A",
           "#19d3f3",
           "#FF6692",
           "#B6E880",
           "#FF97FF",
           "#FECB52"
          ],
          "font": {
           "color": "#2a3f5f"
          },
          "geo": {
           "bgcolor": "white",
           "lakecolor": "white",
           "landcolor": "#E5ECF6",
           "showlakes": true,
           "showland": true,
           "subunitcolor": "white"
          },
          "hoverlabel": {
           "align": "left"
          },
          "hovermode": "closest",
          "mapbox": {
           "style": "light"
          },
          "paper_bgcolor": "white",
          "plot_bgcolor": "#E5ECF6",
          "polar": {
           "angularaxis": {
            "gridcolor": "white",
            "linecolor": "white",
            "ticks": ""
           },
           "bgcolor": "#E5ECF6",
           "radialaxis": {
            "gridcolor": "white",
            "linecolor": "white",
            "ticks": ""
           }
          },
          "scene": {
           "xaxis": {
            "backgroundcolor": "#E5ECF6",
            "gridcolor": "white",
            "gridwidth": 2,
            "linecolor": "white",
            "showbackground": true,
            "ticks": "",
            "zerolinecolor": "white"
           },
           "yaxis": {
            "backgroundcolor": "#E5ECF6",
            "gridcolor": "white",
            "gridwidth": 2,
            "linecolor": "white",
            "showbackground": true,
            "ticks": "",
            "zerolinecolor": "white"
           },
           "zaxis": {
            "backgroundcolor": "#E5ECF6",
            "gridcolor": "white",
            "gridwidth": 2,
            "linecolor": "white",
            "showbackground": true,
            "ticks": "",
            "zerolinecolor": "white"
           }
          },
          "shapedefaults": {
           "line": {
            "color": "#2a3f5f"
           }
          },
          "ternary": {
           "aaxis": {
            "gridcolor": "white",
            "linecolor": "white",
            "ticks": ""
           },
           "baxis": {
            "gridcolor": "white",
            "linecolor": "white",
            "ticks": ""
           },
           "bgcolor": "#E5ECF6",
           "caxis": {
            "gridcolor": "white",
            "linecolor": "white",
            "ticks": ""
           }
          },
          "title": {
           "x": 0.05
          },
          "xaxis": {
           "automargin": true,
           "gridcolor": "white",
           "linecolor": "white",
           "ticks": "",
           "title": {
            "standoff": 15
           },
           "zerolinecolor": "white",
           "zerolinewidth": 2
          },
          "yaxis": {
           "automargin": true,
           "gridcolor": "white",
           "linecolor": "white",
           "ticks": "",
           "title": {
            "standoff": 15
           },
           "zerolinecolor": "white",
           "zerolinewidth": 2
          }
         }
        },
        "xaxis": {
         "anchor": "y",
         "domain": [
          0,
          1
         ],
         "title": {
          "text": "x"
         }
        },
        "yaxis": {
         "anchor": "x",
         "domain": [
          0,
          1
         ],
         "title": {
          "text": "value"
         }
        }
       }
      }
     },
     "metadata": {},
     "output_type": "display_data"
    }
   ],
   "source": [
    "df1 = pd.DataFrame(dataset.loc[(dataset['Name']=='India')&(dataset['TRU']!='Total')], columns=['Name','TRU' , 'TOT_HL_M',\"TOT_HL_F\"])\n",
    "print(df1)\n",
    "fig1 = px.bar(df1, y=['TOT_HL_M','TOT_HL_F'], x=['Rural', 'Urban'])\n",
    "fig1.show()"
   ]
  },
  {
   "cell_type": "code",
   "execution_count": 14,
   "metadata": {},
   "outputs": [
    {
     "data": {
      "text/html": [
       "<div>\n",
       "<style scoped>\n",
       "    .dataframe tbody tr th:only-of-type {\n",
       "        vertical-align: middle;\n",
       "    }\n",
       "\n",
       "    .dataframe tbody tr th {\n",
       "        vertical-align: top;\n",
       "    }\n",
       "\n",
       "    .dataframe thead th {\n",
       "        text-align: right;\n",
       "    }\n",
       "</style>\n",
       "<table border=\"1\" class=\"dataframe\">\n",
       "  <thead>\n",
       "    <tr style=\"text-align: right;\">\n",
       "      <th></th>\n",
       "      <th>State</th>\n",
       "      <th>Rural</th>\n",
       "      <th>Urban</th>\n",
       "      <th>TOT_</th>\n",
       "    </tr>\n",
       "  </thead>\n",
       "  <tbody>\n",
       "    <tr>\n",
       "      <th>0</th>\n",
       "      <td>JAMMU &amp; KASHMIR</td>\n",
       "      <td>8199</td>\n",
       "      <td>10848</td>\n",
       "      <td>19047</td>\n",
       "    </tr>\n",
       "    <tr>\n",
       "      <th>1</th>\n",
       "      <td>HIMACHAL PRADESH</td>\n",
       "      <td>3226</td>\n",
       "      <td>872</td>\n",
       "      <td>4098</td>\n",
       "    </tr>\n",
       "    <tr>\n",
       "      <th>2</th>\n",
       "      <td>PUNJAB</td>\n",
       "      <td>28340</td>\n",
       "      <td>18374</td>\n",
       "      <td>46714</td>\n",
       "    </tr>\n",
       "    <tr>\n",
       "      <th>3</th>\n",
       "      <td>CHANDIGARH</td>\n",
       "      <td>6</td>\n",
       "      <td>4133</td>\n",
       "      <td>4139</td>\n",
       "    </tr>\n",
       "    <tr>\n",
       "      <th>4</th>\n",
       "      <td>UTTARAKHAND</td>\n",
       "      <td>6268</td>\n",
       "      <td>5556</td>\n",
       "      <td>11824</td>\n",
       "    </tr>\n",
       "    <tr>\n",
       "      <th>5</th>\n",
       "      <td>HARYANA</td>\n",
       "      <td>28082</td>\n",
       "      <td>23789</td>\n",
       "      <td>51871</td>\n",
       "    </tr>\n",
       "    <tr>\n",
       "      <th>6</th>\n",
       "      <td>NCT OF DELHI</td>\n",
       "      <td>352</td>\n",
       "      <td>46724</td>\n",
       "      <td>47076</td>\n",
       "    </tr>\n",
       "    <tr>\n",
       "      <th>7</th>\n",
       "      <td>RAJASTHAN</td>\n",
       "      <td>108308</td>\n",
       "      <td>73236</td>\n",
       "      <td>181544</td>\n",
       "    </tr>\n",
       "    <tr>\n",
       "      <th>8</th>\n",
       "      <td>UTTAR PRADESH</td>\n",
       "      <td>148196</td>\n",
       "      <td>180929</td>\n",
       "      <td>329125</td>\n",
       "    </tr>\n",
       "    <tr>\n",
       "      <th>9</th>\n",
       "      <td>BIHAR</td>\n",
       "      <td>32993</td>\n",
       "      <td>12591</td>\n",
       "      <td>45584</td>\n",
       "    </tr>\n",
       "    <tr>\n",
       "      <th>10</th>\n",
       "      <td>SIKKIM</td>\n",
       "      <td>245</td>\n",
       "      <td>32</td>\n",
       "      <td>277</td>\n",
       "    </tr>\n",
       "    <tr>\n",
       "      <th>11</th>\n",
       "      <td>ARUNACHAL PRADESH</td>\n",
       "      <td>1243</td>\n",
       "      <td>313</td>\n",
       "      <td>1556</td>\n",
       "    </tr>\n",
       "    <tr>\n",
       "      <th>12</th>\n",
       "      <td>NAGALAND</td>\n",
       "      <td>532</td>\n",
       "      <td>344</td>\n",
       "      <td>876</td>\n",
       "    </tr>\n",
       "    <tr>\n",
       "      <th>13</th>\n",
       "      <td>Manipur</td>\n",
       "      <td>1881</td>\n",
       "      <td>1331</td>\n",
       "      <td>3212</td>\n",
       "    </tr>\n",
       "    <tr>\n",
       "      <th>14</th>\n",
       "      <td>MIZORAM</td>\n",
       "      <td>48</td>\n",
       "      <td>104</td>\n",
       "      <td>152</td>\n",
       "    </tr>\n",
       "    <tr>\n",
       "      <th>15</th>\n",
       "      <td>TRIPURA</td>\n",
       "      <td>1873</td>\n",
       "      <td>1352</td>\n",
       "      <td>3225</td>\n",
       "    </tr>\n",
       "    <tr>\n",
       "      <th>16</th>\n",
       "      <td>MEGHALAYA</td>\n",
       "      <td>1064</td>\n",
       "      <td>177</td>\n",
       "      <td>1241</td>\n",
       "    </tr>\n",
       "    <tr>\n",
       "      <th>17</th>\n",
       "      <td>ASSAM</td>\n",
       "      <td>10392</td>\n",
       "      <td>2527</td>\n",
       "      <td>12919</td>\n",
       "    </tr>\n",
       "    <tr>\n",
       "      <th>18</th>\n",
       "      <td>WEST BENGAL</td>\n",
       "      <td>29073</td>\n",
       "      <td>104967</td>\n",
       "      <td>134040</td>\n",
       "    </tr>\n",
       "    <tr>\n",
       "      <th>19</th>\n",
       "      <td>JHARKHAND</td>\n",
       "      <td>16424</td>\n",
       "      <td>6967</td>\n",
       "      <td>23391</td>\n",
       "    </tr>\n",
       "    <tr>\n",
       "      <th>20</th>\n",
       "      <td>ODISHA</td>\n",
       "      <td>20008</td>\n",
       "      <td>14053</td>\n",
       "      <td>34061</td>\n",
       "    </tr>\n",
       "    <tr>\n",
       "      <th>21</th>\n",
       "      <td>CHHATTISGARH</td>\n",
       "      <td>17681</td>\n",
       "      <td>6533</td>\n",
       "      <td>24214</td>\n",
       "    </tr>\n",
       "    <tr>\n",
       "      <th>22</th>\n",
       "      <td>MADHYA PRADESH</td>\n",
       "      <td>80380</td>\n",
       "      <td>66055</td>\n",
       "      <td>146435</td>\n",
       "    </tr>\n",
       "    <tr>\n",
       "      <th>23</th>\n",
       "      <td>GUJARAT</td>\n",
       "      <td>59484</td>\n",
       "      <td>84822</td>\n",
       "      <td>144306</td>\n",
       "    </tr>\n",
       "    <tr>\n",
       "      <th>24</th>\n",
       "      <td>DAMAN &amp; DIU</td>\n",
       "      <td>146</td>\n",
       "      <td>591</td>\n",
       "      <td>737</td>\n",
       "    </tr>\n",
       "    <tr>\n",
       "      <th>25</th>\n",
       "      <td>DADRA &amp; NAGAR HAVELI</td>\n",
       "      <td>723</td>\n",
       "      <td>281</td>\n",
       "      <td>1004</td>\n",
       "    </tr>\n",
       "    <tr>\n",
       "      <th>26</th>\n",
       "      <td>MAHARASHTRA</td>\n",
       "      <td>99535</td>\n",
       "      <td>111373</td>\n",
       "      <td>210908</td>\n",
       "    </tr>\n",
       "    <tr>\n",
       "      <th>27</th>\n",
       "      <td>ANDHRA PRADESH</td>\n",
       "      <td>69354</td>\n",
       "      <td>75857</td>\n",
       "      <td>145211</td>\n",
       "    </tr>\n",
       "    <tr>\n",
       "      <th>28</th>\n",
       "      <td>KARNATAKA</td>\n",
       "      <td>41262</td>\n",
       "      <td>35473</td>\n",
       "      <td>76735</td>\n",
       "    </tr>\n",
       "    <tr>\n",
       "      <th>29</th>\n",
       "      <td>GOA</td>\n",
       "      <td>1358</td>\n",
       "      <td>1693</td>\n",
       "      <td>3051</td>\n",
       "    </tr>\n",
       "    <tr>\n",
       "      <th>30</th>\n",
       "      <td>KERALA</td>\n",
       "      <td>4092</td>\n",
       "      <td>7761</td>\n",
       "      <td>11853</td>\n",
       "    </tr>\n",
       "    <tr>\n",
       "      <th>31</th>\n",
       "      <td>TAMIL NADU</td>\n",
       "      <td>13812</td>\n",
       "      <td>37117</td>\n",
       "      <td>50929</td>\n",
       "    </tr>\n",
       "    <tr>\n",
       "      <th>32</th>\n",
       "      <td>PUDUCHERRY</td>\n",
       "      <td>82</td>\n",
       "      <td>1508</td>\n",
       "      <td>1590</td>\n",
       "    </tr>\n",
       "    <tr>\n",
       "      <th>33</th>\n",
       "      <td>ANDAMAN &amp; NICOBAR ISLANDS</td>\n",
       "      <td>30</td>\n",
       "      <td>65</td>\n",
       "      <td>95</td>\n",
       "    </tr>\n",
       "  </tbody>\n",
       "</table>\n",
       "</div>"
      ],
      "text/plain": [
       "                        State   Rural   Urban    TOT_\n",
       "0             JAMMU & KASHMIR    8199   10848   19047\n",
       "1            HIMACHAL PRADESH    3226     872    4098\n",
       "2                      PUNJAB   28340   18374   46714\n",
       "3                  CHANDIGARH       6    4133    4139\n",
       "4                 UTTARAKHAND    6268    5556   11824\n",
       "5                     HARYANA   28082   23789   51871\n",
       "6                NCT OF DELHI     352   46724   47076\n",
       "7                   RAJASTHAN  108308   73236  181544\n",
       "8               UTTAR PRADESH  148196  180929  329125\n",
       "9                       BIHAR   32993   12591   45584\n",
       "10                     SIKKIM     245      32     277\n",
       "11          ARUNACHAL PRADESH    1243     313    1556\n",
       "12                   NAGALAND     532     344     876\n",
       "13                    Manipur    1881    1331    3212\n",
       "14                    MIZORAM      48     104     152\n",
       "15                    TRIPURA    1873    1352    3225\n",
       "16                  MEGHALAYA    1064     177    1241\n",
       "17                      ASSAM   10392    2527   12919\n",
       "18                WEST BENGAL   29073  104967  134040\n",
       "19                  JHARKHAND   16424    6967   23391\n",
       "20                     ODISHA   20008   14053   34061\n",
       "21               CHHATTISGARH   17681    6533   24214\n",
       "22             MADHYA PRADESH   80380   66055  146435\n",
       "23                    GUJARAT   59484   84822  144306\n",
       "24                DAMAN & DIU     146     591     737\n",
       "25       DADRA & NAGAR HAVELI     723     281    1004\n",
       "26                MAHARASHTRA   99535  111373  210908\n",
       "27             ANDHRA PRADESH   69354   75857  145211\n",
       "28                  KARNATAKA   41262   35473   76735\n",
       "29                        GOA    1358    1693    3051\n",
       "30                     KERALA    4092    7761   11853\n",
       "31                 TAMIL NADU   13812   37117   50929\n",
       "32                 PUDUCHERRY      82    1508    1590\n",
       "33  ANDAMAN & NICOBAR ISLANDS      30      65      95"
      ]
     },
     "execution_count": 14,
     "metadata": {},
     "output_type": "execute_result"
    }
   ],
   "source": [
    "df"
   ]
  },
  {
   "attachments": {},
   "cell_type": "markdown",
   "metadata": {},
   "source": [
    "Following is a pie chart accounting for the amount of homeless population in each state/Union Territory."
   ]
  },
  {
   "cell_type": "code",
   "execution_count": 15,
   "metadata": {},
   "outputs": [
    {
     "data": {
      "application/vnd.plotly.v1+json": {
       "config": {
        "plotlyServerURL": "https://plot.ly"
       },
       "data": [
        {
         "labels": [
          "JAMMU & KASHMIR",
          "HIMACHAL PRADESH",
          "PUNJAB",
          "CHANDIGARH",
          "UTTARAKHAND",
          "HARYANA",
          "NCT OF DELHI",
          "RAJASTHAN",
          "UTTAR PRADESH",
          "BIHAR",
          "SIKKIM",
          "ARUNACHAL PRADESH",
          "NAGALAND",
          "Manipur",
          "MIZORAM",
          "TRIPURA",
          "MEGHALAYA",
          "ASSAM",
          "WEST BENGAL",
          "JHARKHAND",
          "ODISHA",
          "CHHATTISGARH",
          "MADHYA PRADESH",
          "GUJARAT",
          "DAMAN & DIU",
          "DADRA & NAGAR HAVELI",
          "MAHARASHTRA",
          "ANDHRA PRADESH",
          "KARNATAKA",
          "GOA",
          "KERALA",
          "TAMIL NADU",
          "PUDUCHERRY",
          "ANDAMAN & NICOBAR ISLANDS"
         ],
         "textinfo": "percent+label",
         "textposition": "inside",
         "type": "pie",
         "values": [
          19047,
          4098,
          46714,
          4139,
          11824,
          51871,
          47076,
          181544,
          329125,
          45584,
          277,
          1556,
          876,
          3212,
          152,
          3225,
          1241,
          12919,
          134040,
          23391,
          34061,
          24214,
          146435,
          144306,
          737,
          1004,
          210908,
          145211,
          76735,
          3051,
          11853,
          50929,
          1590,
          95
         ]
        }
       ],
       "layout": {
        "template": {
         "data": {
          "bar": [
           {
            "error_x": {
             "color": "#2a3f5f"
            },
            "error_y": {
             "color": "#2a3f5f"
            },
            "marker": {
             "line": {
              "color": "#E5ECF6",
              "width": 0.5
             },
             "pattern": {
              "fillmode": "overlay",
              "size": 10,
              "solidity": 0.2
             }
            },
            "type": "bar"
           }
          ],
          "barpolar": [
           {
            "marker": {
             "line": {
              "color": "#E5ECF6",
              "width": 0.5
             },
             "pattern": {
              "fillmode": "overlay",
              "size": 10,
              "solidity": 0.2
             }
            },
            "type": "barpolar"
           }
          ],
          "carpet": [
           {
            "aaxis": {
             "endlinecolor": "#2a3f5f",
             "gridcolor": "white",
             "linecolor": "white",
             "minorgridcolor": "white",
             "startlinecolor": "#2a3f5f"
            },
            "baxis": {
             "endlinecolor": "#2a3f5f",
             "gridcolor": "white",
             "linecolor": "white",
             "minorgridcolor": "white",
             "startlinecolor": "#2a3f5f"
            },
            "type": "carpet"
           }
          ],
          "choropleth": [
           {
            "colorbar": {
             "outlinewidth": 0,
             "ticks": ""
            },
            "type": "choropleth"
           }
          ],
          "contour": [
           {
            "colorbar": {
             "outlinewidth": 0,
             "ticks": ""
            },
            "colorscale": [
             [
              0,
              "#0d0887"
             ],
             [
              0.1111111111111111,
              "#46039f"
             ],
             [
              0.2222222222222222,
              "#7201a8"
             ],
             [
              0.3333333333333333,
              "#9c179e"
             ],
             [
              0.4444444444444444,
              "#bd3786"
             ],
             [
              0.5555555555555556,
              "#d8576b"
             ],
             [
              0.6666666666666666,
              "#ed7953"
             ],
             [
              0.7777777777777778,
              "#fb9f3a"
             ],
             [
              0.8888888888888888,
              "#fdca26"
             ],
             [
              1,
              "#f0f921"
             ]
            ],
            "type": "contour"
           }
          ],
          "contourcarpet": [
           {
            "colorbar": {
             "outlinewidth": 0,
             "ticks": ""
            },
            "type": "contourcarpet"
           }
          ],
          "heatmap": [
           {
            "colorbar": {
             "outlinewidth": 0,
             "ticks": ""
            },
            "colorscale": [
             [
              0,
              "#0d0887"
             ],
             [
              0.1111111111111111,
              "#46039f"
             ],
             [
              0.2222222222222222,
              "#7201a8"
             ],
             [
              0.3333333333333333,
              "#9c179e"
             ],
             [
              0.4444444444444444,
              "#bd3786"
             ],
             [
              0.5555555555555556,
              "#d8576b"
             ],
             [
              0.6666666666666666,
              "#ed7953"
             ],
             [
              0.7777777777777778,
              "#fb9f3a"
             ],
             [
              0.8888888888888888,
              "#fdca26"
             ],
             [
              1,
              "#f0f921"
             ]
            ],
            "type": "heatmap"
           }
          ],
          "heatmapgl": [
           {
            "colorbar": {
             "outlinewidth": 0,
             "ticks": ""
            },
            "colorscale": [
             [
              0,
              "#0d0887"
             ],
             [
              0.1111111111111111,
              "#46039f"
             ],
             [
              0.2222222222222222,
              "#7201a8"
             ],
             [
              0.3333333333333333,
              "#9c179e"
             ],
             [
              0.4444444444444444,
              "#bd3786"
             ],
             [
              0.5555555555555556,
              "#d8576b"
             ],
             [
              0.6666666666666666,
              "#ed7953"
             ],
             [
              0.7777777777777778,
              "#fb9f3a"
             ],
             [
              0.8888888888888888,
              "#fdca26"
             ],
             [
              1,
              "#f0f921"
             ]
            ],
            "type": "heatmapgl"
           }
          ],
          "histogram": [
           {
            "marker": {
             "pattern": {
              "fillmode": "overlay",
              "size": 10,
              "solidity": 0.2
             }
            },
            "type": "histogram"
           }
          ],
          "histogram2d": [
           {
            "colorbar": {
             "outlinewidth": 0,
             "ticks": ""
            },
            "colorscale": [
             [
              0,
              "#0d0887"
             ],
             [
              0.1111111111111111,
              "#46039f"
             ],
             [
              0.2222222222222222,
              "#7201a8"
             ],
             [
              0.3333333333333333,
              "#9c179e"
             ],
             [
              0.4444444444444444,
              "#bd3786"
             ],
             [
              0.5555555555555556,
              "#d8576b"
             ],
             [
              0.6666666666666666,
              "#ed7953"
             ],
             [
              0.7777777777777778,
              "#fb9f3a"
             ],
             [
              0.8888888888888888,
              "#fdca26"
             ],
             [
              1,
              "#f0f921"
             ]
            ],
            "type": "histogram2d"
           }
          ],
          "histogram2dcontour": [
           {
            "colorbar": {
             "outlinewidth": 0,
             "ticks": ""
            },
            "colorscale": [
             [
              0,
              "#0d0887"
             ],
             [
              0.1111111111111111,
              "#46039f"
             ],
             [
              0.2222222222222222,
              "#7201a8"
             ],
             [
              0.3333333333333333,
              "#9c179e"
             ],
             [
              0.4444444444444444,
              "#bd3786"
             ],
             [
              0.5555555555555556,
              "#d8576b"
             ],
             [
              0.6666666666666666,
              "#ed7953"
             ],
             [
              0.7777777777777778,
              "#fb9f3a"
             ],
             [
              0.8888888888888888,
              "#fdca26"
             ],
             [
              1,
              "#f0f921"
             ]
            ],
            "type": "histogram2dcontour"
           }
          ],
          "mesh3d": [
           {
            "colorbar": {
             "outlinewidth": 0,
             "ticks": ""
            },
            "type": "mesh3d"
           }
          ],
          "parcoords": [
           {
            "line": {
             "colorbar": {
              "outlinewidth": 0,
              "ticks": ""
             }
            },
            "type": "parcoords"
           }
          ],
          "pie": [
           {
            "automargin": true,
            "type": "pie"
           }
          ],
          "scatter": [
           {
            "fillpattern": {
             "fillmode": "overlay",
             "size": 10,
             "solidity": 0.2
            },
            "type": "scatter"
           }
          ],
          "scatter3d": [
           {
            "line": {
             "colorbar": {
              "outlinewidth": 0,
              "ticks": ""
             }
            },
            "marker": {
             "colorbar": {
              "outlinewidth": 0,
              "ticks": ""
             }
            },
            "type": "scatter3d"
           }
          ],
          "scattercarpet": [
           {
            "marker": {
             "colorbar": {
              "outlinewidth": 0,
              "ticks": ""
             }
            },
            "type": "scattercarpet"
           }
          ],
          "scattergeo": [
           {
            "marker": {
             "colorbar": {
              "outlinewidth": 0,
              "ticks": ""
             }
            },
            "type": "scattergeo"
           }
          ],
          "scattergl": [
           {
            "marker": {
             "colorbar": {
              "outlinewidth": 0,
              "ticks": ""
             }
            },
            "type": "scattergl"
           }
          ],
          "scattermapbox": [
           {
            "marker": {
             "colorbar": {
              "outlinewidth": 0,
              "ticks": ""
             }
            },
            "type": "scattermapbox"
           }
          ],
          "scatterpolar": [
           {
            "marker": {
             "colorbar": {
              "outlinewidth": 0,
              "ticks": ""
             }
            },
            "type": "scatterpolar"
           }
          ],
          "scatterpolargl": [
           {
            "marker": {
             "colorbar": {
              "outlinewidth": 0,
              "ticks": ""
             }
            },
            "type": "scatterpolargl"
           }
          ],
          "scatterternary": [
           {
            "marker": {
             "colorbar": {
              "outlinewidth": 0,
              "ticks": ""
             }
            },
            "type": "scatterternary"
           }
          ],
          "surface": [
           {
            "colorbar": {
             "outlinewidth": 0,
             "ticks": ""
            },
            "colorscale": [
             [
              0,
              "#0d0887"
             ],
             [
              0.1111111111111111,
              "#46039f"
             ],
             [
              0.2222222222222222,
              "#7201a8"
             ],
             [
              0.3333333333333333,
              "#9c179e"
             ],
             [
              0.4444444444444444,
              "#bd3786"
             ],
             [
              0.5555555555555556,
              "#d8576b"
             ],
             [
              0.6666666666666666,
              "#ed7953"
             ],
             [
              0.7777777777777778,
              "#fb9f3a"
             ],
             [
              0.8888888888888888,
              "#fdca26"
             ],
             [
              1,
              "#f0f921"
             ]
            ],
            "type": "surface"
           }
          ],
          "table": [
           {
            "cells": {
             "fill": {
              "color": "#EBF0F8"
             },
             "line": {
              "color": "white"
             }
            },
            "header": {
             "fill": {
              "color": "#C8D4E3"
             },
             "line": {
              "color": "white"
             }
            },
            "type": "table"
           }
          ]
         },
         "layout": {
          "annotationdefaults": {
           "arrowcolor": "#2a3f5f",
           "arrowhead": 0,
           "arrowwidth": 1
          },
          "autotypenumbers": "strict",
          "coloraxis": {
           "colorbar": {
            "outlinewidth": 0,
            "ticks": ""
           }
          },
          "colorscale": {
           "diverging": [
            [
             0,
             "#8e0152"
            ],
            [
             0.1,
             "#c51b7d"
            ],
            [
             0.2,
             "#de77ae"
            ],
            [
             0.3,
             "#f1b6da"
            ],
            [
             0.4,
             "#fde0ef"
            ],
            [
             0.5,
             "#f7f7f7"
            ],
            [
             0.6,
             "#e6f5d0"
            ],
            [
             0.7,
             "#b8e186"
            ],
            [
             0.8,
             "#7fbc41"
            ],
            [
             0.9,
             "#4d9221"
            ],
            [
             1,
             "#276419"
            ]
           ],
           "sequential": [
            [
             0,
             "#0d0887"
            ],
            [
             0.1111111111111111,
             "#46039f"
            ],
            [
             0.2222222222222222,
             "#7201a8"
            ],
            [
             0.3333333333333333,
             "#9c179e"
            ],
            [
             0.4444444444444444,
             "#bd3786"
            ],
            [
             0.5555555555555556,
             "#d8576b"
            ],
            [
             0.6666666666666666,
             "#ed7953"
            ],
            [
             0.7777777777777778,
             "#fb9f3a"
            ],
            [
             0.8888888888888888,
             "#fdca26"
            ],
            [
             1,
             "#f0f921"
            ]
           ],
           "sequentialminus": [
            [
             0,
             "#0d0887"
            ],
            [
             0.1111111111111111,
             "#46039f"
            ],
            [
             0.2222222222222222,
             "#7201a8"
            ],
            [
             0.3333333333333333,
             "#9c179e"
            ],
            [
             0.4444444444444444,
             "#bd3786"
            ],
            [
             0.5555555555555556,
             "#d8576b"
            ],
            [
             0.6666666666666666,
             "#ed7953"
            ],
            [
             0.7777777777777778,
             "#fb9f3a"
            ],
            [
             0.8888888888888888,
             "#fdca26"
            ],
            [
             1,
             "#f0f921"
            ]
           ]
          },
          "colorway": [
           "#636efa",
           "#EF553B",
           "#00cc96",
           "#ab63fa",
           "#FFA15A",
           "#19d3f3",
           "#FF6692",
           "#B6E880",
           "#FF97FF",
           "#FECB52"
          ],
          "font": {
           "color": "#2a3f5f"
          },
          "geo": {
           "bgcolor": "white",
           "lakecolor": "white",
           "landcolor": "#E5ECF6",
           "showlakes": true,
           "showland": true,
           "subunitcolor": "white"
          },
          "hoverlabel": {
           "align": "left"
          },
          "hovermode": "closest",
          "mapbox": {
           "style": "light"
          },
          "paper_bgcolor": "white",
          "plot_bgcolor": "#E5ECF6",
          "polar": {
           "angularaxis": {
            "gridcolor": "white",
            "linecolor": "white",
            "ticks": ""
           },
           "bgcolor": "#E5ECF6",
           "radialaxis": {
            "gridcolor": "white",
            "linecolor": "white",
            "ticks": ""
           }
          },
          "scene": {
           "xaxis": {
            "backgroundcolor": "#E5ECF6",
            "gridcolor": "white",
            "gridwidth": 2,
            "linecolor": "white",
            "showbackground": true,
            "ticks": "",
            "zerolinecolor": "white"
           },
           "yaxis": {
            "backgroundcolor": "#E5ECF6",
            "gridcolor": "white",
            "gridwidth": 2,
            "linecolor": "white",
            "showbackground": true,
            "ticks": "",
            "zerolinecolor": "white"
           },
           "zaxis": {
            "backgroundcolor": "#E5ECF6",
            "gridcolor": "white",
            "gridwidth": 2,
            "linecolor": "white",
            "showbackground": true,
            "ticks": "",
            "zerolinecolor": "white"
           }
          },
          "shapedefaults": {
           "line": {
            "color": "#2a3f5f"
           }
          },
          "ternary": {
           "aaxis": {
            "gridcolor": "white",
            "linecolor": "white",
            "ticks": ""
           },
           "baxis": {
            "gridcolor": "white",
            "linecolor": "white",
            "ticks": ""
           },
           "bgcolor": "#E5ECF6",
           "caxis": {
            "gridcolor": "white",
            "linecolor": "white",
            "ticks": ""
           }
          },
          "title": {
           "x": 0.05
          },
          "xaxis": {
           "automargin": true,
           "gridcolor": "white",
           "linecolor": "white",
           "ticks": "",
           "title": {
            "standoff": 15
           },
           "zerolinecolor": "white",
           "zerolinewidth": 2
          },
          "yaxis": {
           "automargin": true,
           "gridcolor": "white",
           "linecolor": "white",
           "ticks": "",
           "title": {
            "standoff": 15
           },
           "zerolinecolor": "white",
           "zerolinewidth": 2
          }
         }
        }
       }
      }
     },
     "metadata": {},
     "output_type": "display_data"
    }
   ],
   "source": [
    "import plotly.graph_objects as go\n",
    "fig2 = go.Figure(data=[go.Pie(labels= df['State']  , values=df['TOT_'])])\n",
    "fig2.update_traces(textposition='inside', textinfo='percent+label')\n",
    "fig2.show()"
   ]
  },
  {
   "attachments": {},
   "cell_type": "markdown",
   "metadata": {},
   "source": [
    "# Lets try to analyse Homelessness based on Literacy Status."
   ]
  },
  {
   "cell_type": "code",
   "execution_count": 16,
   "metadata": {},
   "outputs": [
    {
     "data": {
      "text/html": [
       "<div>\n",
       "<style scoped>\n",
       "    .dataframe tbody tr th:only-of-type {\n",
       "        vertical-align: middle;\n",
       "    }\n",
       "\n",
       "    .dataframe tbody tr th {\n",
       "        vertical-align: top;\n",
       "    }\n",
       "\n",
       "    .dataframe thead th {\n",
       "        text-align: right;\n",
       "    }\n",
       "</style>\n",
       "<table border=\"1\" class=\"dataframe\">\n",
       "  <thead>\n",
       "    <tr style=\"text-align: right;\">\n",
       "      <th></th>\n",
       "      <th>Name</th>\n",
       "      <th>TRU</th>\n",
       "      <th>P_LIT</th>\n",
       "      <th>M_LIT</th>\n",
       "      <th>F_LIT</th>\n",
       "      <th>P_ILL</th>\n",
       "      <th>M_ILL</th>\n",
       "      <th>F_ILL</th>\n",
       "    </tr>\n",
       "  </thead>\n",
       "  <tbody>\n",
       "    <tr>\n",
       "      <th>0</th>\n",
       "      <td>India</td>\n",
       "      <td>Total</td>\n",
       "      <td>588392</td>\n",
       "      <td>404475</td>\n",
       "      <td>183917</td>\n",
       "      <td>1184648</td>\n",
       "      <td>642396</td>\n",
       "      <td>542252</td>\n",
       "    </tr>\n",
       "    <tr>\n",
       "      <th>1</th>\n",
       "      <td>India</td>\n",
       "      <td>Rural</td>\n",
       "      <td>251445</td>\n",
       "      <td>162019</td>\n",
       "      <td>89426</td>\n",
       "      <td>583247</td>\n",
       "      <td>282431</td>\n",
       "      <td>300816</td>\n",
       "    </tr>\n",
       "    <tr>\n",
       "      <th>2</th>\n",
       "      <td>India</td>\n",
       "      <td>Urban</td>\n",
       "      <td>336947</td>\n",
       "      <td>242456</td>\n",
       "      <td>94491</td>\n",
       "      <td>601401</td>\n",
       "      <td>359965</td>\n",
       "      <td>241436</td>\n",
       "    </tr>\n",
       "  </tbody>\n",
       "</table>\n",
       "</div>"
      ],
      "text/plain": [
       "    Name    TRU   P_LIT   M_LIT   F_LIT    P_ILL   M_ILL   F_ILL\n",
       "0  India  Total  588392  404475  183917  1184648  642396  542252\n",
       "1  India  Rural  251445  162019   89426   583247  282431  300816\n",
       "2  India  Urban  336947  242456   94491   601401  359965  241436"
      ]
     },
     "execution_count": 16,
     "metadata": {},
     "output_type": "execute_result"
    }
   ],
   "source": [
    "#getting our relevant data frame ready!\n",
    "df3_ = pd.DataFrame(dataset[dataset['Name']=='India'] , columns=['Name','TRU' , 'P_LIT',\"M_LIT\",\"F_LIT\",\"P_ILL\",\"M_ILL\",\"F_ILL\"])\n",
    "df3_ = df3_.reset_index(drop=True)\n",
    "df3_"
   ]
  },
  {
   "cell_type": "code",
   "execution_count": 17,
   "metadata": {},
   "outputs": [
    {
     "data": {
      "application/vnd.plotly.v1+json": {
       "config": {
        "plotlyServerURL": "https://plot.ly"
       },
       "data": [
        {
         "domain": {
          "x": [
           0,
           0.45
          ],
          "y": [
           0,
           1
          ]
         },
         "labels": [
          [
           "India",
           "Rural",
           251445,
           162019,
           89426,
           583247,
           282431,
           300816
          ],
          [
           "India",
           "Urban",
           336947,
           242456,
           94491,
           601401,
           359965,
           241436
          ]
         ],
         "textinfo": "percent",
         "textposition": "inside",
         "type": "pie",
         "values": [
          1184648,
          583247,
          601401
         ]
        },
        {
         "domain": {
          "x": [
           0.55,
           1
          ],
          "y": [
           0,
           1
          ]
         },
         "labels": [
          [
           "India",
           "Rural",
           251445,
           162019,
           89426,
           583247,
           282431,
           300816
          ],
          [
           "India",
           "Urban",
           336947,
           242456,
           94491,
           601401,
           359965,
           241436
          ]
         ],
         "textinfo": "percent",
         "textposition": "inside",
         "type": "pie",
         "values": [
          588392,
          251445,
          336947
         ]
        }
       ],
       "layout": {
        "annotations": [
         {
          "font": {
           "size": 16
          },
          "showarrow": false,
          "text": "Homeless Literates in India (Urban/Rural)",
          "x": 0.225,
          "xanchor": "center",
          "xref": "paper",
          "y": 1,
          "yanchor": "bottom",
          "yref": "paper"
         },
         {
          "font": {
           "size": 16
          },
          "showarrow": false,
          "text": "Homeless Illiterates in India (Urban/Rural)",
          "x": 0.775,
          "xanchor": "center",
          "xref": "paper",
          "y": 1,
          "yanchor": "bottom",
          "yref": "paper"
         }
        ],
        "template": {
         "data": {
          "bar": [
           {
            "error_x": {
             "color": "#2a3f5f"
            },
            "error_y": {
             "color": "#2a3f5f"
            },
            "marker": {
             "line": {
              "color": "#E5ECF6",
              "width": 0.5
             },
             "pattern": {
              "fillmode": "overlay",
              "size": 10,
              "solidity": 0.2
             }
            },
            "type": "bar"
           }
          ],
          "barpolar": [
           {
            "marker": {
             "line": {
              "color": "#E5ECF6",
              "width": 0.5
             },
             "pattern": {
              "fillmode": "overlay",
              "size": 10,
              "solidity": 0.2
             }
            },
            "type": "barpolar"
           }
          ],
          "carpet": [
           {
            "aaxis": {
             "endlinecolor": "#2a3f5f",
             "gridcolor": "white",
             "linecolor": "white",
             "minorgridcolor": "white",
             "startlinecolor": "#2a3f5f"
            },
            "baxis": {
             "endlinecolor": "#2a3f5f",
             "gridcolor": "white",
             "linecolor": "white",
             "minorgridcolor": "white",
             "startlinecolor": "#2a3f5f"
            },
            "type": "carpet"
           }
          ],
          "choropleth": [
           {
            "colorbar": {
             "outlinewidth": 0,
             "ticks": ""
            },
            "type": "choropleth"
           }
          ],
          "contour": [
           {
            "colorbar": {
             "outlinewidth": 0,
             "ticks": ""
            },
            "colorscale": [
             [
              0,
              "#0d0887"
             ],
             [
              0.1111111111111111,
              "#46039f"
             ],
             [
              0.2222222222222222,
              "#7201a8"
             ],
             [
              0.3333333333333333,
              "#9c179e"
             ],
             [
              0.4444444444444444,
              "#bd3786"
             ],
             [
              0.5555555555555556,
              "#d8576b"
             ],
             [
              0.6666666666666666,
              "#ed7953"
             ],
             [
              0.7777777777777778,
              "#fb9f3a"
             ],
             [
              0.8888888888888888,
              "#fdca26"
             ],
             [
              1,
              "#f0f921"
             ]
            ],
            "type": "contour"
           }
          ],
          "contourcarpet": [
           {
            "colorbar": {
             "outlinewidth": 0,
             "ticks": ""
            },
            "type": "contourcarpet"
           }
          ],
          "heatmap": [
           {
            "colorbar": {
             "outlinewidth": 0,
             "ticks": ""
            },
            "colorscale": [
             [
              0,
              "#0d0887"
             ],
             [
              0.1111111111111111,
              "#46039f"
             ],
             [
              0.2222222222222222,
              "#7201a8"
             ],
             [
              0.3333333333333333,
              "#9c179e"
             ],
             [
              0.4444444444444444,
              "#bd3786"
             ],
             [
              0.5555555555555556,
              "#d8576b"
             ],
             [
              0.6666666666666666,
              "#ed7953"
             ],
             [
              0.7777777777777778,
              "#fb9f3a"
             ],
             [
              0.8888888888888888,
              "#fdca26"
             ],
             [
              1,
              "#f0f921"
             ]
            ],
            "type": "heatmap"
           }
          ],
          "heatmapgl": [
           {
            "colorbar": {
             "outlinewidth": 0,
             "ticks": ""
            },
            "colorscale": [
             [
              0,
              "#0d0887"
             ],
             [
              0.1111111111111111,
              "#46039f"
             ],
             [
              0.2222222222222222,
              "#7201a8"
             ],
             [
              0.3333333333333333,
              "#9c179e"
             ],
             [
              0.4444444444444444,
              "#bd3786"
             ],
             [
              0.5555555555555556,
              "#d8576b"
             ],
             [
              0.6666666666666666,
              "#ed7953"
             ],
             [
              0.7777777777777778,
              "#fb9f3a"
             ],
             [
              0.8888888888888888,
              "#fdca26"
             ],
             [
              1,
              "#f0f921"
             ]
            ],
            "type": "heatmapgl"
           }
          ],
          "histogram": [
           {
            "marker": {
             "pattern": {
              "fillmode": "overlay",
              "size": 10,
              "solidity": 0.2
             }
            },
            "type": "histogram"
           }
          ],
          "histogram2d": [
           {
            "colorbar": {
             "outlinewidth": 0,
             "ticks": ""
            },
            "colorscale": [
             [
              0,
              "#0d0887"
             ],
             [
              0.1111111111111111,
              "#46039f"
             ],
             [
              0.2222222222222222,
              "#7201a8"
             ],
             [
              0.3333333333333333,
              "#9c179e"
             ],
             [
              0.4444444444444444,
              "#bd3786"
             ],
             [
              0.5555555555555556,
              "#d8576b"
             ],
             [
              0.6666666666666666,
              "#ed7953"
             ],
             [
              0.7777777777777778,
              "#fb9f3a"
             ],
             [
              0.8888888888888888,
              "#fdca26"
             ],
             [
              1,
              "#f0f921"
             ]
            ],
            "type": "histogram2d"
           }
          ],
          "histogram2dcontour": [
           {
            "colorbar": {
             "outlinewidth": 0,
             "ticks": ""
            },
            "colorscale": [
             [
              0,
              "#0d0887"
             ],
             [
              0.1111111111111111,
              "#46039f"
             ],
             [
              0.2222222222222222,
              "#7201a8"
             ],
             [
              0.3333333333333333,
              "#9c179e"
             ],
             [
              0.4444444444444444,
              "#bd3786"
             ],
             [
              0.5555555555555556,
              "#d8576b"
             ],
             [
              0.6666666666666666,
              "#ed7953"
             ],
             [
              0.7777777777777778,
              "#fb9f3a"
             ],
             [
              0.8888888888888888,
              "#fdca26"
             ],
             [
              1,
              "#f0f921"
             ]
            ],
            "type": "histogram2dcontour"
           }
          ],
          "mesh3d": [
           {
            "colorbar": {
             "outlinewidth": 0,
             "ticks": ""
            },
            "type": "mesh3d"
           }
          ],
          "parcoords": [
           {
            "line": {
             "colorbar": {
              "outlinewidth": 0,
              "ticks": ""
             }
            },
            "type": "parcoords"
           }
          ],
          "pie": [
           {
            "automargin": true,
            "type": "pie"
           }
          ],
          "scatter": [
           {
            "fillpattern": {
             "fillmode": "overlay",
             "size": 10,
             "solidity": 0.2
            },
            "type": "scatter"
           }
          ],
          "scatter3d": [
           {
            "line": {
             "colorbar": {
              "outlinewidth": 0,
              "ticks": ""
             }
            },
            "marker": {
             "colorbar": {
              "outlinewidth": 0,
              "ticks": ""
             }
            },
            "type": "scatter3d"
           }
          ],
          "scattercarpet": [
           {
            "marker": {
             "colorbar": {
              "outlinewidth": 0,
              "ticks": ""
             }
            },
            "type": "scattercarpet"
           }
          ],
          "scattergeo": [
           {
            "marker": {
             "colorbar": {
              "outlinewidth": 0,
              "ticks": ""
             }
            },
            "type": "scattergeo"
           }
          ],
          "scattergl": [
           {
            "marker": {
             "colorbar": {
              "outlinewidth": 0,
              "ticks": ""
             }
            },
            "type": "scattergl"
           }
          ],
          "scattermapbox": [
           {
            "marker": {
             "colorbar": {
              "outlinewidth": 0,
              "ticks": ""
             }
            },
            "type": "scattermapbox"
           }
          ],
          "scatterpolar": [
           {
            "marker": {
             "colorbar": {
              "outlinewidth": 0,
              "ticks": ""
             }
            },
            "type": "scatterpolar"
           }
          ],
          "scatterpolargl": [
           {
            "marker": {
             "colorbar": {
              "outlinewidth": 0,
              "ticks": ""
             }
            },
            "type": "scatterpolargl"
           }
          ],
          "scatterternary": [
           {
            "marker": {
             "colorbar": {
              "outlinewidth": 0,
              "ticks": ""
             }
            },
            "type": "scatterternary"
           }
          ],
          "surface": [
           {
            "colorbar": {
             "outlinewidth": 0,
             "ticks": ""
            },
            "colorscale": [
             [
              0,
              "#0d0887"
             ],
             [
              0.1111111111111111,
              "#46039f"
             ],
             [
              0.2222222222222222,
              "#7201a8"
             ],
             [
              0.3333333333333333,
              "#9c179e"
             ],
             [
              0.4444444444444444,
              "#bd3786"
             ],
             [
              0.5555555555555556,
              "#d8576b"
             ],
             [
              0.6666666666666666,
              "#ed7953"
             ],
             [
              0.7777777777777778,
              "#fb9f3a"
             ],
             [
              0.8888888888888888,
              "#fdca26"
             ],
             [
              1,
              "#f0f921"
             ]
            ],
            "type": "surface"
           }
          ],
          "table": [
           {
            "cells": {
             "fill": {
              "color": "#EBF0F8"
             },
             "line": {
              "color": "white"
             }
            },
            "header": {
             "fill": {
              "color": "#C8D4E3"
             },
             "line": {
              "color": "white"
             }
            },
            "type": "table"
           }
          ]
         },
         "layout": {
          "annotationdefaults": {
           "arrowcolor": "#2a3f5f",
           "arrowhead": 0,
           "arrowwidth": 1
          },
          "autotypenumbers": "strict",
          "coloraxis": {
           "colorbar": {
            "outlinewidth": 0,
            "ticks": ""
           }
          },
          "colorscale": {
           "diverging": [
            [
             0,
             "#8e0152"
            ],
            [
             0.1,
             "#c51b7d"
            ],
            [
             0.2,
             "#de77ae"
            ],
            [
             0.3,
             "#f1b6da"
            ],
            [
             0.4,
             "#fde0ef"
            ],
            [
             0.5,
             "#f7f7f7"
            ],
            [
             0.6,
             "#e6f5d0"
            ],
            [
             0.7,
             "#b8e186"
            ],
            [
             0.8,
             "#7fbc41"
            ],
            [
             0.9,
             "#4d9221"
            ],
            [
             1,
             "#276419"
            ]
           ],
           "sequential": [
            [
             0,
             "#0d0887"
            ],
            [
             0.1111111111111111,
             "#46039f"
            ],
            [
             0.2222222222222222,
             "#7201a8"
            ],
            [
             0.3333333333333333,
             "#9c179e"
            ],
            [
             0.4444444444444444,
             "#bd3786"
            ],
            [
             0.5555555555555556,
             "#d8576b"
            ],
            [
             0.6666666666666666,
             "#ed7953"
            ],
            [
             0.7777777777777778,
             "#fb9f3a"
            ],
            [
             0.8888888888888888,
             "#fdca26"
            ],
            [
             1,
             "#f0f921"
            ]
           ],
           "sequentialminus": [
            [
             0,
             "#0d0887"
            ],
            [
             0.1111111111111111,
             "#46039f"
            ],
            [
             0.2222222222222222,
             "#7201a8"
            ],
            [
             0.3333333333333333,
             "#9c179e"
            ],
            [
             0.4444444444444444,
             "#bd3786"
            ],
            [
             0.5555555555555556,
             "#d8576b"
            ],
            [
             0.6666666666666666,
             "#ed7953"
            ],
            [
             0.7777777777777778,
             "#fb9f3a"
            ],
            [
             0.8888888888888888,
             "#fdca26"
            ],
            [
             1,
             "#f0f921"
            ]
           ]
          },
          "colorway": [
           "#636efa",
           "#EF553B",
           "#00cc96",
           "#ab63fa",
           "#FFA15A",
           "#19d3f3",
           "#FF6692",
           "#B6E880",
           "#FF97FF",
           "#FECB52"
          ],
          "font": {
           "color": "#2a3f5f"
          },
          "geo": {
           "bgcolor": "white",
           "lakecolor": "white",
           "landcolor": "#E5ECF6",
           "showlakes": true,
           "showland": true,
           "subunitcolor": "white"
          },
          "hoverlabel": {
           "align": "left"
          },
          "hovermode": "closest",
          "mapbox": {
           "style": "light"
          },
          "paper_bgcolor": "white",
          "plot_bgcolor": "#E5ECF6",
          "polar": {
           "angularaxis": {
            "gridcolor": "white",
            "linecolor": "white",
            "ticks": ""
           },
           "bgcolor": "#E5ECF6",
           "radialaxis": {
            "gridcolor": "white",
            "linecolor": "white",
            "ticks": ""
           }
          },
          "scene": {
           "xaxis": {
            "backgroundcolor": "#E5ECF6",
            "gridcolor": "white",
            "gridwidth": 2,
            "linecolor": "white",
            "showbackground": true,
            "ticks": "",
            "zerolinecolor": "white"
           },
           "yaxis": {
            "backgroundcolor": "#E5ECF6",
            "gridcolor": "white",
            "gridwidth": 2,
            "linecolor": "white",
            "showbackground": true,
            "ticks": "",
            "zerolinecolor": "white"
           },
           "zaxis": {
            "backgroundcolor": "#E5ECF6",
            "gridcolor": "white",
            "gridwidth": 2,
            "linecolor": "white",
            "showbackground": true,
            "ticks": "",
            "zerolinecolor": "white"
           }
          },
          "shapedefaults": {
           "line": {
            "color": "#2a3f5f"
           }
          },
          "ternary": {
           "aaxis": {
            "gridcolor": "white",
            "linecolor": "white",
            "ticks": ""
           },
           "baxis": {
            "gridcolor": "white",
            "linecolor": "white",
            "ticks": ""
           },
           "bgcolor": "#E5ECF6",
           "caxis": {
            "gridcolor": "white",
            "linecolor": "white",
            "ticks": ""
           }
          },
          "title": {
           "x": 0.05
          },
          "xaxis": {
           "automargin": true,
           "gridcolor": "white",
           "linecolor": "white",
           "ticks": "",
           "title": {
            "standoff": 15
           },
           "zerolinecolor": "white",
           "zerolinewidth": 2
          },
          "yaxis": {
           "automargin": true,
           "gridcolor": "white",
           "linecolor": "white",
           "ticks": "",
           "title": {
            "standoff": 15
           },
           "zerolinecolor": "white",
           "zerolinewidth": 2
          }
         }
        },
        "title": {
         "text": "Homelessness according to Literacy"
        }
       }
      }
     },
     "metadata": {},
     "output_type": "display_data"
    }
   ],
   "source": [
    "from plotly.subplots import make_subplots\n",
    "fig3 = make_subplots(rows=1, cols=2, specs = [[{'type':'domain'}, {'type':'domain'}]] , subplot_titles=['Homeless Literates in India (Urban/Rural)', 'Homeless Illiterates in India (Urban/Rural)'])\n",
    "fig3__2 = go.Pie(labels= df3_[df3_['TRU'] != 'Total']  , values=df3_['P_LIT'])\n",
    "fig3__1 = go.Pie(labels= df3_[df3_['TRU'] != 'Total']  , values=df3_['P_ILL'])\n",
    "fig3.add_trace(fig3__1, 1, 1)\n",
    "fig3.add_trace(fig3__2, 1, 2)\n",
    "fig3.update_layout(title_text='Homelessness according to Literacy')\n",
    "\n",
    "fig3.update_traces(textposition='inside', textinfo='percent')\n",
    "fig3.show()"
   ]
  },
  {
   "cell_type": "code",
   "execution_count": 72,
   "metadata": {},
   "outputs": [
    {
     "name": "stdout",
     "output_type": "stream",
     "text": [
      "  Status   Rural   Urban\n",
      "0    LIT  251445  336947\n",
      "1  ILLIT  583247  601401\n",
      "588392  is total Literate Homeless population\n",
      "1184648  is total il-Literate Homeless population\n"
     ]
    }
   ],
   "source": [
    "Li = {'Status': ['LIT' , 'ILLIT'] , 'Rural': [] , 'Urban': []}\n",
    "\n",
    "Lit_R_P = int(df3_[(df3_['TRU'] == 'Rural')].P_LIT)\n",
    "Lit_U_P = int(df3_[(df3_['TRU'] == 'Urban')].P_LIT)\n",
    "iLit_U_P = int(df3_[(df3_['TRU'] == 'Urban')].P_ILL)\n",
    "iLit_R_P = int(df3_[(df3_['TRU'] == 'Rural')].P_ILL)\n",
    "Li['Rural'].append(Lit_R_P)\n",
    "Li['Urban'].append(Lit_U_P)\n",
    "Li['Rural'].append(iLit_R_P)\n",
    "Li['Urban'].append(iLit_U_P)\n",
    "Li = pd.DataFrame(Li)\n",
    "print(Li)\n",
    "print(int(df3_[(df3_['TRU'] == 'Total')].P_LIT) , \" is total Literate Homeless population\")\n",
    "print(int(df3_[(df3_['TRU'] == 'Total')].P_ILL) , \" is total il-Literate Homeless population\")\n",
    "\n"
   ]
  },
  {
   "cell_type": "code",
   "execution_count": 19,
   "metadata": {},
   "outputs": [
    {
     "data": {
      "text/plain": [
       "[251445, 336947]"
      ]
     },
     "execution_count": 19,
     "metadata": {},
     "output_type": "execute_result"
    }
   ],
   "source": [
    "#TEST TEST TESTING SOMETHING!\n",
    "li = [int(Li[Li['Status'] == 'LIT']['Rural']) , int(Li[Li['Status'] == 'LIT']['Urban'])]\n",
    "li"
   ]
  },
  {
   "cell_type": "code",
   "execution_count": 64,
   "metadata": {},
   "outputs": [
    {
     "data": {
      "application/vnd.plotly.v1+json": {
       "config": {
        "plotlyServerURL": "https://plot.ly"
       },
       "data": [
        {
         "domain": {
          "x": [
           0,
           0.45
          ],
          "y": [
           0.625,
           1
          ]
         },
         "labels": [
          "LIT",
          "ILLIT"
         ],
         "type": "pie",
         "values": [
          251445,
          583247
         ]
        },
        {
         "domain": {
          "x": [
           0.55,
           1
          ],
          "y": [
           0.625,
           1
          ]
         },
         "labels": [
          "LIT",
          "ILLIT"
         ],
         "type": "pie",
         "values": [
          336947,
          601401
         ]
        },
        {
         "domain": {
          "x": [
           0.55,
           1
          ],
          "y": [
           0.625,
           1
          ]
         },
         "labels": [
          "LIT",
          "ILLIT"
         ],
         "type": "pie",
         "values": [
          336947,
          601401
         ]
        },
        {
         "domain": {
          "x": [
           0,
           0.45
          ],
          "y": [
           0,
           0.375
          ]
         },
         "labels": [
          "Rural",
          "Urban"
         ],
         "type": "pie",
         "values": [
          251445,
          336947
         ]
        },
        {
         "domain": {
          "x": [
           0.55,
           1
          ],
          "y": [
           0,
           0.375
          ]
         },
         "labels": [
          "Rural",
          "Urban"
         ],
         "type": "pie",
         "values": [
          583247,
          601401
         ]
        }
       ],
       "layout": {
        "annotations": [
         {
          "font": {
           "size": 16
          },
          "showarrow": false,
          "text": "Rural Homeless and Literacy",
          "x": 0.225,
          "xanchor": "center",
          "xref": "paper",
          "y": 1,
          "yanchor": "bottom",
          "yref": "paper"
         },
         {
          "font": {
           "size": 16
          },
          "showarrow": false,
          "text": "Urban Homelessness and Literacy",
          "x": 0.775,
          "xanchor": "center",
          "xref": "paper",
          "y": 1,
          "yanchor": "bottom",
          "yref": "paper"
         },
         {
          "font": {
           "size": 16
          },
          "showarrow": false,
          "text": "Literate Homelessness (Urban/Rural)",
          "x": 0.225,
          "xanchor": "center",
          "xref": "paper",
          "y": 0.375,
          "yanchor": "bottom",
          "yref": "paper"
         },
         {
          "font": {
           "size": 16
          },
          "showarrow": false,
          "text": "Illiterate Homelessness (Urban/Rural)",
          "x": 0.775,
          "xanchor": "center",
          "xref": "paper",
          "y": 0.375,
          "yanchor": "bottom",
          "yref": "paper"
         }
        ],
        "height": 700,
        "showlegend": false,
        "template": {
         "data": {
          "bar": [
           {
            "error_x": {
             "color": "#2a3f5f"
            },
            "error_y": {
             "color": "#2a3f5f"
            },
            "marker": {
             "line": {
              "color": "#E5ECF6",
              "width": 0.5
             },
             "pattern": {
              "fillmode": "overlay",
              "size": 10,
              "solidity": 0.2
             }
            },
            "type": "bar"
           }
          ],
          "barpolar": [
           {
            "marker": {
             "line": {
              "color": "#E5ECF6",
              "width": 0.5
             },
             "pattern": {
              "fillmode": "overlay",
              "size": 10,
              "solidity": 0.2
             }
            },
            "type": "barpolar"
           }
          ],
          "carpet": [
           {
            "aaxis": {
             "endlinecolor": "#2a3f5f",
             "gridcolor": "white",
             "linecolor": "white",
             "minorgridcolor": "white",
             "startlinecolor": "#2a3f5f"
            },
            "baxis": {
             "endlinecolor": "#2a3f5f",
             "gridcolor": "white",
             "linecolor": "white",
             "minorgridcolor": "white",
             "startlinecolor": "#2a3f5f"
            },
            "type": "carpet"
           }
          ],
          "choropleth": [
           {
            "colorbar": {
             "outlinewidth": 0,
             "ticks": ""
            },
            "type": "choropleth"
           }
          ],
          "contour": [
           {
            "colorbar": {
             "outlinewidth": 0,
             "ticks": ""
            },
            "colorscale": [
             [
              0,
              "#0d0887"
             ],
             [
              0.1111111111111111,
              "#46039f"
             ],
             [
              0.2222222222222222,
              "#7201a8"
             ],
             [
              0.3333333333333333,
              "#9c179e"
             ],
             [
              0.4444444444444444,
              "#bd3786"
             ],
             [
              0.5555555555555556,
              "#d8576b"
             ],
             [
              0.6666666666666666,
              "#ed7953"
             ],
             [
              0.7777777777777778,
              "#fb9f3a"
             ],
             [
              0.8888888888888888,
              "#fdca26"
             ],
             [
              1,
              "#f0f921"
             ]
            ],
            "type": "contour"
           }
          ],
          "contourcarpet": [
           {
            "colorbar": {
             "outlinewidth": 0,
             "ticks": ""
            },
            "type": "contourcarpet"
           }
          ],
          "heatmap": [
           {
            "colorbar": {
             "outlinewidth": 0,
             "ticks": ""
            },
            "colorscale": [
             [
              0,
              "#0d0887"
             ],
             [
              0.1111111111111111,
              "#46039f"
             ],
             [
              0.2222222222222222,
              "#7201a8"
             ],
             [
              0.3333333333333333,
              "#9c179e"
             ],
             [
              0.4444444444444444,
              "#bd3786"
             ],
             [
              0.5555555555555556,
              "#d8576b"
             ],
             [
              0.6666666666666666,
              "#ed7953"
             ],
             [
              0.7777777777777778,
              "#fb9f3a"
             ],
             [
              0.8888888888888888,
              "#fdca26"
             ],
             [
              1,
              "#f0f921"
             ]
            ],
            "type": "heatmap"
           }
          ],
          "heatmapgl": [
           {
            "colorbar": {
             "outlinewidth": 0,
             "ticks": ""
            },
            "colorscale": [
             [
              0,
              "#0d0887"
             ],
             [
              0.1111111111111111,
              "#46039f"
             ],
             [
              0.2222222222222222,
              "#7201a8"
             ],
             [
              0.3333333333333333,
              "#9c179e"
             ],
             [
              0.4444444444444444,
              "#bd3786"
             ],
             [
              0.5555555555555556,
              "#d8576b"
             ],
             [
              0.6666666666666666,
              "#ed7953"
             ],
             [
              0.7777777777777778,
              "#fb9f3a"
             ],
             [
              0.8888888888888888,
              "#fdca26"
             ],
             [
              1,
              "#f0f921"
             ]
            ],
            "type": "heatmapgl"
           }
          ],
          "histogram": [
           {
            "marker": {
             "pattern": {
              "fillmode": "overlay",
              "size": 10,
              "solidity": 0.2
             }
            },
            "type": "histogram"
           }
          ],
          "histogram2d": [
           {
            "colorbar": {
             "outlinewidth": 0,
             "ticks": ""
            },
            "colorscale": [
             [
              0,
              "#0d0887"
             ],
             [
              0.1111111111111111,
              "#46039f"
             ],
             [
              0.2222222222222222,
              "#7201a8"
             ],
             [
              0.3333333333333333,
              "#9c179e"
             ],
             [
              0.4444444444444444,
              "#bd3786"
             ],
             [
              0.5555555555555556,
              "#d8576b"
             ],
             [
              0.6666666666666666,
              "#ed7953"
             ],
             [
              0.7777777777777778,
              "#fb9f3a"
             ],
             [
              0.8888888888888888,
              "#fdca26"
             ],
             [
              1,
              "#f0f921"
             ]
            ],
            "type": "histogram2d"
           }
          ],
          "histogram2dcontour": [
           {
            "colorbar": {
             "outlinewidth": 0,
             "ticks": ""
            },
            "colorscale": [
             [
              0,
              "#0d0887"
             ],
             [
              0.1111111111111111,
              "#46039f"
             ],
             [
              0.2222222222222222,
              "#7201a8"
             ],
             [
              0.3333333333333333,
              "#9c179e"
             ],
             [
              0.4444444444444444,
              "#bd3786"
             ],
             [
              0.5555555555555556,
              "#d8576b"
             ],
             [
              0.6666666666666666,
              "#ed7953"
             ],
             [
              0.7777777777777778,
              "#fb9f3a"
             ],
             [
              0.8888888888888888,
              "#fdca26"
             ],
             [
              1,
              "#f0f921"
             ]
            ],
            "type": "histogram2dcontour"
           }
          ],
          "mesh3d": [
           {
            "colorbar": {
             "outlinewidth": 0,
             "ticks": ""
            },
            "type": "mesh3d"
           }
          ],
          "parcoords": [
           {
            "line": {
             "colorbar": {
              "outlinewidth": 0,
              "ticks": ""
             }
            },
            "type": "parcoords"
           }
          ],
          "pie": [
           {
            "automargin": true,
            "type": "pie"
           }
          ],
          "scatter": [
           {
            "fillpattern": {
             "fillmode": "overlay",
             "size": 10,
             "solidity": 0.2
            },
            "type": "scatter"
           }
          ],
          "scatter3d": [
           {
            "line": {
             "colorbar": {
              "outlinewidth": 0,
              "ticks": ""
             }
            },
            "marker": {
             "colorbar": {
              "outlinewidth": 0,
              "ticks": ""
             }
            },
            "type": "scatter3d"
           }
          ],
          "scattercarpet": [
           {
            "marker": {
             "colorbar": {
              "outlinewidth": 0,
              "ticks": ""
             }
            },
            "type": "scattercarpet"
           }
          ],
          "scattergeo": [
           {
            "marker": {
             "colorbar": {
              "outlinewidth": 0,
              "ticks": ""
             }
            },
            "type": "scattergeo"
           }
          ],
          "scattergl": [
           {
            "marker": {
             "colorbar": {
              "outlinewidth": 0,
              "ticks": ""
             }
            },
            "type": "scattergl"
           }
          ],
          "scattermapbox": [
           {
            "marker": {
             "colorbar": {
              "outlinewidth": 0,
              "ticks": ""
             }
            },
            "type": "scattermapbox"
           }
          ],
          "scatterpolar": [
           {
            "marker": {
             "colorbar": {
              "outlinewidth": 0,
              "ticks": ""
             }
            },
            "type": "scatterpolar"
           }
          ],
          "scatterpolargl": [
           {
            "marker": {
             "colorbar": {
              "outlinewidth": 0,
              "ticks": ""
             }
            },
            "type": "scatterpolargl"
           }
          ],
          "scatterternary": [
           {
            "marker": {
             "colorbar": {
              "outlinewidth": 0,
              "ticks": ""
             }
            },
            "type": "scatterternary"
           }
          ],
          "surface": [
           {
            "colorbar": {
             "outlinewidth": 0,
             "ticks": ""
            },
            "colorscale": [
             [
              0,
              "#0d0887"
             ],
             [
              0.1111111111111111,
              "#46039f"
             ],
             [
              0.2222222222222222,
              "#7201a8"
             ],
             [
              0.3333333333333333,
              "#9c179e"
             ],
             [
              0.4444444444444444,
              "#bd3786"
             ],
             [
              0.5555555555555556,
              "#d8576b"
             ],
             [
              0.6666666666666666,
              "#ed7953"
             ],
             [
              0.7777777777777778,
              "#fb9f3a"
             ],
             [
              0.8888888888888888,
              "#fdca26"
             ],
             [
              1,
              "#f0f921"
             ]
            ],
            "type": "surface"
           }
          ],
          "table": [
           {
            "cells": {
             "fill": {
              "color": "#EBF0F8"
             },
             "line": {
              "color": "white"
             }
            },
            "header": {
             "fill": {
              "color": "#C8D4E3"
             },
             "line": {
              "color": "white"
             }
            },
            "type": "table"
           }
          ]
         },
         "layout": {
          "annotationdefaults": {
           "arrowcolor": "#2a3f5f",
           "arrowhead": 0,
           "arrowwidth": 1
          },
          "autotypenumbers": "strict",
          "coloraxis": {
           "colorbar": {
            "outlinewidth": 0,
            "ticks": ""
           }
          },
          "colorscale": {
           "diverging": [
            [
             0,
             "#8e0152"
            ],
            [
             0.1,
             "#c51b7d"
            ],
            [
             0.2,
             "#de77ae"
            ],
            [
             0.3,
             "#f1b6da"
            ],
            [
             0.4,
             "#fde0ef"
            ],
            [
             0.5,
             "#f7f7f7"
            ],
            [
             0.6,
             "#e6f5d0"
            ],
            [
             0.7,
             "#b8e186"
            ],
            [
             0.8,
             "#7fbc41"
            ],
            [
             0.9,
             "#4d9221"
            ],
            [
             1,
             "#276419"
            ]
           ],
           "sequential": [
            [
             0,
             "#0d0887"
            ],
            [
             0.1111111111111111,
             "#46039f"
            ],
            [
             0.2222222222222222,
             "#7201a8"
            ],
            [
             0.3333333333333333,
             "#9c179e"
            ],
            [
             0.4444444444444444,
             "#bd3786"
            ],
            [
             0.5555555555555556,
             "#d8576b"
            ],
            [
             0.6666666666666666,
             "#ed7953"
            ],
            [
             0.7777777777777778,
             "#fb9f3a"
            ],
            [
             0.8888888888888888,
             "#fdca26"
            ],
            [
             1,
             "#f0f921"
            ]
           ],
           "sequentialminus": [
            [
             0,
             "#0d0887"
            ],
            [
             0.1111111111111111,
             "#46039f"
            ],
            [
             0.2222222222222222,
             "#7201a8"
            ],
            [
             0.3333333333333333,
             "#9c179e"
            ],
            [
             0.4444444444444444,
             "#bd3786"
            ],
            [
             0.5555555555555556,
             "#d8576b"
            ],
            [
             0.6666666666666666,
             "#ed7953"
            ],
            [
             0.7777777777777778,
             "#fb9f3a"
            ],
            [
             0.8888888888888888,
             "#fdca26"
            ],
            [
             1,
             "#f0f921"
            ]
           ]
          },
          "colorway": [
           "#636efa",
           "#EF553B",
           "#00cc96",
           "#ab63fa",
           "#FFA15A",
           "#19d3f3",
           "#FF6692",
           "#B6E880",
           "#FF97FF",
           "#FECB52"
          ],
          "font": {
           "color": "#2a3f5f"
          },
          "geo": {
           "bgcolor": "white",
           "lakecolor": "white",
           "landcolor": "#E5ECF6",
           "showlakes": true,
           "showland": true,
           "subunitcolor": "white"
          },
          "hoverlabel": {
           "align": "left"
          },
          "hovermode": "closest",
          "mapbox": {
           "style": "light"
          },
          "paper_bgcolor": "white",
          "plot_bgcolor": "#E5ECF6",
          "polar": {
           "angularaxis": {
            "gridcolor": "white",
            "linecolor": "white",
            "ticks": ""
           },
           "bgcolor": "#E5ECF6",
           "radialaxis": {
            "gridcolor": "white",
            "linecolor": "white",
            "ticks": ""
           }
          },
          "scene": {
           "xaxis": {
            "backgroundcolor": "#E5ECF6",
            "gridcolor": "white",
            "gridwidth": 2,
            "linecolor": "white",
            "showbackground": true,
            "ticks": "",
            "zerolinecolor": "white"
           },
           "yaxis": {
            "backgroundcolor": "#E5ECF6",
            "gridcolor": "white",
            "gridwidth": 2,
            "linecolor": "white",
            "showbackground": true,
            "ticks": "",
            "zerolinecolor": "white"
           },
           "zaxis": {
            "backgroundcolor": "#E5ECF6",
            "gridcolor": "white",
            "gridwidth": 2,
            "linecolor": "white",
            "showbackground": true,
            "ticks": "",
            "zerolinecolor": "white"
           }
          },
          "shapedefaults": {
           "line": {
            "color": "#2a3f5f"
           }
          },
          "ternary": {
           "aaxis": {
            "gridcolor": "white",
            "linecolor": "white",
            "ticks": ""
           },
           "baxis": {
            "gridcolor": "white",
            "linecolor": "white",
            "ticks": ""
           },
           "bgcolor": "#E5ECF6",
           "caxis": {
            "gridcolor": "white",
            "linecolor": "white",
            "ticks": ""
           }
          },
          "title": {
           "x": 0.05
          },
          "xaxis": {
           "automargin": true,
           "gridcolor": "white",
           "linecolor": "white",
           "ticks": "",
           "title": {
            "standoff": 15
           },
           "zerolinecolor": "white",
           "zerolinewidth": 2
          },
          "yaxis": {
           "automargin": true,
           "gridcolor": "white",
           "linecolor": "white",
           "ticks": "",
           "title": {
            "standoff": 15
           },
           "zerolinecolor": "white",
           "zerolinewidth": 2
          }
         }
        },
        "title": {
         "text": "Homelessness according to Literacy Rural vs Urban Areas"
        }
       }
      }
     },
     "metadata": {},
     "output_type": "display_data"
    }
   ],
   "source": [
    "fig3_ = make_subplots(rows=2   , cols=2, specs = [[{'type':'domain'}, {'type':'domain'}] , [{'type':'domain'}, {'type':'domain'}]] , subplot_titles=['Rural Homeless and Literacy', 'Urban Homelessness and Literacy' , 'Literate Homelessness (Urban/Rural)' , 'Illiterate Homelessness (Urban/Rural)'])\n",
    "fig3_1 = go.Pie(labels= Li['Status'] , values=Li['Rural'])\n",
    "fig3_2 = go.Pie(labels= Li['Status'] , values=Li['Urban'])\n",
    "fig3_3 = go.Pie(labels= ['Rural' , 'Urban'] , values= [int(Li[Li['Status'] == 'LIT']['Rural']) , int(Li[Li['Status'] == 'LIT']['Urban'])] )\n",
    "fig3_4 = go.Pie(labels= ['Rural' , 'Urban'] , values= [int(Li[Li['Status'] == 'ILLIT']['Rural']) , int(Li[Li['Status'] == 'ILLIT']['Urban'])])\n",
    "fig3_.add_trace(go.Pie(labels= Li['Status'] , values=Li['Rural']), 1, 1)\n",
    "fig3_.add_trace(go.Pie(labels= Li['Status'] , values=Li['Urban']), 1, 2)\n",
    "fig3_.add_trace(go.Pie(labels= Li['Status'] , values=Li['Urban']), 1, 2)\n",
    "fig3_.add_trace(fig3_3 , 2, 1)\n",
    "fig3_.add_trace(fig3_4 , 2, 2)\n",
    "fig3_.update_layout(title_text='''Homelessness according to Literacy Rural vs Urban Areas''',height=700, showlegend=False)\n",
    "\n",
    "#fig3_ = go.Figure(fig3_)\n",
    "fig3_.show()"
   ]
  },
  {
   "attachments": {},
   "cell_type": "markdown",
   "metadata": {},
   "source": [
    "Inference:\n",
    "\n",
    "By looking at the share of homelessness according to the given pie charts, we can draw the following inferences about the 2011 Homelessness Census of India:-\n",
    "\n",
    "1. The Literacy as a factor affecting the Homelessness based on the Area (Rural/Urban):\n",
    "\n",
    "    - Lesser literate people are homeless in both the Rural (30.1%) and Urban (35.9%).\n",
    "\n",
    "    - The homelessness among Urban Literates is more prevelant, both in terms of share of percentage and number as per statistics, than the Rural Literate Homeless people.\n",
    "\n",
    "    - Illiteracy in rural areas accounts for more share of homelessness (~ 69.9%) than illiteracy based homelessness in Urban areas.\n",
    "\n",
    "    - Although, the previous point holds, the number of Illiterate people who are 'homeless' in Urban areas (601.4k) is more than the numbers of illiterate homeless people in the Rural areas (583.24k)\n",
    "    \n",
    "2. Homelessness based on if a person is Literate or not (comparison between Rural and Urban areas):\n",
    "    - Share of literate Homeless Rural people (42.7%) is less than the Literate Homeless Urban People (57.3%).\n",
    "    \n",
    "    - An average Literate person is more likely to be homeless in Urban areas than in Rural Areas.\n",
    "    \n",
    "    - Share of Illiterate Homeless Urban People (50.8%) is more or less the same as the share of Illiterate Homeless Rural (49.2%)\n",
    "    \n",
    "    - An average Illiterate Homeless Urban person is probably less likely to be Homeless in Rural areas than in Urban areas, with not much difference.\n",
    "    \n",
    "    - Number based stats-\n",
    "        - about 251.4k Rural Literate people are Homeless whereas 583.24k Rural Illiterate people are Homeless compared to:\n",
    "        - about 336.94k Urban Literate people being Homeless whereas 601.4k Urban Illiterate people are Homeless."
   ]
  },
  {
   "attachments": {},
   "cell_type": "markdown",
   "metadata": {},
   "source": [
    "Charts for comparing the statistics of Homeless people based on gender and literacy analysed side by side:"
   ]
  },
  {
   "cell_type": "code",
   "execution_count": 86,
   "metadata": {},
   "outputs": [
    {
     "data": {
      "application/vnd.plotly.v1+json": {
       "config": {
        "plotlyServerURL": "https://plot.ly"
       },
       "data": [
        {
         "domain": {
          "x": [
           0,
           0.45
          ],
          "y": [
           0.5625,
           1
          ]
         },
         "labels": [
          "M_LIT",
          "F_LIT"
         ],
         "type": "pie",
         "values": [
          404475,
          183917
         ]
        },
        {
         "domain": {
          "x": [
           0.55,
           1
          ],
          "y": [
           0.5625,
           1
          ]
         },
         "labels": [
          "M_ILL",
          "F_ILL"
         ],
         "type": "pie",
         "values": [
          642396,
          542252
         ]
        },
        {
         "domain": {
          "x": [
           0,
           0.45
          ],
          "y": [
           0.28125,
           0.4375
          ]
         },
         "labels": [
          "M_LIT",
          "F_LIT"
         ],
         "type": "pie",
         "values": [
          162019,
          89426
         ]
        },
        {
         "domain": {
          "x": [
           0.55,
           1
          ],
          "y": [
           0.28125,
           0.4375
          ]
         },
         "labels": [
          "M_LIT",
          "F_LIT"
         ],
         "type": "pie",
         "values": [
          242456,
          94491
         ]
        },
        {
         "domain": {
          "x": [
           0,
           0.45
          ],
          "y": [
           0,
           0.15625
          ]
         },
         "labels": [
          "M_ILL",
          "F_ILL"
         ],
         "type": "pie",
         "values": [
          282431,
          300816
         ]
        },
        {
         "domain": {
          "x": [
           0.55,
           1
          ],
          "y": [
           0,
           0.15625
          ]
         },
         "labels": [
          "M_ILL",
          "F_ILL"
         ],
         "type": "pie",
         "values": [
          359965,
          241436
         ]
        }
       ],
       "layout": {
        "annotations": [
         {
          "font": {
           "size": 16
          },
          "showarrow": false,
          "text": "Literate Homeless Males vs Females",
          "x": 0.225,
          "xanchor": "center",
          "xref": "paper",
          "y": 1,
          "yanchor": "bottom",
          "yref": "paper"
         },
         {
          "font": {
           "size": 16
          },
          "showarrow": false,
          "text": "Illiterate Homeless Males vs Females",
          "x": 0.775,
          "xanchor": "center",
          "xref": "paper",
          "y": 1,
          "yanchor": "bottom",
          "yref": "paper"
         },
         {
          "font": {
           "size": 16
          },
          "showarrow": false,
          "text": "Literate Rural HL Population",
          "x": 0.225,
          "xanchor": "center",
          "xref": "paper",
          "y": 0.4375,
          "yanchor": "bottom",
          "yref": "paper"
         },
         {
          "font": {
           "size": 16
          },
          "showarrow": false,
          "text": "Literate Urban HL Population",
          "x": 0.775,
          "xanchor": "center",
          "xref": "paper",
          "y": 0.4375,
          "yanchor": "bottom",
          "yref": "paper"
         },
         {
          "font": {
           "size": 16
          },
          "showarrow": false,
          "text": "Illiterate Rural HL Population",
          "x": 0.225,
          "xanchor": "center",
          "xref": "paper",
          "y": 0.15625,
          "yanchor": "bottom",
          "yref": "paper"
         },
         {
          "font": {
           "size": 16
          },
          "showarrow": false,
          "text": "Illiterate Urban HL Population",
          "x": 0.775,
          "xanchor": "center",
          "xref": "paper",
          "y": 0.15625,
          "yanchor": "bottom",
          "yref": "paper"
         }
        ],
        "height": 1100,
        "showlegend": true,
        "template": {
         "data": {
          "bar": [
           {
            "error_x": {
             "color": "#2a3f5f"
            },
            "error_y": {
             "color": "#2a3f5f"
            },
            "marker": {
             "line": {
              "color": "#E5ECF6",
              "width": 0.5
             },
             "pattern": {
              "fillmode": "overlay",
              "size": 10,
              "solidity": 0.2
             }
            },
            "type": "bar"
           }
          ],
          "barpolar": [
           {
            "marker": {
             "line": {
              "color": "#E5ECF6",
              "width": 0.5
             },
             "pattern": {
              "fillmode": "overlay",
              "size": 10,
              "solidity": 0.2
             }
            },
            "type": "barpolar"
           }
          ],
          "carpet": [
           {
            "aaxis": {
             "endlinecolor": "#2a3f5f",
             "gridcolor": "white",
             "linecolor": "white",
             "minorgridcolor": "white",
             "startlinecolor": "#2a3f5f"
            },
            "baxis": {
             "endlinecolor": "#2a3f5f",
             "gridcolor": "white",
             "linecolor": "white",
             "minorgridcolor": "white",
             "startlinecolor": "#2a3f5f"
            },
            "type": "carpet"
           }
          ],
          "choropleth": [
           {
            "colorbar": {
             "outlinewidth": 0,
             "ticks": ""
            },
            "type": "choropleth"
           }
          ],
          "contour": [
           {
            "colorbar": {
             "outlinewidth": 0,
             "ticks": ""
            },
            "colorscale": [
             [
              0,
              "#0d0887"
             ],
             [
              0.1111111111111111,
              "#46039f"
             ],
             [
              0.2222222222222222,
              "#7201a8"
             ],
             [
              0.3333333333333333,
              "#9c179e"
             ],
             [
              0.4444444444444444,
              "#bd3786"
             ],
             [
              0.5555555555555556,
              "#d8576b"
             ],
             [
              0.6666666666666666,
              "#ed7953"
             ],
             [
              0.7777777777777778,
              "#fb9f3a"
             ],
             [
              0.8888888888888888,
              "#fdca26"
             ],
             [
              1,
              "#f0f921"
             ]
            ],
            "type": "contour"
           }
          ],
          "contourcarpet": [
           {
            "colorbar": {
             "outlinewidth": 0,
             "ticks": ""
            },
            "type": "contourcarpet"
           }
          ],
          "heatmap": [
           {
            "colorbar": {
             "outlinewidth": 0,
             "ticks": ""
            },
            "colorscale": [
             [
              0,
              "#0d0887"
             ],
             [
              0.1111111111111111,
              "#46039f"
             ],
             [
              0.2222222222222222,
              "#7201a8"
             ],
             [
              0.3333333333333333,
              "#9c179e"
             ],
             [
              0.4444444444444444,
              "#bd3786"
             ],
             [
              0.5555555555555556,
              "#d8576b"
             ],
             [
              0.6666666666666666,
              "#ed7953"
             ],
             [
              0.7777777777777778,
              "#fb9f3a"
             ],
             [
              0.8888888888888888,
              "#fdca26"
             ],
             [
              1,
              "#f0f921"
             ]
            ],
            "type": "heatmap"
           }
          ],
          "heatmapgl": [
           {
            "colorbar": {
             "outlinewidth": 0,
             "ticks": ""
            },
            "colorscale": [
             [
              0,
              "#0d0887"
             ],
             [
              0.1111111111111111,
              "#46039f"
             ],
             [
              0.2222222222222222,
              "#7201a8"
             ],
             [
              0.3333333333333333,
              "#9c179e"
             ],
             [
              0.4444444444444444,
              "#bd3786"
             ],
             [
              0.5555555555555556,
              "#d8576b"
             ],
             [
              0.6666666666666666,
              "#ed7953"
             ],
             [
              0.7777777777777778,
              "#fb9f3a"
             ],
             [
              0.8888888888888888,
              "#fdca26"
             ],
             [
              1,
              "#f0f921"
             ]
            ],
            "type": "heatmapgl"
           }
          ],
          "histogram": [
           {
            "marker": {
             "pattern": {
              "fillmode": "overlay",
              "size": 10,
              "solidity": 0.2
             }
            },
            "type": "histogram"
           }
          ],
          "histogram2d": [
           {
            "colorbar": {
             "outlinewidth": 0,
             "ticks": ""
            },
            "colorscale": [
             [
              0,
              "#0d0887"
             ],
             [
              0.1111111111111111,
              "#46039f"
             ],
             [
              0.2222222222222222,
              "#7201a8"
             ],
             [
              0.3333333333333333,
              "#9c179e"
             ],
             [
              0.4444444444444444,
              "#bd3786"
             ],
             [
              0.5555555555555556,
              "#d8576b"
             ],
             [
              0.6666666666666666,
              "#ed7953"
             ],
             [
              0.7777777777777778,
              "#fb9f3a"
             ],
             [
              0.8888888888888888,
              "#fdca26"
             ],
             [
              1,
              "#f0f921"
             ]
            ],
            "type": "histogram2d"
           }
          ],
          "histogram2dcontour": [
           {
            "colorbar": {
             "outlinewidth": 0,
             "ticks": ""
            },
            "colorscale": [
             [
              0,
              "#0d0887"
             ],
             [
              0.1111111111111111,
              "#46039f"
             ],
             [
              0.2222222222222222,
              "#7201a8"
             ],
             [
              0.3333333333333333,
              "#9c179e"
             ],
             [
              0.4444444444444444,
              "#bd3786"
             ],
             [
              0.5555555555555556,
              "#d8576b"
             ],
             [
              0.6666666666666666,
              "#ed7953"
             ],
             [
              0.7777777777777778,
              "#fb9f3a"
             ],
             [
              0.8888888888888888,
              "#fdca26"
             ],
             [
              1,
              "#f0f921"
             ]
            ],
            "type": "histogram2dcontour"
           }
          ],
          "mesh3d": [
           {
            "colorbar": {
             "outlinewidth": 0,
             "ticks": ""
            },
            "type": "mesh3d"
           }
          ],
          "parcoords": [
           {
            "line": {
             "colorbar": {
              "outlinewidth": 0,
              "ticks": ""
             }
            },
            "type": "parcoords"
           }
          ],
          "pie": [
           {
            "automargin": true,
            "type": "pie"
           }
          ],
          "scatter": [
           {
            "fillpattern": {
             "fillmode": "overlay",
             "size": 10,
             "solidity": 0.2
            },
            "type": "scatter"
           }
          ],
          "scatter3d": [
           {
            "line": {
             "colorbar": {
              "outlinewidth": 0,
              "ticks": ""
             }
            },
            "marker": {
             "colorbar": {
              "outlinewidth": 0,
              "ticks": ""
             }
            },
            "type": "scatter3d"
           }
          ],
          "scattercarpet": [
           {
            "marker": {
             "colorbar": {
              "outlinewidth": 0,
              "ticks": ""
             }
            },
            "type": "scattercarpet"
           }
          ],
          "scattergeo": [
           {
            "marker": {
             "colorbar": {
              "outlinewidth": 0,
              "ticks": ""
             }
            },
            "type": "scattergeo"
           }
          ],
          "scattergl": [
           {
            "marker": {
             "colorbar": {
              "outlinewidth": 0,
              "ticks": ""
             }
            },
            "type": "scattergl"
           }
          ],
          "scattermapbox": [
           {
            "marker": {
             "colorbar": {
              "outlinewidth": 0,
              "ticks": ""
             }
            },
            "type": "scattermapbox"
           }
          ],
          "scatterpolar": [
           {
            "marker": {
             "colorbar": {
              "outlinewidth": 0,
              "ticks": ""
             }
            },
            "type": "scatterpolar"
           }
          ],
          "scatterpolargl": [
           {
            "marker": {
             "colorbar": {
              "outlinewidth": 0,
              "ticks": ""
             }
            },
            "type": "scatterpolargl"
           }
          ],
          "scatterternary": [
           {
            "marker": {
             "colorbar": {
              "outlinewidth": 0,
              "ticks": ""
             }
            },
            "type": "scatterternary"
           }
          ],
          "surface": [
           {
            "colorbar": {
             "outlinewidth": 0,
             "ticks": ""
            },
            "colorscale": [
             [
              0,
              "#0d0887"
             ],
             [
              0.1111111111111111,
              "#46039f"
             ],
             [
              0.2222222222222222,
              "#7201a8"
             ],
             [
              0.3333333333333333,
              "#9c179e"
             ],
             [
              0.4444444444444444,
              "#bd3786"
             ],
             [
              0.5555555555555556,
              "#d8576b"
             ],
             [
              0.6666666666666666,
              "#ed7953"
             ],
             [
              0.7777777777777778,
              "#fb9f3a"
             ],
             [
              0.8888888888888888,
              "#fdca26"
             ],
             [
              1,
              "#f0f921"
             ]
            ],
            "type": "surface"
           }
          ],
          "table": [
           {
            "cells": {
             "fill": {
              "color": "#EBF0F8"
             },
             "line": {
              "color": "white"
             }
            },
            "header": {
             "fill": {
              "color": "#C8D4E3"
             },
             "line": {
              "color": "white"
             }
            },
            "type": "table"
           }
          ]
         },
         "layout": {
          "annotationdefaults": {
           "arrowcolor": "#2a3f5f",
           "arrowhead": 0,
           "arrowwidth": 1
          },
          "autotypenumbers": "strict",
          "coloraxis": {
           "colorbar": {
            "outlinewidth": 0,
            "ticks": ""
           }
          },
          "colorscale": {
           "diverging": [
            [
             0,
             "#8e0152"
            ],
            [
             0.1,
             "#c51b7d"
            ],
            [
             0.2,
             "#de77ae"
            ],
            [
             0.3,
             "#f1b6da"
            ],
            [
             0.4,
             "#fde0ef"
            ],
            [
             0.5,
             "#f7f7f7"
            ],
            [
             0.6,
             "#e6f5d0"
            ],
            [
             0.7,
             "#b8e186"
            ],
            [
             0.8,
             "#7fbc41"
            ],
            [
             0.9,
             "#4d9221"
            ],
            [
             1,
             "#276419"
            ]
           ],
           "sequential": [
            [
             0,
             "#0d0887"
            ],
            [
             0.1111111111111111,
             "#46039f"
            ],
            [
             0.2222222222222222,
             "#7201a8"
            ],
            [
             0.3333333333333333,
             "#9c179e"
            ],
            [
             0.4444444444444444,
             "#bd3786"
            ],
            [
             0.5555555555555556,
             "#d8576b"
            ],
            [
             0.6666666666666666,
             "#ed7953"
            ],
            [
             0.7777777777777778,
             "#fb9f3a"
            ],
            [
             0.8888888888888888,
             "#fdca26"
            ],
            [
             1,
             "#f0f921"
            ]
           ],
           "sequentialminus": [
            [
             0,
             "#0d0887"
            ],
            [
             0.1111111111111111,
             "#46039f"
            ],
            [
             0.2222222222222222,
             "#7201a8"
            ],
            [
             0.3333333333333333,
             "#9c179e"
            ],
            [
             0.4444444444444444,
             "#bd3786"
            ],
            [
             0.5555555555555556,
             "#d8576b"
            ],
            [
             0.6666666666666666,
             "#ed7953"
            ],
            [
             0.7777777777777778,
             "#fb9f3a"
            ],
            [
             0.8888888888888888,
             "#fdca26"
            ],
            [
             1,
             "#f0f921"
            ]
           ]
          },
          "colorway": [
           "#636efa",
           "#EF553B",
           "#00cc96",
           "#ab63fa",
           "#FFA15A",
           "#19d3f3",
           "#FF6692",
           "#B6E880",
           "#FF97FF",
           "#FECB52"
          ],
          "font": {
           "color": "#2a3f5f"
          },
          "geo": {
           "bgcolor": "white",
           "lakecolor": "white",
           "landcolor": "#E5ECF6",
           "showlakes": true,
           "showland": true,
           "subunitcolor": "white"
          },
          "hoverlabel": {
           "align": "left"
          },
          "hovermode": "closest",
          "mapbox": {
           "style": "light"
          },
          "paper_bgcolor": "white",
          "plot_bgcolor": "#E5ECF6",
          "polar": {
           "angularaxis": {
            "gridcolor": "white",
            "linecolor": "white",
            "ticks": ""
           },
           "bgcolor": "#E5ECF6",
           "radialaxis": {
            "gridcolor": "white",
            "linecolor": "white",
            "ticks": ""
           }
          },
          "scene": {
           "xaxis": {
            "backgroundcolor": "#E5ECF6",
            "gridcolor": "white",
            "gridwidth": 2,
            "linecolor": "white",
            "showbackground": true,
            "ticks": "",
            "zerolinecolor": "white"
           },
           "yaxis": {
            "backgroundcolor": "#E5ECF6",
            "gridcolor": "white",
            "gridwidth": 2,
            "linecolor": "white",
            "showbackground": true,
            "ticks": "",
            "zerolinecolor": "white"
           },
           "zaxis": {
            "backgroundcolor": "#E5ECF6",
            "gridcolor": "white",
            "gridwidth": 2,
            "linecolor": "white",
            "showbackground": true,
            "ticks": "",
            "zerolinecolor": "white"
           }
          },
          "shapedefaults": {
           "line": {
            "color": "#2a3f5f"
           }
          },
          "ternary": {
           "aaxis": {
            "gridcolor": "white",
            "linecolor": "white",
            "ticks": ""
           },
           "baxis": {
            "gridcolor": "white",
            "linecolor": "white",
            "ticks": ""
           },
           "bgcolor": "#E5ECF6",
           "caxis": {
            "gridcolor": "white",
            "linecolor": "white",
            "ticks": ""
           }
          },
          "title": {
           "x": 0.05
          },
          "xaxis": {
           "automargin": true,
           "gridcolor": "white",
           "linecolor": "white",
           "ticks": "",
           "title": {
            "standoff": 15
           },
           "zerolinecolor": "white",
           "zerolinewidth": 2
          },
          "yaxis": {
           "automargin": true,
           "gridcolor": "white",
           "linecolor": "white",
           "ticks": "",
           "title": {
            "standoff": 15
           },
           "zerolinecolor": "white",
           "zerolinewidth": 2
          }
         }
        },
        "title": {
         "text": "Homelessness according to Literacy Rural vs Urban Areas"
        }
       }
      }
     },
     "metadata": {},
     "output_type": "display_data"
    }
   ],
   "source": [
    "#Gender based homelessness depending on Literacy throughout the country\n",
    "fig3_ = make_subplots(rows=4, cols=2, specs = [[{'type':'domain', 'rowspan':2}, {'type':'domain', 'rowspan':2}] ,[None, None], [{'type':'domain'}, {'type':'domain'}],[{'type':'domain'}, {'type':'domain'}]] , subplot_titles=['Literate Homeless Males vs Females', 'Illiterate Homeless Males vs Females' , 'Literate Rural HL Population' , 'Literate Urban HL Population' , 'Illiterate Rural HL Population' , 'Illiterate Urban HL Population'])\n",
    "fig3_1 = go.Pie(values= [int(df3_[(df3_['TRU'] == 'Rural')]['M_LIT']) , int(df3_[df3_['TRU'] == 'Rural']['F_LIT'])] , labels=['M_LIT', 'F_LIT'])\n",
    "fig3_2 = go.Pie(values= [int(df3_[(df3_['TRU'] == 'Urban')]['M_LIT']) , int(df3_[df3_['TRU'] == 'Urban']['F_LIT'])] , labels=['M_LIT', 'F_LIT'])\n",
    "fig3_3 = go.Pie(values= [int(df3_[(df3_['TRU'] == 'Rural')]['M_ILL']) , int(df3_[df3_['TRU'] == 'Rural']['F_ILL'])] , labels=['M_ILL', 'F_ILL'])\n",
    "fig3_4 = go.Pie(values= [int(df3_[(df3_['TRU'] == 'Urban')]['M_ILL']) , int(df3_[df3_['TRU'] == 'Urban']['F_ILL'])] , labels=['M_ILL', 'F_ILL'])\n",
    "fig3_5 = go.Pie(values= [int(df3_[(df3_['TRU'] == 'Total')]['M_LIT']) , int(df3_[df3_['TRU'] == 'Total']['F_LIT'])] , labels=['M_LIT', 'F_LIT'])\n",
    "fig3_6 = go.Pie(values= [int(df3_[(df3_['TRU'] == 'Total')]['M_ILL']) , int(df3_[df3_['TRU'] == 'Total']['F_ILL'])] , labels=['M_ILL', 'F_ILL'])\n",
    "\n",
    "fig3_.add_trace(fig3_5, 1, 1)\n",
    "fig3_.add_trace(fig3_6, 1, 2)\n",
    "fig3_.add_trace(fig3_1 , 3, 1)\n",
    "fig3_.add_trace(fig3_2 , 3, 2)\n",
    "fig3_.add_trace(fig3_3 , 4, 1)\n",
    "fig3_.add_trace(fig3_4,  4, 2)\n",
    "\n",
    "fig3_.update_layout(title_text='''Homelessness according to Literacy Rural vs Urban Areas''' , height=1100, showlegend=True)\n",
    "\n",
    "#fig3_ = go.Figure(fig3_)\n",
    "fig3_.show()"
   ]
  },
  {
   "attachments": {},
   "cell_type": "markdown",
   "metadata": {},
   "source": [
    "<h1 class align = 'center'> Inferences for Homelessness based on literacy combined with gender</h1>\n",
    "<h3>Looking at the above charts, we can see that</h3>\n",
    "<ol>\n",
    "    <li> Among the Total Literate Homeless Population (~588.3k), Homeless males (~404.47k) comprise of about 68.7% in Literate Homelessness while Homeless females (~183.91k) comprise about 31.3% in Literate Homelessness.<t> \n",
    "        <ol class type = 'a'> <br>\n",
    "            <li>There are more Literate Homeless Males than the Literate Homeless Females in Rural Areas as well as Urban Areas. <br> <t>\n",
    "                <ul>\n",
    "                    <li>~89.42k Literate Homeless Females (~35.6%) vs ~162k Literate Homeless Males(~64.4%) in Rural areas.</li>\n",
    "                    <li>~94.5k Literate Homeless Females (~28%) vs ~242.45k Literate Homeless Males (~72%) in Urban areas. </li>\n",
    "                    <li> A quarter of literate Homeless population is Females in above graphs, thus Literate males are more prone to Homelessness in both Urban and Rural areas.</li><br>\n",
    "                </ul>\n",
    "            <li>There are more or less the number of Illiterate Homeless Males and Females in Rural as well as Urban areas.\n",
    "                <ul>\n",
    "                    <li>~282.43k Illiterate Homeless Males (~48.4%) vs ~300.81k Illiterate Homeless Females (~51.6%) in Rural areas. </li>\n",
    "                    <li>~241.43k Illiterate Homeless Females (~40.1%) vs ~359.9k Illiterate Homeless Males (~59.9%) in Urban areas. </li>\n",
    "                    <li> Thus Illiterate females in Rural areaas are more skeptical to be Homeless and Illiterate Males in Urban areas are more prone to go homeless.</li>\n",
    "                </ul>\n",
    "            <li>\n",
    "        </ol>\n",
    "</ol>"
   ]
  },
  {
   "attachments": {},
   "cell_type": "markdown",
   "metadata": {},
   "source": [
    "Lets dive deeper into the Literacy based homelessness and assess the role of Gender in Homelessness and type of place where Homeless people originate."
   ]
  },
  {
   "cell_type": "code",
   "execution_count": 22,
   "metadata": {},
   "outputs": [
    {
     "data": {
      "text/html": [
       "<div>\n",
       "<style scoped>\n",
       "    .dataframe tbody tr th:only-of-type {\n",
       "        vertical-align: middle;\n",
       "    }\n",
       "\n",
       "    .dataframe tbody tr th {\n",
       "        vertical-align: top;\n",
       "    }\n",
       "\n",
       "    .dataframe thead th {\n",
       "        text-align: right;\n",
       "    }\n",
       "</style>\n",
       "<table border=\"1\" class=\"dataframe\">\n",
       "  <thead>\n",
       "    <tr style=\"text-align: right;\">\n",
       "      <th></th>\n",
       "      <th>Name</th>\n",
       "      <th>TRU</th>\n",
       "      <th>P_LIT</th>\n",
       "      <th>M_LIT</th>\n",
       "      <th>F_LIT</th>\n",
       "      <th>P_ILL</th>\n",
       "      <th>M_ILL</th>\n",
       "      <th>F_ILL</th>\n",
       "    </tr>\n",
       "  </thead>\n",
       "  <tbody>\n",
       "    <tr>\n",
       "      <th>3</th>\n",
       "      <td>JAMMU &amp; KASHMIR</td>\n",
       "      <td>Total</td>\n",
       "      <td>4688</td>\n",
       "      <td>3015</td>\n",
       "      <td>1673</td>\n",
       "      <td>14359</td>\n",
       "      <td>7509</td>\n",
       "      <td>6850</td>\n",
       "    </tr>\n",
       "    <tr>\n",
       "      <th>4</th>\n",
       "      <td>JAMMU &amp; KASHMIR</td>\n",
       "      <td>Rural</td>\n",
       "      <td>1984</td>\n",
       "      <td>1300</td>\n",
       "      <td>684</td>\n",
       "      <td>6215</td>\n",
       "      <td>3165</td>\n",
       "      <td>3050</td>\n",
       "    </tr>\n",
       "    <tr>\n",
       "      <th>5</th>\n",
       "      <td>JAMMU &amp; KASHMIR</td>\n",
       "      <td>Urban</td>\n",
       "      <td>2704</td>\n",
       "      <td>1715</td>\n",
       "      <td>989</td>\n",
       "      <td>8144</td>\n",
       "      <td>4344</td>\n",
       "      <td>3800</td>\n",
       "    </tr>\n",
       "    <tr>\n",
       "      <th>6</th>\n",
       "      <td>Kupwara</td>\n",
       "      <td>Total</td>\n",
       "      <td>212</td>\n",
       "      <td>153</td>\n",
       "      <td>59</td>\n",
       "      <td>283</td>\n",
       "      <td>135</td>\n",
       "      <td>148</td>\n",
       "    </tr>\n",
       "    <tr>\n",
       "      <th>7</th>\n",
       "      <td>Kupwara</td>\n",
       "      <td>Rural</td>\n",
       "      <td>175</td>\n",
       "      <td>123</td>\n",
       "      <td>52</td>\n",
       "      <td>249</td>\n",
       "      <td>116</td>\n",
       "      <td>133</td>\n",
       "    </tr>\n",
       "    <tr>\n",
       "      <th>...</th>\n",
       "      <td>...</td>\n",
       "      <td>...</td>\n",
       "      <td>...</td>\n",
       "      <td>...</td>\n",
       "      <td>...</td>\n",
       "      <td>...</td>\n",
       "      <td>...</td>\n",
       "      <td>...</td>\n",
       "    </tr>\n",
       "    <tr>\n",
       "      <th>2005</th>\n",
       "      <td>North  &amp; Middle Andaman</td>\n",
       "      <td>Rural</td>\n",
       "      <td>8</td>\n",
       "      <td>8</td>\n",
       "      <td>0</td>\n",
       "      <td>4</td>\n",
       "      <td>3</td>\n",
       "      <td>1</td>\n",
       "    </tr>\n",
       "    <tr>\n",
       "      <th>2006</th>\n",
       "      <td>North  &amp; Middle Andaman</td>\n",
       "      <td>Urban</td>\n",
       "      <td>1</td>\n",
       "      <td>1</td>\n",
       "      <td>0</td>\n",
       "      <td>0</td>\n",
       "      <td>0</td>\n",
       "      <td>0</td>\n",
       "    </tr>\n",
       "    <tr>\n",
       "      <th>2007</th>\n",
       "      <td>South Andaman</td>\n",
       "      <td>Total</td>\n",
       "      <td>49</td>\n",
       "      <td>43</td>\n",
       "      <td>6</td>\n",
       "      <td>31</td>\n",
       "      <td>23</td>\n",
       "      <td>8</td>\n",
       "    </tr>\n",
       "    <tr>\n",
       "      <th>2008</th>\n",
       "      <td>South Andaman</td>\n",
       "      <td>Rural</td>\n",
       "      <td>14</td>\n",
       "      <td>10</td>\n",
       "      <td>4</td>\n",
       "      <td>2</td>\n",
       "      <td>2</td>\n",
       "      <td>0</td>\n",
       "    </tr>\n",
       "    <tr>\n",
       "      <th>2009</th>\n",
       "      <td>South Andaman</td>\n",
       "      <td>Urban</td>\n",
       "      <td>35</td>\n",
       "      <td>33</td>\n",
       "      <td>2</td>\n",
       "      <td>29</td>\n",
       "      <td>21</td>\n",
       "      <td>8</td>\n",
       "    </tr>\n",
       "  </tbody>\n",
       "</table>\n",
       "<p>2007 rows × 8 columns</p>\n",
       "</div>"
      ],
      "text/plain": [
       "                         Name    TRU  P_LIT  M_LIT  F_LIT  P_ILL  M_ILL  F_ILL\n",
       "3             JAMMU & KASHMIR  Total   4688   3015   1673  14359   7509   6850\n",
       "4             JAMMU & KASHMIR  Rural   1984   1300    684   6215   3165   3050\n",
       "5             JAMMU & KASHMIR  Urban   2704   1715    989   8144   4344   3800\n",
       "6                     Kupwara  Total    212    153     59    283    135    148\n",
       "7                     Kupwara  Rural    175    123     52    249    116    133\n",
       "...                       ...    ...    ...    ...    ...    ...    ...    ...\n",
       "2005  North  & Middle Andaman  Rural      8      8      0      4      3      1\n",
       "2006  North  & Middle Andaman  Urban      1      1      0      0      0      0\n",
       "2007            South Andaman  Total     49     43      6     31     23      8\n",
       "2008            South Andaman  Rural     14     10      4      2      2      0\n",
       "2009            South Andaman  Urban     35     33      2     29     21      8\n",
       "\n",
       "[2007 rows x 8 columns]"
      ]
     },
     "execution_count": 22,
     "metadata": {},
     "output_type": "execute_result"
    }
   ],
   "source": [
    "#getting our relevant data frame ready!\n",
    "df3 = pd.DataFrame(dataset[dataset['Name']!='India'] , columns=['Name','TRU' , 'P_LIT',\"M_LIT\",\"F_LIT\",\"P_ILL\",\"M_ILL\",\"F_ILL\"])\n",
    "df3"
   ]
  },
  {
   "cell_type": "code",
   "execution_count": 23,
   "metadata": {},
   "outputs": [
    {
     "name": "stdout",
     "output_type": "stream",
     "text": [
      "['Label', 'Areaname', 'Residence(Total/Urban/Rural)', 'Numberofhouseholds', 'Population-Total', 'Population-Male', 'Population-Female', 'Population0-6yearsold', 'Population0-6yearsold-Male', 'Population0-6yearsold-Female', 'Populationofscheduledcastes-Total', 'Populationofscheduledcastes-Male', 'Populationofscheduledcastes-Female', 'Populationofscheduledtribes-Total', 'Populationofscheduledtribes-Male', 'Populationofscheduledtribes-Female', 'Population-Literate', 'Population-Literate-Male', 'Population-Literate-Female', 'Population-Illiterate', 'Population-Illiterate-Male', 'Population-Illiterate-Female', 'Workers-Total', 'Workers-Male', 'Workers-Female', 'Mainworker-Total', 'Mainworker-Male', 'Mainworker-Female', 'Mainworker,cultivator-Total', 'Mainworker,cultivator-Male', 'Mainworker,cultivator-Female', 'Mainworker,agriculturallabourer-Total', 'Mainworker,agriculturallabourer-Male', 'Mainworker,agriculturallabourer-Female', 'Mainworker,householdindustry-Total', 'Mainworker,householdindustry-Male', 'Mainworker,householdindustry-Female', 'Mainworker,other-Total', 'Mainworker,other-Male', 'Mainworker,other-Female', 'Marginalworker-Total', 'Marginalworker-Male', 'Marginalworker-Female', 'Marginalworker,cultivator-Total', 'Marginalworker,cultivator-Male', 'Marginalworker,cultivator-Female', 'Marginalworker,agriculturallabourer-Total', 'Marginalworker,agriculturallabourer-Male', 'Marginalworker,agriculturallabourer-Female', 'Marginalworker,householdindustry-Total', 'Marginalworker,householdindustry-Male', 'Marginalworker,householdindustry-Female', 'Marginalworker,other-Total', 'Marginalworker,other-Male', 'Marginalworker,other-Female', 'Marginalworker(3to6months)-Total', 'Marginalworker(3to6months)-Male', 'Marginalworker(3to6months)-Female', 'Marginalworker(3to6months),cultivator-Total', 'Marginalworker(3to6months),cultivator-Male', 'Marginalworker(3to6months),cultivator-Female', 'Marginalworker(3to6months),agriculturallabourer-Total', 'Marginalworker(3to6months),agriculturallabourer-Male', 'Marginalworker(3to6months),agriculturallabourer-Female', 'Marginalworker(3to6months),householdindustry-Total', 'Marginalworker(3to6months),householdindustry-Male', 'Marginalworker(3to6months),householdindustry-Female', 'Marginalworker(3to6months),other-Total', 'Marginalworker(3to6months),other-Male', 'Marginalworker(3to6months),other-Female', 'Marginalworker(0to3months)-Total', 'Marginalworker(0to3months)-Male', 'Marginalworker(0to3months)-Female', 'Marginalworker(0to3months),cultivator-Total', 'Marginalworker(0to3months),cultivator-Male', 'Marginalworker(0to3months),cultivator-Female', 'Marginalworker(0to3months),agriculturallabourer-Total', 'Marginalworker(0to3months),agriculturallabourer-Male', 'Marginalworker(0to3months),agriculturallabourer-Female', 'Marginalworker(0to3months),householdindustry-Total', 'Marginalworker(0to3months),householdindustry-Male', 'Marginalworker(0to3months),householdindustry-Female', 'Marginalworker(0to3months),other-Total', 'Marginalworker(0to3months),other-Male', 'Marginalworker(0to3months),other-Female', 'Nonworker-Total', 'Nonworker-Male', 'Nonworker-Female']\n"
     ]
    }
   ],
   "source": [
    "# importing a WebScrap python file of features from the soup file.\n",
    "from soup import __main__\n",
    "__main__()"
   ]
  },
  {
   "cell_type": "code",
   "execution_count": null,
   "metadata": {},
   "outputs": [],
   "source": []
  }
 ],
 "metadata": {
  "kernelspec": {
   "display_name": "Python 3",
   "language": "python",
   "name": "python3"
  },
  "language_info": {
   "codemirror_mode": {
    "name": "ipython",
    "version": 3
   },
   "file_extension": ".py",
   "mimetype": "text/x-python",
   "name": "python",
   "nbconvert_exporter": "python",
   "pygments_lexer": "ipython3",
   "version": "3.8.10"
  },
  "orig_nbformat": 4
 },
 "nbformat": 4,
 "nbformat_minor": 2
}
